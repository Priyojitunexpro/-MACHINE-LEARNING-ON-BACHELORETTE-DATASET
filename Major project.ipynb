{
 "cells": [
  {
   "cell_type": "code",
   "execution_count": 237,
   "metadata": {},
   "outputs": [],
   "source": [
    "import numpy as np # linear algebra\n",
    "import pandas as pd # data processing, CSV file I/O (e.g. pd.read_csv)\n",
    "import matplotlib.pyplot as plt\n",
    "import seaborn as sns"
   ]
  },
  {
   "cell_type": "code",
   "execution_count": 238,
   "metadata": {},
   "outputs": [],
   "source": [
    "df = pd.read_csv(\"BacheloretteDSFinal-Dogu.csv\")"
   ]
  },
  {
   "cell_type": "code",
   "execution_count": 239,
   "metadata": {},
   "outputs": [
    {
     "data": {
      "text/html": [
       "<div>\n",
       "<style scoped>\n",
       "    .dataframe tbody tr th:only-of-type {\n",
       "        vertical-align: middle;\n",
       "    }\n",
       "\n",
       "    .dataframe tbody tr th {\n",
       "        vertical-align: top;\n",
       "    }\n",
       "\n",
       "    .dataframe thead th {\n",
       "        text-align: right;\n",
       "    }\n",
       "</style>\n",
       "<table border=\"1\" class=\"dataframe\">\n",
       "  <thead>\n",
       "    <tr style=\"text-align: right;\">\n",
       "      <th></th>\n",
       "      <th>Season</th>\n",
       "      <th>Name</th>\n",
       "      <th>Age</th>\n",
       "      <th>Hometown</th>\n",
       "      <th>State</th>\n",
       "      <th>College</th>\n",
       "      <th>Occupation</th>\n",
       "      <th>Win_Loss</th>\n",
       "      <th>Height (cm)</th>\n",
       "      <th>Girlfriend While on the Show?</th>\n",
       "      <th>Hair Color</th>\n",
       "      <th>Eye Color</th>\n",
       "    </tr>\n",
       "  </thead>\n",
       "  <tbody>\n",
       "    <tr>\n",
       "      <th>0</th>\n",
       "      <td>15.0</td>\n",
       "      <td>Jed Wyatt</td>\n",
       "      <td>25.0</td>\n",
       "      <td>Sevierville, Tennessee</td>\n",
       "      <td>TN</td>\n",
       "      <td>Belmont University</td>\n",
       "      <td>Singer/Sonwriter</td>\n",
       "      <td>1.0</td>\n",
       "      <td>190.50</td>\n",
       "      <td>Yes</td>\n",
       "      <td>Brown</td>\n",
       "      <td>Brown</td>\n",
       "    </tr>\n",
       "    <tr>\n",
       "      <th>1</th>\n",
       "      <td>15.0</td>\n",
       "      <td>Tyler Cameron</td>\n",
       "      <td>26.0</td>\n",
       "      <td>Jupiter, Florida</td>\n",
       "      <td>FL</td>\n",
       "      <td>Wake Forest</td>\n",
       "      <td>General Contractor</td>\n",
       "      <td>0.0</td>\n",
       "      <td>187.96</td>\n",
       "      <td>No</td>\n",
       "      <td>Brown</td>\n",
       "      <td>Green</td>\n",
       "    </tr>\n",
       "    <tr>\n",
       "      <th>2</th>\n",
       "      <td>15.0</td>\n",
       "      <td>Peter Weber</td>\n",
       "      <td>27.0</td>\n",
       "      <td>Westlake Village, California</td>\n",
       "      <td>CA</td>\n",
       "      <td>Baylor University</td>\n",
       "      <td>Pilot</td>\n",
       "      <td>0.0</td>\n",
       "      <td>175.25</td>\n",
       "      <td>No</td>\n",
       "      <td>Brown</td>\n",
       "      <td>Brown</td>\n",
       "    </tr>\n",
       "    <tr>\n",
       "      <th>3</th>\n",
       "      <td>15.0</td>\n",
       "      <td>Luke Parker</td>\n",
       "      <td>24.0</td>\n",
       "      <td>Gainesville, Georgia</td>\n",
       "      <td>GA</td>\n",
       "      <td>Faulkner University</td>\n",
       "      <td>Import/Export Manager</td>\n",
       "      <td>0.0</td>\n",
       "      <td>175.00</td>\n",
       "      <td>No</td>\n",
       "      <td>Blonde</td>\n",
       "      <td>Brown</td>\n",
       "    </tr>\n",
       "    <tr>\n",
       "      <th>4</th>\n",
       "      <td>15.0</td>\n",
       "      <td>Garrett Powell</td>\n",
       "      <td>27.0</td>\n",
       "      <td>Homewood, Alabama</td>\n",
       "      <td>AL</td>\n",
       "      <td>Mississippi State University</td>\n",
       "      <td>Golf Pro</td>\n",
       "      <td>0.0</td>\n",
       "      <td>NaN</td>\n",
       "      <td>No</td>\n",
       "      <td>Brown</td>\n",
       "      <td>Green</td>\n",
       "    </tr>\n",
       "  </tbody>\n",
       "</table>\n",
       "</div>"
      ],
      "text/plain": [
       "   Season            Name   Age                      Hometown State  \\\n",
       "0    15.0       Jed Wyatt  25.0        Sevierville, Tennessee    TN   \n",
       "1    15.0   Tyler Cameron  26.0              Jupiter, Florida    FL   \n",
       "2    15.0     Peter Weber  27.0  Westlake Village, California    CA   \n",
       "3    15.0     Luke Parker  24.0          Gainesville, Georgia    GA   \n",
       "4    15.0  Garrett Powell  27.0             Homewood, Alabama    AL   \n",
       "\n",
       "                        College             Occupation  Win_Loss  Height (cm)  \\\n",
       "0            Belmont University       Singer/Sonwriter       1.0       190.50   \n",
       "1                   Wake Forest     General Contractor       0.0       187.96   \n",
       "2             Baylor University                  Pilot       0.0       175.25   \n",
       "3           Faulkner University  Import/Export Manager       0.0       175.00   \n",
       "4  Mississippi State University               Golf Pro       0.0          NaN   \n",
       "\n",
       "  Girlfriend While on the Show? Hair Color Eye Color  \n",
       "0                           Yes      Brown     Brown  \n",
       "1                            No      Brown     Green  \n",
       "2                            No      Brown     Brown  \n",
       "3                            No     Blonde     Brown  \n",
       "4                            No      Brown     Green  "
      ]
     },
     "execution_count": 239,
     "metadata": {},
     "output_type": "execute_result"
    }
   ],
   "source": [
    "df.head()"
   ]
  },
  {
   "cell_type": "code",
   "execution_count": 240,
   "metadata": {},
   "outputs": [
    {
     "data": {
      "text/html": [
       "<div>\n",
       "<style scoped>\n",
       "    .dataframe tbody tr th:only-of-type {\n",
       "        vertical-align: middle;\n",
       "    }\n",
       "\n",
       "    .dataframe tbody tr th {\n",
       "        vertical-align: top;\n",
       "    }\n",
       "\n",
       "    .dataframe thead th {\n",
       "        text-align: right;\n",
       "    }\n",
       "</style>\n",
       "<table border=\"1\" class=\"dataframe\">\n",
       "  <thead>\n",
       "    <tr style=\"text-align: right;\">\n",
       "      <th></th>\n",
       "      <th>Season</th>\n",
       "      <th>Age</th>\n",
       "      <th>Win_Loss</th>\n",
       "      <th>Height (cm)</th>\n",
       "    </tr>\n",
       "  </thead>\n",
       "  <tbody>\n",
       "    <tr>\n",
       "      <th>count</th>\n",
       "      <td>141.000000</td>\n",
       "      <td>141.000000</td>\n",
       "      <td>141.000000</td>\n",
       "      <td>101.000000</td>\n",
       "    </tr>\n",
       "    <tr>\n",
       "      <th>mean</th>\n",
       "      <td>13.070922</td>\n",
       "      <td>28.539007</td>\n",
       "      <td>0.035461</td>\n",
       "      <td>184.799802</td>\n",
       "    </tr>\n",
       "    <tr>\n",
       "      <th>std</th>\n",
       "      <td>1.407355</td>\n",
       "      <td>2.705861</td>\n",
       "      <td>0.185601</td>\n",
       "      <td>5.692313</td>\n",
       "    </tr>\n",
       "    <tr>\n",
       "      <th>min</th>\n",
       "      <td>11.000000</td>\n",
       "      <td>23.000000</td>\n",
       "      <td>0.000000</td>\n",
       "      <td>170.000000</td>\n",
       "    </tr>\n",
       "    <tr>\n",
       "      <th>25%</th>\n",
       "      <td>12.000000</td>\n",
       "      <td>27.000000</td>\n",
       "      <td>0.000000</td>\n",
       "      <td>180.330000</td>\n",
       "    </tr>\n",
       "    <tr>\n",
       "      <th>50%</th>\n",
       "      <td>13.000000</td>\n",
       "      <td>28.000000</td>\n",
       "      <td>0.000000</td>\n",
       "      <td>185.420000</td>\n",
       "    </tr>\n",
       "    <tr>\n",
       "      <th>75%</th>\n",
       "      <td>14.000000</td>\n",
       "      <td>30.000000</td>\n",
       "      <td>0.000000</td>\n",
       "      <td>188.000000</td>\n",
       "    </tr>\n",
       "    <tr>\n",
       "      <th>max</th>\n",
       "      <td>15.000000</td>\n",
       "      <td>37.000000</td>\n",
       "      <td>1.000000</td>\n",
       "      <td>198.120000</td>\n",
       "    </tr>\n",
       "  </tbody>\n",
       "</table>\n",
       "</div>"
      ],
      "text/plain": [
       "           Season         Age    Win_Loss  Height (cm)\n",
       "count  141.000000  141.000000  141.000000   101.000000\n",
       "mean    13.070922   28.539007    0.035461   184.799802\n",
       "std      1.407355    2.705861    0.185601     5.692313\n",
       "min     11.000000   23.000000    0.000000   170.000000\n",
       "25%     12.000000   27.000000    0.000000   180.330000\n",
       "50%     13.000000   28.000000    0.000000   185.420000\n",
       "75%     14.000000   30.000000    0.000000   188.000000\n",
       "max     15.000000   37.000000    1.000000   198.120000"
      ]
     },
     "execution_count": 240,
     "metadata": {},
     "output_type": "execute_result"
    }
   ],
   "source": [
    "df.describe()"
   ]
  },
  {
   "cell_type": "code",
   "execution_count": 241,
   "metadata": {},
   "outputs": [
    {
     "name": "stdout",
     "output_type": "stream",
     "text": [
      "<class 'pandas.core.frame.DataFrame'>\n",
      "RangeIndex: 154 entries, 0 to 153\n",
      "Data columns (total 12 columns):\n",
      " #   Column                         Non-Null Count  Dtype  \n",
      "---  ------                         --------------  -----  \n",
      " 0   Season                         141 non-null    float64\n",
      " 1   Name                           141 non-null    object \n",
      " 2   Age                            141 non-null    float64\n",
      " 3   Hometown                       141 non-null    object \n",
      " 4   State                          141 non-null    object \n",
      " 5   College                        140 non-null    object \n",
      " 6   Occupation                     141 non-null    object \n",
      " 7   Win_Loss                       141 non-null    float64\n",
      " 8   Height (cm)                    101 non-null    float64\n",
      " 9   Girlfriend While on the Show?  141 non-null    object \n",
      " 10  Hair Color                     141 non-null    object \n",
      " 11  Eye Color                      141 non-null    object \n",
      "dtypes: float64(4), object(8)\n",
      "memory usage: 14.6+ KB\n"
     ]
    }
   ],
   "source": [
    "df.info()"
   ]
  },
  {
   "cell_type": "code",
   "execution_count": 242,
   "metadata": {},
   "outputs": [
    {
     "data": {
      "text/plain": [
       "Season                           13\n",
       "Name                             13\n",
       "Age                              13\n",
       "Hometown                         13\n",
       "State                            13\n",
       "College                          14\n",
       "Occupation                       13\n",
       "Win_Loss                         13\n",
       "Height (cm)                      53\n",
       "Girlfriend While on the Show?    13\n",
       "Hair Color                       13\n",
       "Eye Color                        13\n",
       "dtype: int64"
      ]
     },
     "execution_count": 242,
     "metadata": {},
     "output_type": "execute_result"
    }
   ],
   "source": [
    "df.isnull().sum()"
   ]
  },
  {
   "cell_type": "code",
   "execution_count": 243,
   "metadata": {},
   "outputs": [],
   "source": [
    "df.drop_duplicates(inplace=True)"
   ]
  },
  {
   "cell_type": "code",
   "execution_count": 244,
   "metadata": {},
   "outputs": [
    {
     "data": {
      "text/plain": [
       "Season                            1\n",
       "Name                              1\n",
       "Age                               1\n",
       "Hometown                          1\n",
       "State                             1\n",
       "College                           2\n",
       "Occupation                        1\n",
       "Win_Loss                          1\n",
       "Height (cm)                      41\n",
       "Girlfriend While on the Show?     1\n",
       "Hair Color                        1\n",
       "Eye Color                         1\n",
       "dtype: int64"
      ]
     },
     "execution_count": 244,
     "metadata": {},
     "output_type": "execute_result"
    }
   ],
   "source": [
    "df.isnull().sum()"
   ]
  },
  {
   "cell_type": "code",
   "execution_count": 245,
   "metadata": {},
   "outputs": [
    {
     "data": {
      "text/html": [
       "<div>\n",
       "<style scoped>\n",
       "    .dataframe tbody tr th:only-of-type {\n",
       "        vertical-align: middle;\n",
       "    }\n",
       "\n",
       "    .dataframe tbody tr th {\n",
       "        vertical-align: top;\n",
       "    }\n",
       "\n",
       "    .dataframe thead th {\n",
       "        text-align: right;\n",
       "    }\n",
       "</style>\n",
       "<table border=\"1\" class=\"dataframe\">\n",
       "  <thead>\n",
       "    <tr style=\"text-align: right;\">\n",
       "      <th></th>\n",
       "      <th>Season</th>\n",
       "      <th>Name</th>\n",
       "      <th>Age</th>\n",
       "      <th>Hometown</th>\n",
       "      <th>State</th>\n",
       "      <th>College</th>\n",
       "      <th>Occupation</th>\n",
       "      <th>Win_Loss</th>\n",
       "      <th>Height (cm)</th>\n",
       "      <th>Girlfriend While on the Show?</th>\n",
       "      <th>Hair Color</th>\n",
       "      <th>Eye Color</th>\n",
       "    </tr>\n",
       "  </thead>\n",
       "  <tbody>\n",
       "    <tr>\n",
       "      <th>141</th>\n",
       "      <td>NaN</td>\n",
       "      <td>NaN</td>\n",
       "      <td>NaN</td>\n",
       "      <td>NaN</td>\n",
       "      <td>NaN</td>\n",
       "      <td>NaN</td>\n",
       "      <td>NaN</td>\n",
       "      <td>NaN</td>\n",
       "      <td>NaN</td>\n",
       "      <td>NaN</td>\n",
       "      <td>NaN</td>\n",
       "      <td>NaN</td>\n",
       "    </tr>\n",
       "  </tbody>\n",
       "</table>\n",
       "</div>"
      ],
      "text/plain": [
       "     Season Name  Age Hometown State College Occupation  Win_Loss  \\\n",
       "141     NaN  NaN  NaN      NaN   NaN     NaN        NaN       NaN   \n",
       "\n",
       "     Height (cm) Girlfriend While on the Show? Hair Color Eye Color  \n",
       "141          NaN                           NaN        NaN       NaN  "
      ]
     },
     "execution_count": 245,
     "metadata": {},
     "output_type": "execute_result"
    }
   ],
   "source": [
    "df[df[\"Season\"].isnull()]"
   ]
  },
  {
   "cell_type": "code",
   "execution_count": 246,
   "metadata": {},
   "outputs": [],
   "source": [
    "df.dropna(how='all',inplace=True)"
   ]
  },
  {
   "cell_type": "code",
   "execution_count": 247,
   "metadata": {},
   "outputs": [
    {
     "data": {
      "text/plain": [
       "(141, 12)"
      ]
     },
     "execution_count": 247,
     "metadata": {},
     "output_type": "execute_result"
    }
   ],
   "source": [
    "df.shape"
   ]
  },
  {
   "cell_type": "code",
   "execution_count": 248,
   "metadata": {},
   "outputs": [
    {
     "data": {
      "text/plain": [
       "Season                            0\n",
       "Name                              0\n",
       "Age                               0\n",
       "Hometown                          0\n",
       "State                             0\n",
       "College                           1\n",
       "Occupation                        0\n",
       "Win_Loss                          0\n",
       "Height (cm)                      40\n",
       "Girlfriend While on the Show?     0\n",
       "Hair Color                        0\n",
       "Eye Color                         0\n",
       "dtype: int64"
      ]
     },
     "execution_count": 248,
     "metadata": {},
     "output_type": "execute_result"
    }
   ],
   "source": [
    "df.isnull().sum()"
   ]
  },
  {
   "cell_type": "code",
   "execution_count": 249,
   "metadata": {},
   "outputs": [
    {
     "data": {
      "text/html": [
       "<div>\n",
       "<style scoped>\n",
       "    .dataframe tbody tr th:only-of-type {\n",
       "        vertical-align: middle;\n",
       "    }\n",
       "\n",
       "    .dataframe tbody tr th {\n",
       "        vertical-align: top;\n",
       "    }\n",
       "\n",
       "    .dataframe thead th {\n",
       "        text-align: right;\n",
       "    }\n",
       "</style>\n",
       "<table border=\"1\" class=\"dataframe\">\n",
       "  <thead>\n",
       "    <tr style=\"text-align: right;\">\n",
       "      <th></th>\n",
       "      <th>Season</th>\n",
       "      <th>Name</th>\n",
       "      <th>Age</th>\n",
       "      <th>Hometown</th>\n",
       "      <th>State</th>\n",
       "      <th>College</th>\n",
       "      <th>Occupation</th>\n",
       "      <th>Win_Loss</th>\n",
       "      <th>Height (cm)</th>\n",
       "      <th>Girlfriend While on the Show?</th>\n",
       "      <th>Hair Color</th>\n",
       "      <th>Eye Color</th>\n",
       "    </tr>\n",
       "  </thead>\n",
       "  <tbody>\n",
       "    <tr>\n",
       "      <th>5</th>\n",
       "      <td>15.0</td>\n",
       "      <td>Mike Johnson</td>\n",
       "      <td>31.0</td>\n",
       "      <td>San Antonio, Texas</td>\n",
       "      <td>TX</td>\n",
       "      <td>NaN</td>\n",
       "      <td>Portfolio Manager</td>\n",
       "      <td>0.0</td>\n",
       "      <td>180.0</td>\n",
       "      <td>No</td>\n",
       "      <td>Brown</td>\n",
       "      <td>Brown</td>\n",
       "    </tr>\n",
       "  </tbody>\n",
       "</table>\n",
       "</div>"
      ],
      "text/plain": [
       "   Season          Name   Age            Hometown State College  \\\n",
       "5    15.0  Mike Johnson  31.0  San Antonio, Texas    TX     NaN   \n",
       "\n",
       "          Occupation  Win_Loss  Height (cm) Girlfriend While on the Show?  \\\n",
       "5  Portfolio Manager       0.0        180.0                            No   \n",
       "\n",
       "  Hair Color Eye Color  \n",
       "5      Brown     Brown  "
      ]
     },
     "execution_count": 249,
     "metadata": {},
     "output_type": "execute_result"
    }
   ],
   "source": [
    "df[df[\"College\"].isnull()]"
   ]
  },
  {
   "cell_type": "code",
   "execution_count": 250,
   "metadata": {},
   "outputs": [
    {
     "data": {
      "text/html": [
       "<div>\n",
       "<style scoped>\n",
       "    .dataframe tbody tr th:only-of-type {\n",
       "        vertical-align: middle;\n",
       "    }\n",
       "\n",
       "    .dataframe tbody tr th {\n",
       "        vertical-align: top;\n",
       "    }\n",
       "\n",
       "    .dataframe thead th {\n",
       "        text-align: right;\n",
       "    }\n",
       "</style>\n",
       "<table border=\"1\" class=\"dataframe\">\n",
       "  <thead>\n",
       "    <tr style=\"text-align: right;\">\n",
       "      <th></th>\n",
       "      <th>Season</th>\n",
       "      <th>Name</th>\n",
       "      <th>Age</th>\n",
       "      <th>Hometown</th>\n",
       "      <th>State</th>\n",
       "      <th>College</th>\n",
       "      <th>Occupation</th>\n",
       "      <th>Win_Loss</th>\n",
       "      <th>Height (cm)</th>\n",
       "      <th>Girlfriend While on the Show?</th>\n",
       "      <th>Hair Color</th>\n",
       "      <th>Eye Color</th>\n",
       "    </tr>\n",
       "  </thead>\n",
       "  <tbody>\n",
       "    <tr>\n",
       "      <th>5</th>\n",
       "      <td>15.0</td>\n",
       "      <td>Mike Johnson</td>\n",
       "      <td>31.0</td>\n",
       "      <td>San Antonio, Texas</td>\n",
       "      <td>TX</td>\n",
       "      <td>NaN</td>\n",
       "      <td>Portfolio Manager</td>\n",
       "      <td>0.0</td>\n",
       "      <td>180.00</td>\n",
       "      <td>No</td>\n",
       "      <td>Brown</td>\n",
       "      <td>Brown</td>\n",
       "    </tr>\n",
       "    <tr>\n",
       "      <th>15</th>\n",
       "      <td>15.0</td>\n",
       "      <td>Cameron Ayala</td>\n",
       "      <td>30.0</td>\n",
       "      <td>Austin, Texas</td>\n",
       "      <td>TX</td>\n",
       "      <td>Texas A&amp;M University</td>\n",
       "      <td>Software Sales</td>\n",
       "      <td>0.0</td>\n",
       "      <td>177.80</td>\n",
       "      <td>No</td>\n",
       "      <td>Brown</td>\n",
       "      <td>Blue</td>\n",
       "    </tr>\n",
       "    <tr>\n",
       "      <th>62</th>\n",
       "      <td>13.0</td>\n",
       "      <td>Adam Gottschalk</td>\n",
       "      <td>27.0</td>\n",
       "      <td>Dallas, Texas</td>\n",
       "      <td>TX</td>\n",
       "      <td>University of Texas at Austin</td>\n",
       "      <td>Real Estate Agent</td>\n",
       "      <td>0.0</td>\n",
       "      <td>188.00</td>\n",
       "      <td>No</td>\n",
       "      <td>Brown</td>\n",
       "      <td>Brown</td>\n",
       "    </tr>\n",
       "    <tr>\n",
       "      <th>72</th>\n",
       "      <td>13.0</td>\n",
       "      <td>Jack Stone</td>\n",
       "      <td>32.0</td>\n",
       "      <td>Dallas, Texas</td>\n",
       "      <td>TX</td>\n",
       "      <td>Other</td>\n",
       "      <td>Attorney</td>\n",
       "      <td>0.0</td>\n",
       "      <td>180.33</td>\n",
       "      <td>No</td>\n",
       "      <td>Brown</td>\n",
       "      <td>Brown</td>\n",
       "    </tr>\n",
       "    <tr>\n",
       "      <th>76</th>\n",
       "      <td>13.0</td>\n",
       "      <td>Frederick \"Fred\" Johnson</td>\n",
       "      <td>27.0</td>\n",
       "      <td>Dallas, Texas</td>\n",
       "      <td>TX</td>\n",
       "      <td>Florida State University</td>\n",
       "      <td>Executive Assistant</td>\n",
       "      <td>0.0</td>\n",
       "      <td>182.88</td>\n",
       "      <td>No</td>\n",
       "      <td>Brown</td>\n",
       "      <td>Brown</td>\n",
       "    </tr>\n",
       "    <tr>\n",
       "      <th>92</th>\n",
       "      <td>12.0</td>\n",
       "      <td>Luke Pell</td>\n",
       "      <td>31.0</td>\n",
       "      <td>Burnet, Texas</td>\n",
       "      <td>TX</td>\n",
       "      <td>West Point</td>\n",
       "      <td>War Veteran</td>\n",
       "      <td>0.0</td>\n",
       "      <td>185.42</td>\n",
       "      <td>No</td>\n",
       "      <td>Brown</td>\n",
       "      <td>Brown</td>\n",
       "    </tr>\n",
       "  </tbody>\n",
       "</table>\n",
       "</div>"
      ],
      "text/plain": [
       "    Season                      Name   Age            Hometown State  \\\n",
       "5     15.0              Mike Johnson  31.0  San Antonio, Texas    TX   \n",
       "15    15.0             Cameron Ayala  30.0       Austin, Texas    TX   \n",
       "62    13.0           Adam Gottschalk  27.0       Dallas, Texas    TX   \n",
       "72    13.0                Jack Stone  32.0       Dallas, Texas    TX   \n",
       "76    13.0  Frederick \"Fred\" Johnson  27.0       Dallas, Texas    TX   \n",
       "92    12.0                 Luke Pell  31.0       Burnet, Texas    TX   \n",
       "\n",
       "                          College           Occupation  Win_Loss  Height (cm)  \\\n",
       "5                             NaN    Portfolio Manager       0.0       180.00   \n",
       "15           Texas A&M University       Software Sales       0.0       177.80   \n",
       "62  University of Texas at Austin    Real Estate Agent       0.0       188.00   \n",
       "72                          Other             Attorney       0.0       180.33   \n",
       "76       Florida State University  Executive Assistant       0.0       182.88   \n",
       "92                     West Point          War Veteran       0.0       185.42   \n",
       "\n",
       "   Girlfriend While on the Show? Hair Color Eye Color  \n",
       "5                             No      Brown     Brown  \n",
       "15                            No      Brown      Blue  \n",
       "62                            No      Brown     Brown  \n",
       "72                            No      Brown     Brown  \n",
       "76                            No      Brown     Brown  \n",
       "92                            No      Brown     Brown  "
      ]
     },
     "execution_count": 250,
     "metadata": {},
     "output_type": "execute_result"
    }
   ],
   "source": [
    "#since the person whose college is missing belong to TX state we're looking for colleges of other participants from TX\n",
    "df[df.values=='TX']"
   ]
  },
  {
   "cell_type": "code",
   "execution_count": 251,
   "metadata": {},
   "outputs": [],
   "source": [
    "df[\"College\"].fillna(value=\"University of Texas at Austin\",inplace=True)#filling missing value with other value"
   ]
  },
  {
   "cell_type": "code",
   "execution_count": 252,
   "metadata": {},
   "outputs": [
    {
     "data": {
      "text/plain": [
       "Season                            0\n",
       "Name                              0\n",
       "Age                               0\n",
       "Hometown                          0\n",
       "State                             0\n",
       "College                           0\n",
       "Occupation                        0\n",
       "Win_Loss                          0\n",
       "Height (cm)                      40\n",
       "Girlfriend While on the Show?     0\n",
       "Hair Color                        0\n",
       "Eye Color                         0\n",
       "dtype: int64"
      ]
     },
     "execution_count": 252,
     "metadata": {},
     "output_type": "execute_result"
    }
   ],
   "source": [
    "df.isnull().sum()"
   ]
  },
  {
   "cell_type": "code",
   "execution_count": 253,
   "metadata": {},
   "outputs": [
    {
     "data": {
      "text/html": [
       "<div>\n",
       "<style scoped>\n",
       "    .dataframe tbody tr th:only-of-type {\n",
       "        vertical-align: middle;\n",
       "    }\n",
       "\n",
       "    .dataframe tbody tr th {\n",
       "        vertical-align: top;\n",
       "    }\n",
       "\n",
       "    .dataframe thead th {\n",
       "        text-align: right;\n",
       "    }\n",
       "</style>\n",
       "<table border=\"1\" class=\"dataframe\">\n",
       "  <thead>\n",
       "    <tr style=\"text-align: right;\">\n",
       "      <th></th>\n",
       "      <th>Season</th>\n",
       "      <th>Name</th>\n",
       "      <th>Age</th>\n",
       "      <th>Hometown</th>\n",
       "      <th>State</th>\n",
       "      <th>College</th>\n",
       "      <th>Occupation</th>\n",
       "      <th>Win_Loss</th>\n",
       "      <th>Height (cm)</th>\n",
       "      <th>Girlfriend While on the Show?</th>\n",
       "      <th>Hair Color</th>\n",
       "      <th>Eye Color</th>\n",
       "    </tr>\n",
       "  </thead>\n",
       "  <tbody>\n",
       "    <tr>\n",
       "      <th>4</th>\n",
       "      <td>15.0</td>\n",
       "      <td>Garrett Powell</td>\n",
       "      <td>27.0</td>\n",
       "      <td>Homewood, Alabama</td>\n",
       "      <td>AL</td>\n",
       "      <td>Mississippi State University</td>\n",
       "      <td>Golf Pro</td>\n",
       "      <td>0.0</td>\n",
       "      <td>NaN</td>\n",
       "      <td>No</td>\n",
       "      <td>Brown</td>\n",
       "      <td>Green</td>\n",
       "    </tr>\n",
       "    <tr>\n",
       "      <th>9</th>\n",
       "      <td>15.0</td>\n",
       "      <td>Devin Harris</td>\n",
       "      <td>27.0</td>\n",
       "      <td>Sherman Oaks, California</td>\n",
       "      <td>CA</td>\n",
       "      <td>University of San Diego</td>\n",
       "      <td>Talent Manager</td>\n",
       "      <td>0.0</td>\n",
       "      <td>NaN</td>\n",
       "      <td>No</td>\n",
       "      <td>Brown</td>\n",
       "      <td>Brown</td>\n",
       "    </tr>\n",
       "    <tr>\n",
       "      <th>10</th>\n",
       "      <td>15.0</td>\n",
       "      <td>Grant Eckel</td>\n",
       "      <td>30.0</td>\n",
       "      <td>San Clemente, California</td>\n",
       "      <td>CA</td>\n",
       "      <td>Saddleback College</td>\n",
       "      <td>Unemployed</td>\n",
       "      <td>0.0</td>\n",
       "      <td>NaN</td>\n",
       "      <td>No</td>\n",
       "      <td>Brown</td>\n",
       "      <td>Brown</td>\n",
       "    </tr>\n",
       "    <tr>\n",
       "      <th>11</th>\n",
       "      <td>15.0</td>\n",
       "      <td>Kevin Fortenberry</td>\n",
       "      <td>27.0</td>\n",
       "      <td>Manteno, Illinois</td>\n",
       "      <td>IL</td>\n",
       "      <td>Other</td>\n",
       "      <td>Behavioral Health Specialist</td>\n",
       "      <td>0.0</td>\n",
       "      <td>NaN</td>\n",
       "      <td>No</td>\n",
       "      <td>Brown</td>\n",
       "      <td>Blue</td>\n",
       "    </tr>\n",
       "    <tr>\n",
       "      <th>13</th>\n",
       "      <td>15.0</td>\n",
       "      <td>Matteo Valles</td>\n",
       "      <td>25.0</td>\n",
       "      <td>Atlanda, Georgia</td>\n",
       "      <td>GA</td>\n",
       "      <td>Georgia tech</td>\n",
       "      <td>Management Consultant</td>\n",
       "      <td>0.0</td>\n",
       "      <td>NaN</td>\n",
       "      <td>No</td>\n",
       "      <td>Brown</td>\n",
       "      <td>Brown</td>\n",
       "    </tr>\n",
       "    <tr>\n",
       "      <th>16</th>\n",
       "      <td>15.0</td>\n",
       "      <td>Joey Jones</td>\n",
       "      <td>33.0</td>\n",
       "      <td>Bethesda, Maryland</td>\n",
       "      <td>MD</td>\n",
       "      <td>Boston College</td>\n",
       "      <td>Finance Manager</td>\n",
       "      <td>0.0</td>\n",
       "      <td>NaN</td>\n",
       "      <td>No</td>\n",
       "      <td>Brown</td>\n",
       "      <td>Brown</td>\n",
       "    </tr>\n",
       "    <tr>\n",
       "      <th>17</th>\n",
       "      <td>15.0</td>\n",
       "      <td>Jonathan Saunders</td>\n",
       "      <td>27.0</td>\n",
       "      <td>Los Angeles, California</td>\n",
       "      <td>CA</td>\n",
       "      <td>Other</td>\n",
       "      <td>Server</td>\n",
       "      <td>0.0</td>\n",
       "      <td>NaN</td>\n",
       "      <td>No</td>\n",
       "      <td>Brown</td>\n",
       "      <td>Brown</td>\n",
       "    </tr>\n",
       "    <tr>\n",
       "      <th>18</th>\n",
       "      <td>15.0</td>\n",
       "      <td>Tyler Gwozdz</td>\n",
       "      <td>28.0</td>\n",
       "      <td>Boca Raton, Florida</td>\n",
       "      <td>FL</td>\n",
       "      <td>Wake Forest</td>\n",
       "      <td>Psychology Graduate Student</td>\n",
       "      <td>0.0</td>\n",
       "      <td>NaN</td>\n",
       "      <td>No</td>\n",
       "      <td>Brown</td>\n",
       "      <td>Blue</td>\n",
       "    </tr>\n",
       "    <tr>\n",
       "      <th>19</th>\n",
       "      <td>15.0</td>\n",
       "      <td>Connor Jenkins</td>\n",
       "      <td>28.0</td>\n",
       "      <td>Newport Beach, California</td>\n",
       "      <td>CA</td>\n",
       "      <td>University of Missouri-Columbia</td>\n",
       "      <td>Sales Manager</td>\n",
       "      <td>0.0</td>\n",
       "      <td>NaN</td>\n",
       "      <td>No</td>\n",
       "      <td>Brown</td>\n",
       "      <td>Brown</td>\n",
       "    </tr>\n",
       "    <tr>\n",
       "      <th>20</th>\n",
       "      <td>15.0</td>\n",
       "      <td>Daron Blaylock</td>\n",
       "      <td>25.0</td>\n",
       "      <td>Buckhead, Georgia</td>\n",
       "      <td>GA</td>\n",
       "      <td>University of Kentucky</td>\n",
       "      <td>IT Consultant</td>\n",
       "      <td>0.0</td>\n",
       "      <td>NaN</td>\n",
       "      <td>No</td>\n",
       "      <td>Brown</td>\n",
       "      <td>Brown</td>\n",
       "    </tr>\n",
       "    <tr>\n",
       "      <th>21</th>\n",
       "      <td>15.0</td>\n",
       "      <td>Matthew Spraggins</td>\n",
       "      <td>23.0</td>\n",
       "      <td>Newport Beach, California</td>\n",
       "      <td>CA</td>\n",
       "      <td>Other</td>\n",
       "      <td>Car Bid Spotter</td>\n",
       "      <td>0.0</td>\n",
       "      <td>NaN</td>\n",
       "      <td>No</td>\n",
       "      <td>Brown</td>\n",
       "      <td>Brown</td>\n",
       "    </tr>\n",
       "    <tr>\n",
       "      <th>22</th>\n",
       "      <td>15.0</td>\n",
       "      <td>Brian Bowles</td>\n",
       "      <td>30.0</td>\n",
       "      <td>Louisville, Kentucky</td>\n",
       "      <td>KY</td>\n",
       "      <td>Centre College</td>\n",
       "      <td>Math Teacher</td>\n",
       "      <td>0.0</td>\n",
       "      <td>NaN</td>\n",
       "      <td>No</td>\n",
       "      <td>Brown</td>\n",
       "      <td>Brown</td>\n",
       "    </tr>\n",
       "    <tr>\n",
       "      <th>23</th>\n",
       "      <td>15.0</td>\n",
       "      <td>Chasen Coscia</td>\n",
       "      <td>27.0</td>\n",
       "      <td>Ann Arbor, Michigan</td>\n",
       "      <td>MI</td>\n",
       "      <td>Other</td>\n",
       "      <td>Pilot</td>\n",
       "      <td>0.0</td>\n",
       "      <td>NaN</td>\n",
       "      <td>No</td>\n",
       "      <td>Brown</td>\n",
       "      <td>Brown</td>\n",
       "    </tr>\n",
       "    <tr>\n",
       "      <th>24</th>\n",
       "      <td>15.0</td>\n",
       "      <td>Hunter Jones</td>\n",
       "      <td>24.0</td>\n",
       "      <td>Westchester, California</td>\n",
       "      <td>CA</td>\n",
       "      <td>Other</td>\n",
       "      <td>Pro Surfer</td>\n",
       "      <td>0.0</td>\n",
       "      <td>NaN</td>\n",
       "      <td>No</td>\n",
       "      <td>Brown</td>\n",
       "      <td>Brown</td>\n",
       "    </tr>\n",
       "    <tr>\n",
       "      <th>25</th>\n",
       "      <td>15.0</td>\n",
       "      <td>Joe Barsano</td>\n",
       "      <td>30.0</td>\n",
       "      <td>Chicago, Illinois</td>\n",
       "      <td>IL</td>\n",
       "      <td>North Park University</td>\n",
       "      <td>The Box King</td>\n",
       "      <td>0.0</td>\n",
       "      <td>NaN</td>\n",
       "      <td>No</td>\n",
       "      <td>Brown</td>\n",
       "      <td>Brown</td>\n",
       "    </tr>\n",
       "    <tr>\n",
       "      <th>26</th>\n",
       "      <td>15.0</td>\n",
       "      <td>Matt Donald</td>\n",
       "      <td>26.0</td>\n",
       "      <td>Los Gatos, California</td>\n",
       "      <td>CA</td>\n",
       "      <td>High Point University</td>\n",
       "      <td>Medical Device Salesman</td>\n",
       "      <td>0.0</td>\n",
       "      <td>NaN</td>\n",
       "      <td>No</td>\n",
       "      <td>Blonde</td>\n",
       "      <td>Green</td>\n",
       "    </tr>\n",
       "    <tr>\n",
       "      <th>27</th>\n",
       "      <td>15.0</td>\n",
       "      <td>Ryan Spirko</td>\n",
       "      <td>25.0</td>\n",
       "      <td>Philadelphia, Pennsylvania</td>\n",
       "      <td>PA</td>\n",
       "      <td>Lehigh University</td>\n",
       "      <td>Roller Boy</td>\n",
       "      <td>0.0</td>\n",
       "      <td>NaN</td>\n",
       "      <td>No</td>\n",
       "      <td>Brown</td>\n",
       "      <td>Brown</td>\n",
       "    </tr>\n",
       "    <tr>\n",
       "      <th>28</th>\n",
       "      <td>15.0</td>\n",
       "      <td>Thomas Staton</td>\n",
       "      <td>27.0</td>\n",
       "      <td>Detroit, Michigan</td>\n",
       "      <td>MI</td>\n",
       "      <td>Other</td>\n",
       "      <td>International Pro Basketball Player</td>\n",
       "      <td>0.0</td>\n",
       "      <td>NaN</td>\n",
       "      <td>No</td>\n",
       "      <td>Brown</td>\n",
       "      <td>Brown</td>\n",
       "    </tr>\n",
       "    <tr>\n",
       "      <th>29</th>\n",
       "      <td>15.0</td>\n",
       "      <td>Scott Anderson</td>\n",
       "      <td>28.0</td>\n",
       "      <td>Chicago, Illinois</td>\n",
       "      <td>IL</td>\n",
       "      <td>Other</td>\n",
       "      <td>Software Sales Executive</td>\n",
       "      <td>0.0</td>\n",
       "      <td>NaN</td>\n",
       "      <td>Yes</td>\n",
       "      <td>Brown</td>\n",
       "      <td>Brown</td>\n",
       "    </tr>\n",
       "    <tr>\n",
       "      <th>30</th>\n",
       "      <td>14.0</td>\n",
       "      <td>Garrett Yrigoyen</td>\n",
       "      <td>29.0</td>\n",
       "      <td>Manteca, California</td>\n",
       "      <td>CA</td>\n",
       "      <td>University of Nevada</td>\n",
       "      <td>Medical Sales Representative</td>\n",
       "      <td>0.0</td>\n",
       "      <td>NaN</td>\n",
       "      <td>No</td>\n",
       "      <td>Brown</td>\n",
       "      <td>Brown</td>\n",
       "    </tr>\n",
       "    <tr>\n",
       "      <th>34</th>\n",
       "      <td>14.0</td>\n",
       "      <td>William \"Wills\" Reid</td>\n",
       "      <td>29.0</td>\n",
       "      <td>Los Angeles, California</td>\n",
       "      <td>CA</td>\n",
       "      <td>University of California, Davis</td>\n",
       "      <td>Graphic Designer</td>\n",
       "      <td>0.0</td>\n",
       "      <td>NaN</td>\n",
       "      <td>No</td>\n",
       "      <td>Brown</td>\n",
       "      <td>Brown</td>\n",
       "    </tr>\n",
       "    <tr>\n",
       "      <th>37</th>\n",
       "      <td>14.0</td>\n",
       "      <td>Lincoln Adim</td>\n",
       "      <td>26.0</td>\n",
       "      <td>Boston, Massachusetts</td>\n",
       "      <td>MA</td>\n",
       "      <td>University of Kentucky</td>\n",
       "      <td>Account Sales Executive</td>\n",
       "      <td>0.0</td>\n",
       "      <td>NaN</td>\n",
       "      <td>No</td>\n",
       "      <td>Brown</td>\n",
       "      <td>Brown</td>\n",
       "    </tr>\n",
       "    <tr>\n",
       "      <th>38</th>\n",
       "      <td>14.0</td>\n",
       "      <td>Chris Randone</td>\n",
       "      <td>30.0</td>\n",
       "      <td>Pleasantville, New York</td>\n",
       "      <td>NY</td>\n",
       "      <td>University of Central Florida</td>\n",
       "      <td>Sales Trainer</td>\n",
       "      <td>0.0</td>\n",
       "      <td>NaN</td>\n",
       "      <td>No</td>\n",
       "      <td>Brown</td>\n",
       "      <td>Brown</td>\n",
       "    </tr>\n",
       "    <tr>\n",
       "      <th>39</th>\n",
       "      <td>14.0</td>\n",
       "      <td>John Graham</td>\n",
       "      <td>28.0</td>\n",
       "      <td>Chicago, Illinois</td>\n",
       "      <td>IL</td>\n",
       "      <td>Columbia University</td>\n",
       "      <td>Software Engineer</td>\n",
       "      <td>0.0</td>\n",
       "      <td>NaN</td>\n",
       "      <td>No</td>\n",
       "      <td>Brown</td>\n",
       "      <td>Brown</td>\n",
       "    </tr>\n",
       "    <tr>\n",
       "      <th>41</th>\n",
       "      <td>14.0</td>\n",
       "      <td>David Ravitz</td>\n",
       "      <td>25.0</td>\n",
       "      <td>Cherry Hill, New Jersey</td>\n",
       "      <td>NJ</td>\n",
       "      <td>University of Maryland</td>\n",
       "      <td>Venture Capitalist</td>\n",
       "      <td>0.0</td>\n",
       "      <td>NaN</td>\n",
       "      <td>No</td>\n",
       "      <td>Brown</td>\n",
       "      <td>Brown</td>\n",
       "    </tr>\n",
       "    <tr>\n",
       "      <th>43</th>\n",
       "      <td>14.0</td>\n",
       "      <td>Nicholas \"Nick\" Spetsas</td>\n",
       "      <td>27.0</td>\n",
       "      <td>Palm Coast, Florida</td>\n",
       "      <td>FL</td>\n",
       "      <td>Flagler University</td>\n",
       "      <td>Attorney</td>\n",
       "      <td>0.0</td>\n",
       "      <td>NaN</td>\n",
       "      <td>No</td>\n",
       "      <td>Brown</td>\n",
       "      <td>Brown</td>\n",
       "    </tr>\n",
       "    <tr>\n",
       "      <th>44</th>\n",
       "      <td>14.0</td>\n",
       "      <td>Jean Blanc</td>\n",
       "      <td>31.0</td>\n",
       "      <td>Boston, Massachusetts</td>\n",
       "      <td>MA</td>\n",
       "      <td>Other</td>\n",
       "      <td>Colognoisseur</td>\n",
       "      <td>0.0</td>\n",
       "      <td>NaN</td>\n",
       "      <td>No</td>\n",
       "      <td>Brown</td>\n",
       "      <td>Brown</td>\n",
       "    </tr>\n",
       "    <tr>\n",
       "      <th>45</th>\n",
       "      <td>14.0</td>\n",
       "      <td>Michael \"Mike\" Renner</td>\n",
       "      <td>27.0</td>\n",
       "      <td>Cincinnati, Ohio</td>\n",
       "      <td>OH</td>\n",
       "      <td>University of Notre Dame</td>\n",
       "      <td>Sports Analyst</td>\n",
       "      <td>0.0</td>\n",
       "      <td>NaN</td>\n",
       "      <td>No</td>\n",
       "      <td>Blonde</td>\n",
       "      <td>Brown</td>\n",
       "    </tr>\n",
       "    <tr>\n",
       "      <th>48</th>\n",
       "      <td>14.0</td>\n",
       "      <td>Alex Templeman</td>\n",
       "      <td>31.0</td>\n",
       "      <td>Atlanta, Georgia</td>\n",
       "      <td>GA</td>\n",
       "      <td>Georgia Southern University</td>\n",
       "      <td>Construction Manager</td>\n",
       "      <td>0.0</td>\n",
       "      <td>NaN</td>\n",
       "      <td>No</td>\n",
       "      <td>Brown</td>\n",
       "      <td>Brown</td>\n",
       "    </tr>\n",
       "    <tr>\n",
       "      <th>50</th>\n",
       "      <td>14.0</td>\n",
       "      <td>Trent Jespersen</td>\n",
       "      <td>28.0</td>\n",
       "      <td>Carroll, Iowa</td>\n",
       "      <td>IA</td>\n",
       "      <td>Des Moines Area Community College</td>\n",
       "      <td>Realtor</td>\n",
       "      <td>0.0</td>\n",
       "      <td>NaN</td>\n",
       "      <td>No</td>\n",
       "      <td>Brown</td>\n",
       "      <td>Brown</td>\n",
       "    </tr>\n",
       "    <tr>\n",
       "      <th>54</th>\n",
       "      <td>14.0</td>\n",
       "      <td>Grant Vandevanter</td>\n",
       "      <td>27.0</td>\n",
       "      <td>Danville, California</td>\n",
       "      <td>CA</td>\n",
       "      <td>Hastings College</td>\n",
       "      <td>Electrician</td>\n",
       "      <td>0.0</td>\n",
       "      <td>NaN</td>\n",
       "      <td>No</td>\n",
       "      <td>Brown</td>\n",
       "      <td>Brown</td>\n",
       "    </tr>\n",
       "    <tr>\n",
       "      <th>57</th>\n",
       "      <td>14.0</td>\n",
       "      <td>Jake Enyeart</td>\n",
       "      <td>29.0</td>\n",
       "      <td>Minneapolis, Minnesota</td>\n",
       "      <td>MN</td>\n",
       "      <td>Babson College</td>\n",
       "      <td>Marketing Consultant</td>\n",
       "      <td>0.0</td>\n",
       "      <td>NaN</td>\n",
       "      <td>No</td>\n",
       "      <td>Brown</td>\n",
       "      <td>Brown</td>\n",
       "    </tr>\n",
       "    <tr>\n",
       "      <th>68</th>\n",
       "      <td>13.0</td>\n",
       "      <td>Josiah Graham</td>\n",
       "      <td>28.0</td>\n",
       "      <td>Plantation, Florida</td>\n",
       "      <td>FL</td>\n",
       "      <td>University of Central Florida</td>\n",
       "      <td>Prosecuting Attorney</td>\n",
       "      <td>0.0</td>\n",
       "      <td>NaN</td>\n",
       "      <td>No</td>\n",
       "      <td>Brown</td>\n",
       "      <td>Brown</td>\n",
       "    </tr>\n",
       "    <tr>\n",
       "      <th>88</th>\n",
       "      <td>13.0</td>\n",
       "      <td>Kyle Sherwood</td>\n",
       "      <td>26.0</td>\n",
       "      <td>Stratford, Connecticut</td>\n",
       "      <td>CT</td>\n",
       "      <td>other</td>\n",
       "      <td>Marketing Consultant</td>\n",
       "      <td>0.0</td>\n",
       "      <td>NaN</td>\n",
       "      <td>No</td>\n",
       "      <td>Brown</td>\n",
       "      <td>Brown</td>\n",
       "    </tr>\n",
       "    <tr>\n",
       "      <th>112</th>\n",
       "      <td>12.0</td>\n",
       "      <td>Nicholas \"Nick\" Sharp</td>\n",
       "      <td>26.0</td>\n",
       "      <td>San Francisco, California</td>\n",
       "      <td>CA</td>\n",
       "      <td>Other</td>\n",
       "      <td>Software Salesman</td>\n",
       "      <td>0.0</td>\n",
       "      <td>NaN</td>\n",
       "      <td>No</td>\n",
       "      <td>Brown</td>\n",
       "      <td>Brown</td>\n",
       "    </tr>\n",
       "    <tr>\n",
       "      <th>119</th>\n",
       "      <td>11.0</td>\n",
       "      <td>Joseph \"Joe\" Bailey</td>\n",
       "      <td>28.0</td>\n",
       "      <td>Glasgow, Kentucky</td>\n",
       "      <td>KY</td>\n",
       "      <td>Other</td>\n",
       "      <td>Insurance Agent</td>\n",
       "      <td>0.0</td>\n",
       "      <td>NaN</td>\n",
       "      <td>No</td>\n",
       "      <td>Brown</td>\n",
       "      <td>Brown</td>\n",
       "    </tr>\n",
       "    <tr>\n",
       "      <th>128</th>\n",
       "      <td>11.0</td>\n",
       "      <td>Jonathan Holloway</td>\n",
       "      <td>33.0</td>\n",
       "      <td>Sylvan Lake, Michigan</td>\n",
       "      <td>MI</td>\n",
       "      <td>Other</td>\n",
       "      <td>Automotive Spokesman</td>\n",
       "      <td>0.0</td>\n",
       "      <td>NaN</td>\n",
       "      <td>No</td>\n",
       "      <td>Brown</td>\n",
       "      <td>Brown</td>\n",
       "    </tr>\n",
       "    <tr>\n",
       "      <th>129</th>\n",
       "      <td>11.0</td>\n",
       "      <td>Ryan Beckett</td>\n",
       "      <td>32.0</td>\n",
       "      <td>Wellington, Florida</td>\n",
       "      <td>FL</td>\n",
       "      <td>Palm Beach State College</td>\n",
       "      <td>Realtor</td>\n",
       "      <td>0.0</td>\n",
       "      <td>NaN</td>\n",
       "      <td>No</td>\n",
       "      <td>Brown</td>\n",
       "      <td>Brown</td>\n",
       "    </tr>\n",
       "    <tr>\n",
       "      <th>136</th>\n",
       "      <td>11.0</td>\n",
       "      <td>David Cox</td>\n",
       "      <td>28.0</td>\n",
       "      <td>Orlando, Florida</td>\n",
       "      <td>FL</td>\n",
       "      <td>Other</td>\n",
       "      <td>Real Estate Agent</td>\n",
       "      <td>0.0</td>\n",
       "      <td>NaN</td>\n",
       "      <td>No</td>\n",
       "      <td>Brown</td>\n",
       "      <td>Brown</td>\n",
       "    </tr>\n",
       "    <tr>\n",
       "      <th>138</th>\n",
       "      <td>11.0</td>\n",
       "      <td>Shawn Evans</td>\n",
       "      <td>31.0</td>\n",
       "      <td>London, Ontario</td>\n",
       "      <td>Other</td>\n",
       "      <td>Other</td>\n",
       "      <td>Amateur Sex Coach</td>\n",
       "      <td>0.0</td>\n",
       "      <td>NaN</td>\n",
       "      <td>No</td>\n",
       "      <td>Brown</td>\n",
       "      <td>Brown</td>\n",
       "    </tr>\n",
       "  </tbody>\n",
       "</table>\n",
       "</div>"
      ],
      "text/plain": [
       "     Season                     Name   Age                    Hometown  State  \\\n",
       "4      15.0           Garrett Powell  27.0           Homewood, Alabama     AL   \n",
       "9      15.0             Devin Harris  27.0    Sherman Oaks, California     CA   \n",
       "10     15.0              Grant Eckel  30.0    San Clemente, California     CA   \n",
       "11     15.0        Kevin Fortenberry  27.0           Manteno, Illinois     IL   \n",
       "13     15.0            Matteo Valles  25.0            Atlanda, Georgia     GA   \n",
       "16     15.0               Joey Jones  33.0          Bethesda, Maryland     MD   \n",
       "17     15.0        Jonathan Saunders  27.0     Los Angeles, California     CA   \n",
       "18     15.0             Tyler Gwozdz  28.0         Boca Raton, Florida     FL   \n",
       "19     15.0           Connor Jenkins  28.0   Newport Beach, California     CA   \n",
       "20     15.0           Daron Blaylock  25.0           Buckhead, Georgia     GA   \n",
       "21     15.0        Matthew Spraggins  23.0   Newport Beach, California     CA   \n",
       "22     15.0             Brian Bowles  30.0        Louisville, Kentucky     KY   \n",
       "23     15.0            Chasen Coscia  27.0         Ann Arbor, Michigan     MI   \n",
       "24     15.0             Hunter Jones  24.0     Westchester, California     CA   \n",
       "25     15.0              Joe Barsano  30.0           Chicago, Illinois     IL   \n",
       "26     15.0              Matt Donald  26.0       Los Gatos, California     CA   \n",
       "27     15.0              Ryan Spirko  25.0  Philadelphia, Pennsylvania     PA   \n",
       "28     15.0            Thomas Staton  27.0           Detroit, Michigan     MI   \n",
       "29     15.0           Scott Anderson  28.0           Chicago, Illinois     IL   \n",
       "30     14.0         Garrett Yrigoyen  29.0         Manteca, California     CA   \n",
       "34     14.0     William \"Wills\" Reid  29.0     Los Angeles, California     CA   \n",
       "37     14.0             Lincoln Adim  26.0       Boston, Massachusetts     MA   \n",
       "38     14.0            Chris Randone  30.0     Pleasantville, New York     NY   \n",
       "39     14.0              John Graham  28.0           Chicago, Illinois     IL   \n",
       "41     14.0             David Ravitz  25.0     Cherry Hill, New Jersey     NJ   \n",
       "43     14.0  Nicholas \"Nick\" Spetsas  27.0         Palm Coast, Florida     FL   \n",
       "44     14.0               Jean Blanc  31.0       Boston, Massachusetts     MA   \n",
       "45     14.0    Michael \"Mike\" Renner  27.0            Cincinnati, Ohio     OH   \n",
       "48     14.0           Alex Templeman  31.0            Atlanta, Georgia     GA   \n",
       "50     14.0          Trent Jespersen  28.0               Carroll, Iowa     IA   \n",
       "54     14.0        Grant Vandevanter  27.0        Danville, California     CA   \n",
       "57     14.0             Jake Enyeart  29.0      Minneapolis, Minnesota     MN   \n",
       "68     13.0            Josiah Graham  28.0         Plantation, Florida     FL   \n",
       "88     13.0            Kyle Sherwood  26.0      Stratford, Connecticut     CT   \n",
       "112    12.0    Nicholas \"Nick\" Sharp  26.0   San Francisco, California     CA   \n",
       "119    11.0      Joseph \"Joe\" Bailey  28.0           Glasgow, Kentucky     KY   \n",
       "128    11.0        Jonathan Holloway  33.0       Sylvan Lake, Michigan     MI   \n",
       "129    11.0             Ryan Beckett  32.0         Wellington, Florida     FL   \n",
       "136    11.0                David Cox  28.0            Orlando, Florida     FL   \n",
       "138    11.0              Shawn Evans  31.0             London, Ontario  Other   \n",
       "\n",
       "                               College                           Occupation  \\\n",
       "4         Mississippi State University                             Golf Pro   \n",
       "9              University of San Diego                       Talent Manager   \n",
       "10                  Saddleback College                           Unemployed   \n",
       "11                               Other         Behavioral Health Specialist   \n",
       "13                        Georgia tech                Management Consultant   \n",
       "16                      Boston College                      Finance Manager   \n",
       "17                               Other                               Server   \n",
       "18                         Wake Forest          Psychology Graduate Student   \n",
       "19     University of Missouri-Columbia                        Sales Manager   \n",
       "20             University of Kentucky                         IT Consultant   \n",
       "21                               Other                      Car Bid Spotter   \n",
       "22                      Centre College                         Math Teacher   \n",
       "23                               Other                               Pilot    \n",
       "24                               Other                           Pro Surfer   \n",
       "25               North Park University                         The Box King   \n",
       "26               High Point University              Medical Device Salesman   \n",
       "27                   Lehigh University                           Roller Boy   \n",
       "28                               Other  International Pro Basketball Player   \n",
       "29                               Other            Software Sales Executive    \n",
       "30                University of Nevada         Medical Sales Representative   \n",
       "34     University of California, Davis                     Graphic Designer   \n",
       "37              University of Kentucky              Account Sales Executive   \n",
       "38       University of Central Florida                        Sales Trainer   \n",
       "39                 Columbia University                    Software Engineer   \n",
       "41              University of Maryland                   Venture Capitalist   \n",
       "43                  Flagler University                             Attorney   \n",
       "44                               Other                        Colognoisseur   \n",
       "45            University of Notre Dame                       Sports Analyst   \n",
       "48         Georgia Southern University                 Construction Manager   \n",
       "50   Des Moines Area Community College                              Realtor   \n",
       "54                    Hastings College                          Electrician   \n",
       "57                     Babson College                  Marketing Consultant   \n",
       "68       University of Central Florida                 Prosecuting Attorney   \n",
       "88                               other                 Marketing Consultant   \n",
       "112                              Other                    Software Salesman   \n",
       "119                              Other                      Insurance Agent   \n",
       "128                              Other                 Automotive Spokesman   \n",
       "129           Palm Beach State College                              Realtor   \n",
       "136                              Other                    Real Estate Agent   \n",
       "138                              Other                    Amateur Sex Coach   \n",
       "\n",
       "     Win_Loss  Height (cm) Girlfriend While on the Show? Hair Color Eye Color  \n",
       "4         0.0          NaN                            No      Brown     Green  \n",
       "9         0.0          NaN                            No      Brown     Brown  \n",
       "10        0.0          NaN                            No      Brown     Brown  \n",
       "11        0.0          NaN                            No      Brown      Blue  \n",
       "13        0.0          NaN                            No      Brown     Brown  \n",
       "16        0.0          NaN                            No      Brown     Brown  \n",
       "17        0.0          NaN                            No      Brown     Brown  \n",
       "18        0.0          NaN                            No      Brown      Blue  \n",
       "19        0.0          NaN                            No      Brown     Brown  \n",
       "20        0.0          NaN                            No      Brown     Brown  \n",
       "21        0.0          NaN                            No      Brown     Brown  \n",
       "22        0.0          NaN                            No      Brown     Brown  \n",
       "23        0.0          NaN                            No      Brown     Brown  \n",
       "24        0.0          NaN                            No      Brown     Brown  \n",
       "25        0.0          NaN                            No      Brown     Brown  \n",
       "26        0.0          NaN                            No     Blonde     Green  \n",
       "27        0.0          NaN                            No      Brown     Brown  \n",
       "28        0.0          NaN                            No      Brown     Brown  \n",
       "29        0.0          NaN                           Yes      Brown     Brown  \n",
       "30        0.0          NaN                            No      Brown     Brown  \n",
       "34        0.0          NaN                            No      Brown     Brown  \n",
       "37        0.0          NaN                            No      Brown     Brown  \n",
       "38        0.0          NaN                            No      Brown     Brown  \n",
       "39        0.0          NaN                            No      Brown     Brown  \n",
       "41        0.0          NaN                            No      Brown     Brown  \n",
       "43        0.0          NaN                            No      Brown     Brown  \n",
       "44        0.0          NaN                            No      Brown     Brown  \n",
       "45        0.0          NaN                            No     Blonde     Brown  \n",
       "48        0.0          NaN                            No      Brown     Brown  \n",
       "50        0.0          NaN                            No      Brown     Brown  \n",
       "54        0.0          NaN                            No      Brown     Brown  \n",
       "57        0.0          NaN                            No      Brown     Brown  \n",
       "68        0.0          NaN                            No      Brown     Brown  \n",
       "88        0.0          NaN                            No      Brown     Brown  \n",
       "112       0.0          NaN                            No      Brown     Brown  \n",
       "119       0.0          NaN                            No      Brown     Brown  \n",
       "128       0.0          NaN                            No      Brown     Brown  \n",
       "129       0.0          NaN                            No      Brown     Brown  \n",
       "136       0.0          NaN                            No      Brown     Brown  \n",
       "138       0.0          NaN                            No      Brown     Brown  "
      ]
     },
     "execution_count": 253,
     "metadata": {},
     "output_type": "execute_result"
    }
   ],
   "source": [
    "df[df[\"Height (cm)\"].isnull()]#checking the missing values in height column"
   ]
  },
  {
   "cell_type": "code",
   "execution_count": 254,
   "metadata": {},
   "outputs": [
    {
     "data": {
      "text/plain": [
       "187.96    21\n",
       "190.50    15\n",
       "182.88    12\n",
       "180.33    12\n",
       "185.42     6\n",
       "180.30     5\n",
       "182.80     4\n",
       "188.00     3\n",
       "193.04     3\n",
       "172.72     2\n",
       "175.26     2\n",
       "177.80     2\n",
       "185.00     2\n",
       "193.00     2\n",
       "175.25     2\n",
       "175.00     2\n",
       "198.12     1\n",
       "170.18     1\n",
       "170.00     1\n",
       "198.00     1\n",
       "180.00     1\n",
       "188.90     1\n",
       "Name: Height (cm), dtype: int64"
      ]
     },
     "execution_count": 254,
     "metadata": {},
     "output_type": "execute_result"
    }
   ],
   "source": [
    "df[\"Height (cm)\"].value_counts()"
   ]
  },
  {
   "cell_type": "code",
   "execution_count": 255,
   "metadata": {},
   "outputs": [],
   "source": [
    "df[\"Height (cm)\"].fillna(value=180.80,inplace=True)"
   ]
  },
  {
   "cell_type": "code",
   "execution_count": 256,
   "metadata": {},
   "outputs": [
    {
     "data": {
      "text/plain": [
       "180.80    40\n",
       "187.96    21\n",
       "190.50    15\n",
       "180.33    12\n",
       "182.88    12\n",
       "185.42     6\n",
       "180.30     5\n",
       "182.80     4\n",
       "193.04     3\n",
       "188.00     3\n",
       "177.80     2\n",
       "172.72     2\n",
       "175.00     2\n",
       "175.26     2\n",
       "175.25     2\n",
       "185.00     2\n",
       "193.00     2\n",
       "198.00     1\n",
       "180.00     1\n",
       "170.18     1\n",
       "170.00     1\n",
       "198.12     1\n",
       "188.90     1\n",
       "Name: Height (cm), dtype: int64"
      ]
     },
     "execution_count": 256,
     "metadata": {},
     "output_type": "execute_result"
    }
   ],
   "source": [
    "df[\"Height (cm)\"].value_counts()"
   ]
  },
  {
   "cell_type": "code",
   "execution_count": 257,
   "metadata": {},
   "outputs": [
    {
     "data": {
      "text/plain": [
       "Season                           0\n",
       "Name                             0\n",
       "Age                              0\n",
       "Hometown                         0\n",
       "State                            0\n",
       "College                          0\n",
       "Occupation                       0\n",
       "Win_Loss                         0\n",
       "Height (cm)                      0\n",
       "Girlfriend While on the Show?    0\n",
       "Hair Color                       0\n",
       "Eye Color                        0\n",
       "dtype: int64"
      ]
     },
     "execution_count": 257,
     "metadata": {},
     "output_type": "execute_result"
    }
   ],
   "source": [
    "df.isnull().sum()"
   ]
  },
  {
   "cell_type": "code",
   "execution_count": 258,
   "metadata": {},
   "outputs": [
    {
     "data": {
      "text/plain": [
       "array([15., 14., 13., 12., 11.])"
      ]
     },
     "execution_count": 258,
     "metadata": {},
     "output_type": "execute_result"
    }
   ],
   "source": [
    "df[\"Season\"].unique()   # to see how many seasons the data covers"
   ]
  },
  {
   "cell_type": "code",
   "execution_count": 259,
   "metadata": {},
   "outputs": [
    {
     "data": {
      "text/html": [
       "<div>\n",
       "<style scoped>\n",
       "    .dataframe tbody tr th:only-of-type {\n",
       "        vertical-align: middle;\n",
       "    }\n",
       "\n",
       "    .dataframe tbody tr th {\n",
       "        vertical-align: top;\n",
       "    }\n",
       "\n",
       "    .dataframe thead th {\n",
       "        text-align: right;\n",
       "    }\n",
       "</style>\n",
       "<table border=\"1\" class=\"dataframe\">\n",
       "  <thead>\n",
       "    <tr style=\"text-align: right;\">\n",
       "      <th></th>\n",
       "      <th>Season</th>\n",
       "      <th>Name</th>\n",
       "      <th>Age</th>\n",
       "      <th>Hometown</th>\n",
       "      <th>State</th>\n",
       "      <th>College</th>\n",
       "      <th>Occupation</th>\n",
       "      <th>Win_Loss</th>\n",
       "      <th>Height (cm)</th>\n",
       "      <th>Girlfriend While on the Show?</th>\n",
       "      <th>Hair Color</th>\n",
       "      <th>Eye Color</th>\n",
       "    </tr>\n",
       "  </thead>\n",
       "  <tbody>\n",
       "    <tr>\n",
       "      <th>0</th>\n",
       "      <td>15.0</td>\n",
       "      <td>Jed Wyatt</td>\n",
       "      <td>25.0</td>\n",
       "      <td>Sevierville, Tennessee</td>\n",
       "      <td>TN</td>\n",
       "      <td>Belmont University</td>\n",
       "      <td>Singer/Sonwriter</td>\n",
       "      <td>1.0</td>\n",
       "      <td>190.50</td>\n",
       "      <td>Yes</td>\n",
       "      <td>Brown</td>\n",
       "      <td>Brown</td>\n",
       "    </tr>\n",
       "    <tr>\n",
       "      <th>32</th>\n",
       "      <td>14.0</td>\n",
       "      <td>Jason Tartick</td>\n",
       "      <td>29.0</td>\n",
       "      <td>Buffalo, New York</td>\n",
       "      <td>NY</td>\n",
       "      <td>University of Rochester</td>\n",
       "      <td>Senior Corporate Banker</td>\n",
       "      <td>1.0</td>\n",
       "      <td>175.26</td>\n",
       "      <td>No</td>\n",
       "      <td>Brown</td>\n",
       "      <td>Brown</td>\n",
       "    </tr>\n",
       "    <tr>\n",
       "      <th>58</th>\n",
       "      <td>13.0</td>\n",
       "      <td>Bryan Abasolo</td>\n",
       "      <td>37.0</td>\n",
       "      <td>Miami, Florida</td>\n",
       "      <td>FL</td>\n",
       "      <td>University of Florida</td>\n",
       "      <td>Chiropractor</td>\n",
       "      <td>1.0</td>\n",
       "      <td>187.96</td>\n",
       "      <td>No</td>\n",
       "      <td>Brown</td>\n",
       "      <td>Brown</td>\n",
       "    </tr>\n",
       "    <tr>\n",
       "      <th>89</th>\n",
       "      <td>12.0</td>\n",
       "      <td>Jordan Rodgers</td>\n",
       "      <td>27.0</td>\n",
       "      <td>Chico, California</td>\n",
       "      <td>CA</td>\n",
       "      <td>Butte College</td>\n",
       "      <td>Former Pro Quarterback</td>\n",
       "      <td>1.0</td>\n",
       "      <td>187.96</td>\n",
       "      <td>No</td>\n",
       "      <td>Brown</td>\n",
       "      <td>Brown</td>\n",
       "    </tr>\n",
       "    <tr>\n",
       "      <th>115</th>\n",
       "      <td>11.0</td>\n",
       "      <td>Shawn Booth</td>\n",
       "      <td>28.0</td>\n",
       "      <td>Windsor Locks, Connecticut</td>\n",
       "      <td>CT</td>\n",
       "      <td>Keene State College</td>\n",
       "      <td>Personal Trainer</td>\n",
       "      <td>1.0</td>\n",
       "      <td>187.96</td>\n",
       "      <td>No</td>\n",
       "      <td>Brown</td>\n",
       "      <td>Brown</td>\n",
       "    </tr>\n",
       "  </tbody>\n",
       "</table>\n",
       "</div>"
      ],
      "text/plain": [
       "     Season            Name   Age                    Hometown State  \\\n",
       "0      15.0       Jed Wyatt  25.0      Sevierville, Tennessee    TN   \n",
       "32     14.0   Jason Tartick  29.0           Buffalo, New York    NY   \n",
       "58     13.0   Bryan Abasolo  37.0              Miami, Florida    FL   \n",
       "89     12.0  Jordan Rodgers  27.0           Chico, California    CA   \n",
       "115    11.0     Shawn Booth  28.0  Windsor Locks, Connecticut    CT   \n",
       "\n",
       "                     College               Occupation  Win_Loss  Height (cm)  \\\n",
       "0         Belmont University         Singer/Sonwriter       1.0       190.50   \n",
       "32   University of Rochester  Senior Corporate Banker       1.0       175.26   \n",
       "58     University of Florida             Chiropractor       1.0       187.96   \n",
       "89             Butte College   Former Pro Quarterback       1.0       187.96   \n",
       "115      Keene State College         Personal Trainer       1.0       187.96   \n",
       "\n",
       "    Girlfriend While on the Show? Hair Color Eye Color  \n",
       "0                             Yes      Brown     Brown  \n",
       "32                             No      Brown     Brown  \n",
       "58                             No      Brown     Brown  \n",
       "89                             No      Brown     Brown  \n",
       "115                            No      Brown     Brown  "
      ]
     },
     "execution_count": 259,
     "metadata": {},
     "output_type": "execute_result"
    }
   ],
   "source": [
    "df[df['Win_Loss']==1]"
   ]
  },
  {
   "cell_type": "code",
   "execution_count": 260,
   "metadata": {},
   "outputs": [],
   "source": [
    "# replace outcome with \"Yes\" or \"No\"\n",
    "\n",
    "df['Win_Loss'] = df['Win_Loss'].astype(object)\n",
    "df.replace({'Win_Loss':{'1.0':'Yes','0.0':'No'}},inplace=True)"
   ]
  },
  {
   "cell_type": "code",
   "execution_count": 261,
   "metadata": {},
   "outputs": [
    {
     "data": {
      "text/plain": [
       "0      190.50\n",
       "1      187.96\n",
       "2      175.25\n",
       "3      175.00\n",
       "4      180.80\n",
       "        ...  \n",
       "136    180.80\n",
       "137    187.96\n",
       "138    180.80\n",
       "139    187.96\n",
       "140    190.50\n",
       "Name: Height (cm), Length: 141, dtype: float64"
      ]
     },
     "execution_count": 261,
     "metadata": {},
     "output_type": "execute_result"
    }
   ],
   "source": [
    "#cleaning up a little \n",
    "\n",
    "df['Age'] = df[\"Age\"].astype('int')\n",
    "df['Height (cm)'].round(decimals=2)"
   ]
  },
  {
   "cell_type": "code",
   "execution_count": 262,
   "metadata": {},
   "outputs": [
    {
     "name": "stdout",
     "output_type": "stream",
     "text": [
      "115\n",
      "126\n",
      "88\n",
      "32\n"
     ]
    }
   ],
   "source": [
    "print(df['Hometown'].nunique())\n",
    "print(df['Occupation'].nunique())\n",
    "print(df['College'].nunique())\n",
    "print(df['State'].nunique())"
   ]
  },
  {
   "cell_type": "code",
   "execution_count": 263,
   "metadata": {},
   "outputs": [
    {
     "name": "stdout",
     "output_type": "stream",
     "text": [
      "In seasons 11-15, there were 141 unique contestants. 0 contestants have appeared in more than one season.\n"
     ]
    }
   ],
   "source": [
    "print('In seasons 11-15, there were {:,} unique contestants. {:,} contestants have appeared in more than one season.'.format(df['Name'].nunique(), len([x for x in df['Name'].value_counts() if x > 1])))"
   ]
  },
  {
   "cell_type": "code",
   "execution_count": 264,
   "metadata": {},
   "outputs": [
    {
     "name": "stdout",
     "output_type": "stream",
     "text": [
      "In seasons 11-15, there were 115 unique hometowns. 10 hometowns have appeared multiple times.\n"
     ]
    }
   ],
   "source": [
    "print('In seasons 11-15, there were {:,} unique hometowns. {:,} hometowns have appeared multiple times.'.format(df['Hometown'].nunique(), len([x for x in df['Hometown'].value_counts() if x > 1])))"
   ]
  },
  {
   "cell_type": "code",
   "execution_count": 265,
   "metadata": {},
   "outputs": [
    {
     "data": {
      "application/vnd.plotly.v1+json": {
       "config": {
        "linkText": "Export to plot.ly",
        "plotlyServerURL": "https://plot.ly",
        "showLink": false
       },
       "data": [
        {
         "autocolorscale": false,
         "colorscale": [
          [
           0,
           "rgb(255,245,240)"
          ],
          [
           0.125,
           "rgb(254,224,210)"
          ],
          [
           0.25,
           "rgb(252,187,161)"
          ],
          [
           0.375,
           "rgb(252,146,114)"
          ],
          [
           0.5,
           "rgb(251,106,74)"
          ],
          [
           0.625,
           "rgb(239,59,44)"
          ],
          [
           0.75,
           "rgb(203,24,29)"
          ],
          [
           0.875,
           "rgb(165,15,21)"
          ],
          [
           1,
           "rgb(103,0,13)"
          ]
         ],
         "locationmode": "USA-states",
         "locations": [
          "CA",
          "IL",
          "FL",
          "GA",
          "NY",
          "TX",
          "MA",
          "MI",
          "CO",
          "CT",
          "Other",
          "MD",
          "NJ",
          "OH",
          "TN",
          "IA",
          "VA",
          "MN",
          "WI",
          "MO",
          "KY",
          "KA",
          "AL",
          "AR",
          "NC",
          "PA",
          "RI",
          "ID",
          "AZ",
          "OK",
          "WA",
          "IN"
         ],
         "marker": {
          "line": {
           "color": "rgb(255, 255, 255)",
           "width": 2
          }
         },
         "reversescale": true,
         "text": [
          "32",
          "17",
          "16",
          "6",
          "6",
          "6",
          "5",
          "5",
          "5",
          "4",
          "4",
          "3",
          "3",
          "3",
          "3",
          "2",
          "2",
          "2",
          "2",
          "2",
          "2",
          "1",
          "1",
          "1",
          "1",
          "1",
          "1",
          "1",
          "1",
          "1",
          "1",
          "1"
         ],
         "type": "choropleth",
         "z": [
          32,
          17,
          16,
          6,
          6,
          6,
          5,
          5,
          5,
          4,
          4,
          3,
          3,
          3,
          3,
          2,
          2,
          2,
          2,
          2,
          2,
          1,
          1,
          1,
          1,
          1,
          1,
          1,
          1,
          1,
          1,
          1
         ]
        }
       ],
       "layout": {
        "geo": {
         "countrycolor": "rgb(255, 255, 255)",
         "lakecolor": "rgb(255, 255, 255)",
         "projection": {
          "type": "albers usa"
         },
         "scope": "usa",
         "showlakes": true
        },
        "template": {
         "data": {
          "bar": [
           {
            "error_x": {
             "color": "#2a3f5f"
            },
            "error_y": {
             "color": "#2a3f5f"
            },
            "marker": {
             "line": {
              "color": "#E5ECF6",
              "width": 0.5
             },
             "pattern": {
              "fillmode": "overlay",
              "size": 10,
              "solidity": 0.2
             }
            },
            "type": "bar"
           }
          ],
          "barpolar": [
           {
            "marker": {
             "line": {
              "color": "#E5ECF6",
              "width": 0.5
             },
             "pattern": {
              "fillmode": "overlay",
              "size": 10,
              "solidity": 0.2
             }
            },
            "type": "barpolar"
           }
          ],
          "carpet": [
           {
            "aaxis": {
             "endlinecolor": "#2a3f5f",
             "gridcolor": "white",
             "linecolor": "white",
             "minorgridcolor": "white",
             "startlinecolor": "#2a3f5f"
            },
            "baxis": {
             "endlinecolor": "#2a3f5f",
             "gridcolor": "white",
             "linecolor": "white",
             "minorgridcolor": "white",
             "startlinecolor": "#2a3f5f"
            },
            "type": "carpet"
           }
          ],
          "choropleth": [
           {
            "colorbar": {
             "outlinewidth": 0,
             "ticks": ""
            },
            "type": "choropleth"
           }
          ],
          "contour": [
           {
            "colorbar": {
             "outlinewidth": 0,
             "ticks": ""
            },
            "colorscale": [
             [
              0,
              "#0d0887"
             ],
             [
              0.1111111111111111,
              "#46039f"
             ],
             [
              0.2222222222222222,
              "#7201a8"
             ],
             [
              0.3333333333333333,
              "#9c179e"
             ],
             [
              0.4444444444444444,
              "#bd3786"
             ],
             [
              0.5555555555555556,
              "#d8576b"
             ],
             [
              0.6666666666666666,
              "#ed7953"
             ],
             [
              0.7777777777777778,
              "#fb9f3a"
             ],
             [
              0.8888888888888888,
              "#fdca26"
             ],
             [
              1,
              "#f0f921"
             ]
            ],
            "type": "contour"
           }
          ],
          "contourcarpet": [
           {
            "colorbar": {
             "outlinewidth": 0,
             "ticks": ""
            },
            "type": "contourcarpet"
           }
          ],
          "heatmap": [
           {
            "colorbar": {
             "outlinewidth": 0,
             "ticks": ""
            },
            "colorscale": [
             [
              0,
              "#0d0887"
             ],
             [
              0.1111111111111111,
              "#46039f"
             ],
             [
              0.2222222222222222,
              "#7201a8"
             ],
             [
              0.3333333333333333,
              "#9c179e"
             ],
             [
              0.4444444444444444,
              "#bd3786"
             ],
             [
              0.5555555555555556,
              "#d8576b"
             ],
             [
              0.6666666666666666,
              "#ed7953"
             ],
             [
              0.7777777777777778,
              "#fb9f3a"
             ],
             [
              0.8888888888888888,
              "#fdca26"
             ],
             [
              1,
              "#f0f921"
             ]
            ],
            "type": "heatmap"
           }
          ],
          "heatmapgl": [
           {
            "colorbar": {
             "outlinewidth": 0,
             "ticks": ""
            },
            "colorscale": [
             [
              0,
              "#0d0887"
             ],
             [
              0.1111111111111111,
              "#46039f"
             ],
             [
              0.2222222222222222,
              "#7201a8"
             ],
             [
              0.3333333333333333,
              "#9c179e"
             ],
             [
              0.4444444444444444,
              "#bd3786"
             ],
             [
              0.5555555555555556,
              "#d8576b"
             ],
             [
              0.6666666666666666,
              "#ed7953"
             ],
             [
              0.7777777777777778,
              "#fb9f3a"
             ],
             [
              0.8888888888888888,
              "#fdca26"
             ],
             [
              1,
              "#f0f921"
             ]
            ],
            "type": "heatmapgl"
           }
          ],
          "histogram": [
           {
            "marker": {
             "pattern": {
              "fillmode": "overlay",
              "size": 10,
              "solidity": 0.2
             }
            },
            "type": "histogram"
           }
          ],
          "histogram2d": [
           {
            "colorbar": {
             "outlinewidth": 0,
             "ticks": ""
            },
            "colorscale": [
             [
              0,
              "#0d0887"
             ],
             [
              0.1111111111111111,
              "#46039f"
             ],
             [
              0.2222222222222222,
              "#7201a8"
             ],
             [
              0.3333333333333333,
              "#9c179e"
             ],
             [
              0.4444444444444444,
              "#bd3786"
             ],
             [
              0.5555555555555556,
              "#d8576b"
             ],
             [
              0.6666666666666666,
              "#ed7953"
             ],
             [
              0.7777777777777778,
              "#fb9f3a"
             ],
             [
              0.8888888888888888,
              "#fdca26"
             ],
             [
              1,
              "#f0f921"
             ]
            ],
            "type": "histogram2d"
           }
          ],
          "histogram2dcontour": [
           {
            "colorbar": {
             "outlinewidth": 0,
             "ticks": ""
            },
            "colorscale": [
             [
              0,
              "#0d0887"
             ],
             [
              0.1111111111111111,
              "#46039f"
             ],
             [
              0.2222222222222222,
              "#7201a8"
             ],
             [
              0.3333333333333333,
              "#9c179e"
             ],
             [
              0.4444444444444444,
              "#bd3786"
             ],
             [
              0.5555555555555556,
              "#d8576b"
             ],
             [
              0.6666666666666666,
              "#ed7953"
             ],
             [
              0.7777777777777778,
              "#fb9f3a"
             ],
             [
              0.8888888888888888,
              "#fdca26"
             ],
             [
              1,
              "#f0f921"
             ]
            ],
            "type": "histogram2dcontour"
           }
          ],
          "mesh3d": [
           {
            "colorbar": {
             "outlinewidth": 0,
             "ticks": ""
            },
            "type": "mesh3d"
           }
          ],
          "parcoords": [
           {
            "line": {
             "colorbar": {
              "outlinewidth": 0,
              "ticks": ""
             }
            },
            "type": "parcoords"
           }
          ],
          "pie": [
           {
            "automargin": true,
            "type": "pie"
           }
          ],
          "scatter": [
           {
            "marker": {
             "colorbar": {
              "outlinewidth": 0,
              "ticks": ""
             }
            },
            "type": "scatter"
           }
          ],
          "scatter3d": [
           {
            "line": {
             "colorbar": {
              "outlinewidth": 0,
              "ticks": ""
             }
            },
            "marker": {
             "colorbar": {
              "outlinewidth": 0,
              "ticks": ""
             }
            },
            "type": "scatter3d"
           }
          ],
          "scattercarpet": [
           {
            "marker": {
             "colorbar": {
              "outlinewidth": 0,
              "ticks": ""
             }
            },
            "type": "scattercarpet"
           }
          ],
          "scattergeo": [
           {
            "marker": {
             "colorbar": {
              "outlinewidth": 0,
              "ticks": ""
             }
            },
            "type": "scattergeo"
           }
          ],
          "scattergl": [
           {
            "marker": {
             "colorbar": {
              "outlinewidth": 0,
              "ticks": ""
             }
            },
            "type": "scattergl"
           }
          ],
          "scattermapbox": [
           {
            "marker": {
             "colorbar": {
              "outlinewidth": 0,
              "ticks": ""
             }
            },
            "type": "scattermapbox"
           }
          ],
          "scatterpolar": [
           {
            "marker": {
             "colorbar": {
              "outlinewidth": 0,
              "ticks": ""
             }
            },
            "type": "scatterpolar"
           }
          ],
          "scatterpolargl": [
           {
            "marker": {
             "colorbar": {
              "outlinewidth": 0,
              "ticks": ""
             }
            },
            "type": "scatterpolargl"
           }
          ],
          "scatterternary": [
           {
            "marker": {
             "colorbar": {
              "outlinewidth": 0,
              "ticks": ""
             }
            },
            "type": "scatterternary"
           }
          ],
          "surface": [
           {
            "colorbar": {
             "outlinewidth": 0,
             "ticks": ""
            },
            "colorscale": [
             [
              0,
              "#0d0887"
             ],
             [
              0.1111111111111111,
              "#46039f"
             ],
             [
              0.2222222222222222,
              "#7201a8"
             ],
             [
              0.3333333333333333,
              "#9c179e"
             ],
             [
              0.4444444444444444,
              "#bd3786"
             ],
             [
              0.5555555555555556,
              "#d8576b"
             ],
             [
              0.6666666666666666,
              "#ed7953"
             ],
             [
              0.7777777777777778,
              "#fb9f3a"
             ],
             [
              0.8888888888888888,
              "#fdca26"
             ],
             [
              1,
              "#f0f921"
             ]
            ],
            "type": "surface"
           }
          ],
          "table": [
           {
            "cells": {
             "fill": {
              "color": "#EBF0F8"
             },
             "line": {
              "color": "white"
             }
            },
            "header": {
             "fill": {
              "color": "#C8D4E3"
             },
             "line": {
              "color": "white"
             }
            },
            "type": "table"
           }
          ]
         },
         "layout": {
          "annotationdefaults": {
           "arrowcolor": "#2a3f5f",
           "arrowhead": 0,
           "arrowwidth": 1
          },
          "autotypenumbers": "strict",
          "coloraxis": {
           "colorbar": {
            "outlinewidth": 0,
            "ticks": ""
           }
          },
          "colorscale": {
           "diverging": [
            [
             0,
             "#8e0152"
            ],
            [
             0.1,
             "#c51b7d"
            ],
            [
             0.2,
             "#de77ae"
            ],
            [
             0.3,
             "#f1b6da"
            ],
            [
             0.4,
             "#fde0ef"
            ],
            [
             0.5,
             "#f7f7f7"
            ],
            [
             0.6,
             "#e6f5d0"
            ],
            [
             0.7,
             "#b8e186"
            ],
            [
             0.8,
             "#7fbc41"
            ],
            [
             0.9,
             "#4d9221"
            ],
            [
             1,
             "#276419"
            ]
           ],
           "sequential": [
            [
             0,
             "#0d0887"
            ],
            [
             0.1111111111111111,
             "#46039f"
            ],
            [
             0.2222222222222222,
             "#7201a8"
            ],
            [
             0.3333333333333333,
             "#9c179e"
            ],
            [
             0.4444444444444444,
             "#bd3786"
            ],
            [
             0.5555555555555556,
             "#d8576b"
            ],
            [
             0.6666666666666666,
             "#ed7953"
            ],
            [
             0.7777777777777778,
             "#fb9f3a"
            ],
            [
             0.8888888888888888,
             "#fdca26"
            ],
            [
             1,
             "#f0f921"
            ]
           ],
           "sequentialminus": [
            [
             0,
             "#0d0887"
            ],
            [
             0.1111111111111111,
             "#46039f"
            ],
            [
             0.2222222222222222,
             "#7201a8"
            ],
            [
             0.3333333333333333,
             "#9c179e"
            ],
            [
             0.4444444444444444,
             "#bd3786"
            ],
            [
             0.5555555555555556,
             "#d8576b"
            ],
            [
             0.6666666666666666,
             "#ed7953"
            ],
            [
             0.7777777777777778,
             "#fb9f3a"
            ],
            [
             0.8888888888888888,
             "#fdca26"
            ],
            [
             1,
             "#f0f921"
            ]
           ]
          },
          "colorway": [
           "#636efa",
           "#EF553B",
           "#00cc96",
           "#ab63fa",
           "#FFA15A",
           "#19d3f3",
           "#FF6692",
           "#B6E880",
           "#FF97FF",
           "#FECB52"
          ],
          "font": {
           "color": "#2a3f5f"
          },
          "geo": {
           "bgcolor": "white",
           "lakecolor": "white",
           "landcolor": "#E5ECF6",
           "showlakes": true,
           "showland": true,
           "subunitcolor": "white"
          },
          "hoverlabel": {
           "align": "left"
          },
          "hovermode": "closest",
          "mapbox": {
           "style": "light"
          },
          "paper_bgcolor": "white",
          "plot_bgcolor": "#E5ECF6",
          "polar": {
           "angularaxis": {
            "gridcolor": "white",
            "linecolor": "white",
            "ticks": ""
           },
           "bgcolor": "#E5ECF6",
           "radialaxis": {
            "gridcolor": "white",
            "linecolor": "white",
            "ticks": ""
           }
          },
          "scene": {
           "xaxis": {
            "backgroundcolor": "#E5ECF6",
            "gridcolor": "white",
            "gridwidth": 2,
            "linecolor": "white",
            "showbackground": true,
            "ticks": "",
            "zerolinecolor": "white"
           },
           "yaxis": {
            "backgroundcolor": "#E5ECF6",
            "gridcolor": "white",
            "gridwidth": 2,
            "linecolor": "white",
            "showbackground": true,
            "ticks": "",
            "zerolinecolor": "white"
           },
           "zaxis": {
            "backgroundcolor": "#E5ECF6",
            "gridcolor": "white",
            "gridwidth": 2,
            "linecolor": "white",
            "showbackground": true,
            "ticks": "",
            "zerolinecolor": "white"
           }
          },
          "shapedefaults": {
           "line": {
            "color": "#2a3f5f"
           }
          },
          "ternary": {
           "aaxis": {
            "gridcolor": "white",
            "linecolor": "white",
            "ticks": ""
           },
           "baxis": {
            "gridcolor": "white",
            "linecolor": "white",
            "ticks": ""
           },
           "bgcolor": "#E5ECF6",
           "caxis": {
            "gridcolor": "white",
            "linecolor": "white",
            "ticks": ""
           }
          },
          "title": {
           "x": 0.05
          },
          "xaxis": {
           "automargin": true,
           "gridcolor": "white",
           "linecolor": "white",
           "ticks": "",
           "title": {
            "standoff": 15
           },
           "zerolinecolor": "white",
           "zerolinewidth": 2
          },
          "yaxis": {
           "automargin": true,
           "gridcolor": "white",
           "linecolor": "white",
           "ticks": "",
           "title": {
            "standoff": 15
           },
           "zerolinecolor": "white",
           "zerolinewidth": 2
          }
         }
        },
        "title": {
         "text": "Bachelorette Contestants by State"
        }
       }
      },
      "text/html": [
       "<div>                            <div id=\"c4e3b9b7-68d1-4e3c-a70c-6710e9a05d36\" class=\"plotly-graph-div\" style=\"height:525px; width:100%;\"></div>            <script type=\"text/javascript\">                require([\"plotly\"], function(Plotly) {                    window.PLOTLYENV=window.PLOTLYENV || {};                                    if (document.getElementById(\"c4e3b9b7-68d1-4e3c-a70c-6710e9a05d36\")) {                    Plotly.newPlot(                        \"c4e3b9b7-68d1-4e3c-a70c-6710e9a05d36\",                        [{\"autocolorscale\":false,\"colorscale\":[[0.0,\"rgb(255,245,240)\"],[0.125,\"rgb(254,224,210)\"],[0.25,\"rgb(252,187,161)\"],[0.375,\"rgb(252,146,114)\"],[0.5,\"rgb(251,106,74)\"],[0.625,\"rgb(239,59,44)\"],[0.75,\"rgb(203,24,29)\"],[0.875,\"rgb(165,15,21)\"],[1.0,\"rgb(103,0,13)\"]],\"locationmode\":\"USA-states\",\"locations\":[\"CA\",\"IL\",\"FL\",\"GA\",\"NY\",\"TX\",\"MA\",\"MI\",\"CO\",\"CT\",\"Other\",\"MD\",\"NJ\",\"OH\",\"TN\",\"IA\",\"VA\",\"MN\",\"WI\",\"MO\",\"KY\",\"KA\",\"AL\",\"AR\",\"NC\",\"PA\",\"RI\",\"ID\",\"AZ\",\"OK\",\"WA\",\"IN\"],\"marker\":{\"line\":{\"color\":\"rgb(255, 255, 255)\",\"width\":2}},\"reversescale\":true,\"text\":[\"32\",\"17\",\"16\",\"6\",\"6\",\"6\",\"5\",\"5\",\"5\",\"4\",\"4\",\"3\",\"3\",\"3\",\"3\",\"2\",\"2\",\"2\",\"2\",\"2\",\"2\",\"1\",\"1\",\"1\",\"1\",\"1\",\"1\",\"1\",\"1\",\"1\",\"1\",\"1\"],\"type\":\"choropleth\",\"z\":[32,17,16,6,6,6,5,5,5,4,4,3,3,3,3,2,2,2,2,2,2,1,1,1,1,1,1,1,1,1,1,1]}],                        {\"geo\":{\"countrycolor\":\"rgb(255, 255, 255)\",\"lakecolor\":\"rgb(255, 255, 255)\",\"projection\":{\"type\":\"albers usa\"},\"scope\":\"usa\",\"showlakes\":true},\"template\":{\"data\":{\"bar\":[{\"error_x\":{\"color\":\"#2a3f5f\"},\"error_y\":{\"color\":\"#2a3f5f\"},\"marker\":{\"line\":{\"color\":\"#E5ECF6\",\"width\":0.5},\"pattern\":{\"fillmode\":\"overlay\",\"size\":10,\"solidity\":0.2}},\"type\":\"bar\"}],\"barpolar\":[{\"marker\":{\"line\":{\"color\":\"#E5ECF6\",\"width\":0.5},\"pattern\":{\"fillmode\":\"overlay\",\"size\":10,\"solidity\":0.2}},\"type\":\"barpolar\"}],\"carpet\":[{\"aaxis\":{\"endlinecolor\":\"#2a3f5f\",\"gridcolor\":\"white\",\"linecolor\":\"white\",\"minorgridcolor\":\"white\",\"startlinecolor\":\"#2a3f5f\"},\"baxis\":{\"endlinecolor\":\"#2a3f5f\",\"gridcolor\":\"white\",\"linecolor\":\"white\",\"minorgridcolor\":\"white\",\"startlinecolor\":\"#2a3f5f\"},\"type\":\"carpet\"}],\"choropleth\":[{\"colorbar\":{\"outlinewidth\":0,\"ticks\":\"\"},\"type\":\"choropleth\"}],\"contour\":[{\"colorbar\":{\"outlinewidth\":0,\"ticks\":\"\"},\"colorscale\":[[0.0,\"#0d0887\"],[0.1111111111111111,\"#46039f\"],[0.2222222222222222,\"#7201a8\"],[0.3333333333333333,\"#9c179e\"],[0.4444444444444444,\"#bd3786\"],[0.5555555555555556,\"#d8576b\"],[0.6666666666666666,\"#ed7953\"],[0.7777777777777778,\"#fb9f3a\"],[0.8888888888888888,\"#fdca26\"],[1.0,\"#f0f921\"]],\"type\":\"contour\"}],\"contourcarpet\":[{\"colorbar\":{\"outlinewidth\":0,\"ticks\":\"\"},\"type\":\"contourcarpet\"}],\"heatmap\":[{\"colorbar\":{\"outlinewidth\":0,\"ticks\":\"\"},\"colorscale\":[[0.0,\"#0d0887\"],[0.1111111111111111,\"#46039f\"],[0.2222222222222222,\"#7201a8\"],[0.3333333333333333,\"#9c179e\"],[0.4444444444444444,\"#bd3786\"],[0.5555555555555556,\"#d8576b\"],[0.6666666666666666,\"#ed7953\"],[0.7777777777777778,\"#fb9f3a\"],[0.8888888888888888,\"#fdca26\"],[1.0,\"#f0f921\"]],\"type\":\"heatmap\"}],\"heatmapgl\":[{\"colorbar\":{\"outlinewidth\":0,\"ticks\":\"\"},\"colorscale\":[[0.0,\"#0d0887\"],[0.1111111111111111,\"#46039f\"],[0.2222222222222222,\"#7201a8\"],[0.3333333333333333,\"#9c179e\"],[0.4444444444444444,\"#bd3786\"],[0.5555555555555556,\"#d8576b\"],[0.6666666666666666,\"#ed7953\"],[0.7777777777777778,\"#fb9f3a\"],[0.8888888888888888,\"#fdca26\"],[1.0,\"#f0f921\"]],\"type\":\"heatmapgl\"}],\"histogram\":[{\"marker\":{\"pattern\":{\"fillmode\":\"overlay\",\"size\":10,\"solidity\":0.2}},\"type\":\"histogram\"}],\"histogram2d\":[{\"colorbar\":{\"outlinewidth\":0,\"ticks\":\"\"},\"colorscale\":[[0.0,\"#0d0887\"],[0.1111111111111111,\"#46039f\"],[0.2222222222222222,\"#7201a8\"],[0.3333333333333333,\"#9c179e\"],[0.4444444444444444,\"#bd3786\"],[0.5555555555555556,\"#d8576b\"],[0.6666666666666666,\"#ed7953\"],[0.7777777777777778,\"#fb9f3a\"],[0.8888888888888888,\"#fdca26\"],[1.0,\"#f0f921\"]],\"type\":\"histogram2d\"}],\"histogram2dcontour\":[{\"colorbar\":{\"outlinewidth\":0,\"ticks\":\"\"},\"colorscale\":[[0.0,\"#0d0887\"],[0.1111111111111111,\"#46039f\"],[0.2222222222222222,\"#7201a8\"],[0.3333333333333333,\"#9c179e\"],[0.4444444444444444,\"#bd3786\"],[0.5555555555555556,\"#d8576b\"],[0.6666666666666666,\"#ed7953\"],[0.7777777777777778,\"#fb9f3a\"],[0.8888888888888888,\"#fdca26\"],[1.0,\"#f0f921\"]],\"type\":\"histogram2dcontour\"}],\"mesh3d\":[{\"colorbar\":{\"outlinewidth\":0,\"ticks\":\"\"},\"type\":\"mesh3d\"}],\"parcoords\":[{\"line\":{\"colorbar\":{\"outlinewidth\":0,\"ticks\":\"\"}},\"type\":\"parcoords\"}],\"pie\":[{\"automargin\":true,\"type\":\"pie\"}],\"scatter\":[{\"marker\":{\"colorbar\":{\"outlinewidth\":0,\"ticks\":\"\"}},\"type\":\"scatter\"}],\"scatter3d\":[{\"line\":{\"colorbar\":{\"outlinewidth\":0,\"ticks\":\"\"}},\"marker\":{\"colorbar\":{\"outlinewidth\":0,\"ticks\":\"\"}},\"type\":\"scatter3d\"}],\"scattercarpet\":[{\"marker\":{\"colorbar\":{\"outlinewidth\":0,\"ticks\":\"\"}},\"type\":\"scattercarpet\"}],\"scattergeo\":[{\"marker\":{\"colorbar\":{\"outlinewidth\":0,\"ticks\":\"\"}},\"type\":\"scattergeo\"}],\"scattergl\":[{\"marker\":{\"colorbar\":{\"outlinewidth\":0,\"ticks\":\"\"}},\"type\":\"scattergl\"}],\"scattermapbox\":[{\"marker\":{\"colorbar\":{\"outlinewidth\":0,\"ticks\":\"\"}},\"type\":\"scattermapbox\"}],\"scatterpolar\":[{\"marker\":{\"colorbar\":{\"outlinewidth\":0,\"ticks\":\"\"}},\"type\":\"scatterpolar\"}],\"scatterpolargl\":[{\"marker\":{\"colorbar\":{\"outlinewidth\":0,\"ticks\":\"\"}},\"type\":\"scatterpolargl\"}],\"scatterternary\":[{\"marker\":{\"colorbar\":{\"outlinewidth\":0,\"ticks\":\"\"}},\"type\":\"scatterternary\"}],\"surface\":[{\"colorbar\":{\"outlinewidth\":0,\"ticks\":\"\"},\"colorscale\":[[0.0,\"#0d0887\"],[0.1111111111111111,\"#46039f\"],[0.2222222222222222,\"#7201a8\"],[0.3333333333333333,\"#9c179e\"],[0.4444444444444444,\"#bd3786\"],[0.5555555555555556,\"#d8576b\"],[0.6666666666666666,\"#ed7953\"],[0.7777777777777778,\"#fb9f3a\"],[0.8888888888888888,\"#fdca26\"],[1.0,\"#f0f921\"]],\"type\":\"surface\"}],\"table\":[{\"cells\":{\"fill\":{\"color\":\"#EBF0F8\"},\"line\":{\"color\":\"white\"}},\"header\":{\"fill\":{\"color\":\"#C8D4E3\"},\"line\":{\"color\":\"white\"}},\"type\":\"table\"}]},\"layout\":{\"annotationdefaults\":{\"arrowcolor\":\"#2a3f5f\",\"arrowhead\":0,\"arrowwidth\":1},\"autotypenumbers\":\"strict\",\"coloraxis\":{\"colorbar\":{\"outlinewidth\":0,\"ticks\":\"\"}},\"colorscale\":{\"diverging\":[[0,\"#8e0152\"],[0.1,\"#c51b7d\"],[0.2,\"#de77ae\"],[0.3,\"#f1b6da\"],[0.4,\"#fde0ef\"],[0.5,\"#f7f7f7\"],[0.6,\"#e6f5d0\"],[0.7,\"#b8e186\"],[0.8,\"#7fbc41\"],[0.9,\"#4d9221\"],[1,\"#276419\"]],\"sequential\":[[0.0,\"#0d0887\"],[0.1111111111111111,\"#46039f\"],[0.2222222222222222,\"#7201a8\"],[0.3333333333333333,\"#9c179e\"],[0.4444444444444444,\"#bd3786\"],[0.5555555555555556,\"#d8576b\"],[0.6666666666666666,\"#ed7953\"],[0.7777777777777778,\"#fb9f3a\"],[0.8888888888888888,\"#fdca26\"],[1.0,\"#f0f921\"]],\"sequentialminus\":[[0.0,\"#0d0887\"],[0.1111111111111111,\"#46039f\"],[0.2222222222222222,\"#7201a8\"],[0.3333333333333333,\"#9c179e\"],[0.4444444444444444,\"#bd3786\"],[0.5555555555555556,\"#d8576b\"],[0.6666666666666666,\"#ed7953\"],[0.7777777777777778,\"#fb9f3a\"],[0.8888888888888888,\"#fdca26\"],[1.0,\"#f0f921\"]]},\"colorway\":[\"#636efa\",\"#EF553B\",\"#00cc96\",\"#ab63fa\",\"#FFA15A\",\"#19d3f3\",\"#FF6692\",\"#B6E880\",\"#FF97FF\",\"#FECB52\"],\"font\":{\"color\":\"#2a3f5f\"},\"geo\":{\"bgcolor\":\"white\",\"lakecolor\":\"white\",\"landcolor\":\"#E5ECF6\",\"showlakes\":true,\"showland\":true,\"subunitcolor\":\"white\"},\"hoverlabel\":{\"align\":\"left\"},\"hovermode\":\"closest\",\"mapbox\":{\"style\":\"light\"},\"paper_bgcolor\":\"white\",\"plot_bgcolor\":\"#E5ECF6\",\"polar\":{\"angularaxis\":{\"gridcolor\":\"white\",\"linecolor\":\"white\",\"ticks\":\"\"},\"bgcolor\":\"#E5ECF6\",\"radialaxis\":{\"gridcolor\":\"white\",\"linecolor\":\"white\",\"ticks\":\"\"}},\"scene\":{\"xaxis\":{\"backgroundcolor\":\"#E5ECF6\",\"gridcolor\":\"white\",\"gridwidth\":2,\"linecolor\":\"white\",\"showbackground\":true,\"ticks\":\"\",\"zerolinecolor\":\"white\"},\"yaxis\":{\"backgroundcolor\":\"#E5ECF6\",\"gridcolor\":\"white\",\"gridwidth\":2,\"linecolor\":\"white\",\"showbackground\":true,\"ticks\":\"\",\"zerolinecolor\":\"white\"},\"zaxis\":{\"backgroundcolor\":\"#E5ECF6\",\"gridcolor\":\"white\",\"gridwidth\":2,\"linecolor\":\"white\",\"showbackground\":true,\"ticks\":\"\",\"zerolinecolor\":\"white\"}},\"shapedefaults\":{\"line\":{\"color\":\"#2a3f5f\"}},\"ternary\":{\"aaxis\":{\"gridcolor\":\"white\",\"linecolor\":\"white\",\"ticks\":\"\"},\"baxis\":{\"gridcolor\":\"white\",\"linecolor\":\"white\",\"ticks\":\"\"},\"bgcolor\":\"#E5ECF6\",\"caxis\":{\"gridcolor\":\"white\",\"linecolor\":\"white\",\"ticks\":\"\"}},\"title\":{\"x\":0.05},\"xaxis\":{\"automargin\":true,\"gridcolor\":\"white\",\"linecolor\":\"white\",\"ticks\":\"\",\"title\":{\"standoff\":15},\"zerolinecolor\":\"white\",\"zerolinewidth\":2},\"yaxis\":{\"automargin\":true,\"gridcolor\":\"white\",\"linecolor\":\"white\",\"ticks\":\"\",\"title\":{\"standoff\":15},\"zerolinecolor\":\"white\",\"zerolinewidth\":2}}},\"title\":{\"text\":\"Bachelorette Contestants by State\"}},                        {\"responsive\": true}                    ).then(function(){\n",
       "                            \n",
       "var gd = document.getElementById('c4e3b9b7-68d1-4e3c-a70c-6710e9a05d36');\n",
       "var x = new MutationObserver(function (mutations, observer) {{\n",
       "        var display = window.getComputedStyle(gd).display;\n",
       "        if (!display || display === 'none') {{\n",
       "            console.log([gd, 'removed!']);\n",
       "            Plotly.purge(gd);\n",
       "            observer.disconnect();\n",
       "        }}\n",
       "}});\n",
       "\n",
       "// Listen for the removal of the full notebook cells\n",
       "var notebookContainer = gd.closest('#notebook-container');\n",
       "if (notebookContainer) {{\n",
       "    x.observe(notebookContainer, {childList: true});\n",
       "}}\n",
       "\n",
       "// Listen for the clearing of the current output cell\n",
       "var outputEl = gd.closest('.output');\n",
       "if (outputEl) {{\n",
       "    x.observe(outputEl, {childList: true});\n",
       "}}\n",
       "\n",
       "                        })                };                });            </script>        </div>"
      ]
     },
     "metadata": {},
     "output_type": "display_data"
    }
   ],
   "source": [
    "#Takes a while to load, Heat Map of the US\n",
    "perstate = df[df['State'] != '']['State'].value_counts().to_dict()\n",
    "\n",
    "data = [dict(\n",
    "        type = 'choropleth',\n",
    "        autocolorscale = False,\n",
    "        colorscale = 'Reds',\n",
    "        reversescale = True,\n",
    "        locations = list(perstate.keys()),\n",
    "        locationmode = 'USA-states',\n",
    "        text = list(perstate.values()),\n",
    "        z = list(perstate.values()),\n",
    "        marker = dict(\n",
    "            line = dict(\n",
    "                color = 'rgb(255, 255, 255)',\n",
    "                width = 2)\n",
    "            ),\n",
    "        )]\n",
    "\n",
    "layout = dict(\n",
    "         title = 'Bachelorette Contestants by State',\n",
    "         geo = dict(\n",
    "             scope = 'usa',\n",
    "             projection = dict(type = 'albers usa'),\n",
    "             countrycolor = 'rgb(255, 255, 255)',\n",
    "             showlakes = True,\n",
    "             lakecolor = 'rgb(255, 255, 255)')\n",
    "         )\n",
    "\n",
    "figure = dict(data = data, layout = layout)\n",
    "iplot(figure)\n",
    "\n"
   ]
  },
  {
   "cell_type": "code",
   "execution_count": 266,
   "metadata": {},
   "outputs": [
    {
     "data": {
      "text/plain": [
       "<matplotlib.axes._subplots.AxesSubplot at 0x282dfc0bf88>"
      ]
     },
     "execution_count": 266,
     "metadata": {},
     "output_type": "execute_result"
    },
    {
     "data": {
      "image/png": "[encoded data removed]",
      "text/plain": [
       "<Figure size 432x288 with 1 Axes>"
      ]
     },
     "metadata": {
      "needs_background": "light"
     },
     "output_type": "display_data"
    }
   ],
   "source": [
    "#simple histogram for all ages; season 11-15\n",
    "\n",
    "df['Age'].hist(bins=15, color='DarkRed')"
   ]
  },
  {
   "cell_type": "code",
   "execution_count": 267,
   "metadata": {},
   "outputs": [
    {
     "data": {
      "text/plain": [
       "23"
      ]
     },
     "execution_count": 267,
     "metadata": {},
     "output_type": "execute_result"
    }
   ],
   "source": [
    "#Gives min age\n",
    "df['Age'].min()"
   ]
  },
  {
   "cell_type": "code",
   "execution_count": 268,
   "metadata": {},
   "outputs": [
    {
     "data": {
      "text/plain": [
       "Brown    120\n",
       "Blue      14\n",
       "Green      7\n",
       "Name: Eye Color, dtype: int64"
      ]
     },
     "execution_count": 268,
     "metadata": {},
     "output_type": "execute_result"
    }
   ],
   "source": [
    "#Gives the counts for each eye color\n",
    "df['Eye Color'].value_counts()"
   ]
  },
  {
   "cell_type": "code",
   "execution_count": 269,
   "metadata": {},
   "outputs": [
    {
     "name": "stdout",
     "output_type": "stream",
     "text": [
      "Brown    85.106383\n",
      "Blue      9.929078\n",
      "Green     4.964539\n",
      "Name: Eye Color, dtype: float64\n"
     ]
    }
   ],
   "source": [
    "#Gives the percentage of each eye color\n",
    "total_eye_count= df['Eye Color'].value_counts().sum()\n",
    "partial_eye_count =  df['Eye Color'].value_counts()\n",
    "for i in partial_eye_count:\n",
    "    eye_percentage= partial_eye_count/total_eye_count\n",
    "    eye_percentage= eye_percentage* 100\n",
    "print(eye_percentage)"
   ]
  },
  {
   "cell_type": "code",
   "execution_count": 270,
   "metadata": {},
   "outputs": [
    {
     "data": {
      "image/png": "[encoded data removed]",
      "text/plain": [
       "<Figure size 432x288 with 1 Axes>"
      ]
     },
     "metadata": {},
     "output_type": "display_data"
    }
   ],
   "source": [
    "#Donut plot for eye color distributions\n",
    "#Creates a pie chart for the different eye colors\n",
    "names='Brown','Blue','Green'\n",
    "size=[85.106383,9.929078,4.964539]\n",
    "plt.pie(size, labels=names, colors=['sienna','skyblue','lightgreen'])\n",
    "\n",
    "#Creates a white circle for the center of the plot\n",
    "#Makes pie chart become a donut plot\n",
    "my_circle=plt.Circle( (0,0), 0.7, color='white')\n",
    "p=plt.gcf()\n",
    "p.gca().add_artist(my_circle)\n",
    "plt.show()"
   ]
  },
  {
   "cell_type": "code",
   "execution_count": 271,
   "metadata": {},
   "outputs": [
    {
     "data": {
      "text/plain": [
       "Brown     133\n",
       "Blonde      8\n",
       "Name: Hair Color, dtype: int64"
      ]
     },
     "execution_count": 271,
     "metadata": {},
     "output_type": "execute_result"
    }
   ],
   "source": [
    "df['Hair Color'].value_counts()"
   ]
  },
  {
   "cell_type": "code",
   "execution_count": 272,
   "metadata": {},
   "outputs": [
    {
     "name": "stdout",
     "output_type": "stream",
     "text": [
      "Brown     94.326241\n",
      "Blonde     5.673759\n",
      "Name: Hair Color, dtype: float64\n"
     ]
    }
   ],
   "source": [
    "#Gives the percentage of each hair color\n",
    "total_hair_count= df['Hair Color'].value_counts().sum()\n",
    "partial_hair_count= df['Hair Color'].value_counts()\n",
    "for i in partial_hair_count:\n",
    "    hair_percentage= partial_hair_count/total_hair_count\n",
    "    hair_percentage= hair_percentage* 100\n",
    "print(hair_percentage)"
   ]
  },
  {
   "cell_type": "code",
   "execution_count": 273,
   "metadata": {},
   "outputs": [
    {
     "data": {
      "image/png": "[encoded data removed]",
      "text/plain": [
       "<Figure size 432x288 with 1 Axes>"
      ]
     },
     "metadata": {},
     "output_type": "display_data"
    },
    {
     "data": {
      "text/plain": [
       "<Figure size 432x288 with 0 Axes>"
      ]
     },
     "metadata": {},
     "output_type": "display_data"
    }
   ],
   "source": [
    "#Donut Plot for Hair Color Distributions\n",
    "#Creates pie chart with specific hair colors\n",
    "names='Brown','Blonde'\n",
    "size=[94.326241,5.673759]\n",
    "plt.pie(size, labels=names, colors=['sienna','gold'])\n",
    "\n",
    "# Creates a white circle for the center of the plot\n",
    "#Makes pie chart become a donut plot\n",
    "my_circle=plt.Circle( (0,0), 0.7, color='white')\n",
    "p=plt.gcf()\n",
    "p.gca().add_artist(my_circle)\n",
    "plt.show()\n",
    "plt.savefig('DonutPlotHair')"
   ]
  },
  {
   "cell_type": "code",
   "execution_count": 274,
   "metadata": {},
   "outputs": [
    {
     "name": "stdout",
     "output_type": "stream",
     "text": [
      "183.6651063829787\n"
     ]
    }
   ],
   "source": [
    "#Finds the mean height in cm, this could have been done with .mean() but the specific steps were shown to demonstrate understanding of the process\n",
    "totalheight= df['Height (cm)'].sum()\n",
    "count_of_height = df['Height (cm)'].value_counts().sum()\n",
    "average = (totalheight)/(count_of_height)\n",
    "print(average)"
   ]
  },
  {
   "cell_type": "code",
   "execution_count": 275,
   "metadata": {},
   "outputs": [
    {
     "name": "stdout",
     "output_type": "stream",
     "text": [
      "The average contestant is 5 feet and 11.22 inches tall.\n"
     ]
    }
   ],
   "source": [
    "#Takes the height in cm and returns it in ft and in\n",
    "def to_inch(x):\n",
    "    ft_raw = 0.0328084*x\n",
    "    ft = int(ft_raw)\n",
    "    rem = ft_raw-ft\n",
    "    inches = round(rem*12,2)\n",
    "    print('The average contestant is',ft,'feet and', inches,'inches tall.')\n",
    "    \n",
    "to_inch(180.9)"
   ]
  },
  {
   "cell_type": "code",
   "execution_count": 276,
   "metadata": {},
   "outputs": [
    {
     "data": {
      "text/plain": [
       "180.80    40\n",
       "187.96    21\n",
       "190.50    15\n",
       "180.33    12\n",
       "182.88    12\n",
       "185.42     6\n",
       "180.30     5\n",
       "182.80     4\n",
       "193.04     3\n",
       "188.00     3\n",
       "177.80     2\n",
       "172.72     2\n",
       "175.00     2\n",
       "175.26     2\n",
       "175.25     2\n",
       "185.00     2\n",
       "193.00     2\n",
       "198.00     1\n",
       "180.00     1\n",
       "170.18     1\n",
       "170.00     1\n",
       "198.12     1\n",
       "188.90     1\n",
       "Name: Height (cm), dtype: int64"
      ]
     },
     "execution_count": 276,
     "metadata": {},
     "output_type": "execute_result"
    }
   ],
   "source": [
    "#Counts the repitition of  heights\n",
    "df['Height (cm)'].value_counts()"
   ]
  },
  {
   "cell_type": "code",
   "execution_count": 277,
   "metadata": {},
   "outputs": [],
   "source": [
    "from sklearn.cluster import KMeans"
   ]
  },
  {
   "cell_type": "code",
   "execution_count": 278,
   "metadata": {},
   "outputs": [],
   "source": [
    "df1=df.iloc[:,[2,8]]"
   ]
  },
  {
   "cell_type": "code",
   "execution_count": 279,
   "metadata": {},
   "outputs": [],
   "source": [
    "sse=[]"
   ]
  },
  {
   "cell_type": "code",
   "execution_count": 280,
   "metadata": {},
   "outputs": [],
   "source": [
    "for i in range(1,11):\n",
    "    kmeans=KMeans(n_clusters=i)\n",
    "    kmeans.fit(df1)\n",
    "    sse.append(kmeans.inertia_)"
   ]
  },
  {
   "cell_type": "code",
   "execution_count": 281,
   "metadata": {},
   "outputs": [
    {
     "data": {
      "text/plain": [
       "[4723.671984397162,\n",
       " 2031.8664189429176,\n",
       " 1537.9905212440187,\n",
       " 1141.2129562369994,\n",
       " 882.0394491604359,\n",
       " 697.1440880303028,\n",
       " 585.995897412587,\n",
       " 521.5370016961538,\n",
       " 460.1080474763383,\n",
       " 428.2270535885161]"
      ]
     },
     "execution_count": 281,
     "metadata": {},
     "output_type": "execute_result"
    }
   ],
   "source": [
    "sse"
   ]
  },
  {
   "cell_type": "code",
   "execution_count": 286,
   "metadata": {},
   "outputs": [
    {
     "data": {
      "image/png": "[encoded data removed]",
      "text/plain": [
       "<Figure size 720x360 with 1 Axes>"
      ]
     },
     "metadata": {
      "needs_background": "light"
     },
     "output_type": "display_data"
    }
   ],
   "source": [
    "plt.figure(figsize=(10,5))\n",
    "sns.lineplot(range(1,11),sse,marker='o',color='red')\n",
    "plt.title(\"Elbow method\")\n",
    "plt.xlabel(\"K\")\n",
    "plt.ylabel(\"SSE\")\n",
    "plt.show()"
   ]
  },
  {
   "cell_type": "code",
   "execution_count": 287,
   "metadata": {},
   "outputs": [
    {
     "data": {
      "text/html": [
       "<div>\n",
       "<style scoped>\n",
       "    .dataframe tbody tr th:only-of-type {\n",
       "        vertical-align: middle;\n",
       "    }\n",
       "\n",
       "    .dataframe tbody tr th {\n",
       "        vertical-align: top;\n",
       "    }\n",
       "\n",
       "    .dataframe thead th {\n",
       "        text-align: right;\n",
       "    }\n",
       "</style>\n",
       "<table border=\"1\" class=\"dataframe\">\n",
       "  <thead>\n",
       "    <tr style=\"text-align: right;\">\n",
       "      <th></th>\n",
       "      <th>Season</th>\n",
       "      <th>Name</th>\n",
       "      <th>Age</th>\n",
       "      <th>Hometown</th>\n",
       "      <th>State</th>\n",
       "      <th>College</th>\n",
       "      <th>Occupation</th>\n",
       "      <th>Win_Loss</th>\n",
       "      <th>Height (cm)</th>\n",
       "      <th>Girlfriend While on the Show?</th>\n",
       "      <th>Hair Color</th>\n",
       "      <th>Eye Color</th>\n",
       "      <th>Clusters</th>\n",
       "    </tr>\n",
       "  </thead>\n",
       "  <tbody>\n",
       "    <tr>\n",
       "      <th>0</th>\n",
       "      <td>15.0</td>\n",
       "      <td>Jed Wyatt</td>\n",
       "      <td>25</td>\n",
       "      <td>Sevierville, Tennessee</td>\n",
       "      <td>TN</td>\n",
       "      <td>Belmont University</td>\n",
       "      <td>Singer/Sonwriter</td>\n",
       "      <td>1.0</td>\n",
       "      <td>190.50</td>\n",
       "      <td>Yes</td>\n",
       "      <td>Brown</td>\n",
       "      <td>Brown</td>\n",
       "      <td>0</td>\n",
       "    </tr>\n",
       "    <tr>\n",
       "      <th>1</th>\n",
       "      <td>15.0</td>\n",
       "      <td>Tyler Cameron</td>\n",
       "      <td>26</td>\n",
       "      <td>Jupiter, Florida</td>\n",
       "      <td>FL</td>\n",
       "      <td>Wake Forest</td>\n",
       "      <td>General Contractor</td>\n",
       "      <td>0.0</td>\n",
       "      <td>187.96</td>\n",
       "      <td>No</td>\n",
       "      <td>Brown</td>\n",
       "      <td>Green</td>\n",
       "      <td>0</td>\n",
       "    </tr>\n",
       "    <tr>\n",
       "      <th>2</th>\n",
       "      <td>15.0</td>\n",
       "      <td>Peter Weber</td>\n",
       "      <td>27</td>\n",
       "      <td>Westlake Village, California</td>\n",
       "      <td>CA</td>\n",
       "      <td>Baylor University</td>\n",
       "      <td>Pilot</td>\n",
       "      <td>0.0</td>\n",
       "      <td>175.25</td>\n",
       "      <td>No</td>\n",
       "      <td>Brown</td>\n",
       "      <td>Brown</td>\n",
       "      <td>3</td>\n",
       "    </tr>\n",
       "    <tr>\n",
       "      <th>3</th>\n",
       "      <td>15.0</td>\n",
       "      <td>Luke Parker</td>\n",
       "      <td>24</td>\n",
       "      <td>Gainesville, Georgia</td>\n",
       "      <td>GA</td>\n",
       "      <td>Faulkner University</td>\n",
       "      <td>Import/Export Manager</td>\n",
       "      <td>0.0</td>\n",
       "      <td>175.00</td>\n",
       "      <td>No</td>\n",
       "      <td>Blonde</td>\n",
       "      <td>Brown</td>\n",
       "      <td>3</td>\n",
       "    </tr>\n",
       "    <tr>\n",
       "      <th>4</th>\n",
       "      <td>15.0</td>\n",
       "      <td>Garrett Powell</td>\n",
       "      <td>27</td>\n",
       "      <td>Homewood, Alabama</td>\n",
       "      <td>AL</td>\n",
       "      <td>Mississippi State University</td>\n",
       "      <td>Golf Pro</td>\n",
       "      <td>0.0</td>\n",
       "      <td>180.80</td>\n",
       "      <td>No</td>\n",
       "      <td>Brown</td>\n",
       "      <td>Green</td>\n",
       "      <td>1</td>\n",
       "    </tr>\n",
       "    <tr>\n",
       "      <th>...</th>\n",
       "      <td>...</td>\n",
       "      <td>...</td>\n",
       "      <td>...</td>\n",
       "      <td>...</td>\n",
       "      <td>...</td>\n",
       "      <td>...</td>\n",
       "      <td>...</td>\n",
       "      <td>...</td>\n",
       "      <td>...</td>\n",
       "      <td>...</td>\n",
       "      <td>...</td>\n",
       "      <td>...</td>\n",
       "      <td>...</td>\n",
       "    </tr>\n",
       "    <tr>\n",
       "      <th>136</th>\n",
       "      <td>11.0</td>\n",
       "      <td>David Cox</td>\n",
       "      <td>28</td>\n",
       "      <td>Orlando, Florida</td>\n",
       "      <td>FL</td>\n",
       "      <td>Other</td>\n",
       "      <td>Real Estate Agent</td>\n",
       "      <td>0.0</td>\n",
       "      <td>180.80</td>\n",
       "      <td>No</td>\n",
       "      <td>Brown</td>\n",
       "      <td>Brown</td>\n",
       "      <td>1</td>\n",
       "    </tr>\n",
       "    <tr>\n",
       "      <th>137</th>\n",
       "      <td>11.0</td>\n",
       "      <td>Joshua \"Josh\" Seiter</td>\n",
       "      <td>27</td>\n",
       "      <td>Chicago, Illinois</td>\n",
       "      <td>IL</td>\n",
       "      <td>Chicago-Kent College</td>\n",
       "      <td>Law Student/Exotic Dancer</td>\n",
       "      <td>0.0</td>\n",
       "      <td>187.96</td>\n",
       "      <td>No</td>\n",
       "      <td>Brown</td>\n",
       "      <td>Brown</td>\n",
       "      <td>0</td>\n",
       "    </tr>\n",
       "    <tr>\n",
       "      <th>138</th>\n",
       "      <td>11.0</td>\n",
       "      <td>Shawn Evans</td>\n",
       "      <td>31</td>\n",
       "      <td>London, Ontario</td>\n",
       "      <td>Other</td>\n",
       "      <td>Other</td>\n",
       "      <td>Amateur Sex Coach</td>\n",
       "      <td>0.0</td>\n",
       "      <td>180.80</td>\n",
       "      <td>No</td>\n",
       "      <td>Brown</td>\n",
       "      <td>Brown</td>\n",
       "      <td>2</td>\n",
       "    </tr>\n",
       "    <tr>\n",
       "      <th>139</th>\n",
       "      <td>11.0</td>\n",
       "      <td>Brady Toops</td>\n",
       "      <td>33</td>\n",
       "      <td>Wauseon, Ohio</td>\n",
       "      <td>OH</td>\n",
       "      <td>Other</td>\n",
       "      <td>Singer/Songwriter</td>\n",
       "      <td>0.0</td>\n",
       "      <td>187.96</td>\n",
       "      <td>No</td>\n",
       "      <td>Brown</td>\n",
       "      <td>Brown</td>\n",
       "      <td>2</td>\n",
       "    </tr>\n",
       "    <tr>\n",
       "      <th>140</th>\n",
       "      <td>11.0</td>\n",
       "      <td>Ryan McDill</td>\n",
       "      <td>28</td>\n",
       "      <td>Kansas City, Missouri</td>\n",
       "      <td>MO</td>\n",
       "      <td>Other</td>\n",
       "      <td>Junkyard Specialist</td>\n",
       "      <td>0.0</td>\n",
       "      <td>190.50</td>\n",
       "      <td>No</td>\n",
       "      <td>Brown</td>\n",
       "      <td>Blue</td>\n",
       "      <td>0</td>\n",
       "    </tr>\n",
       "  </tbody>\n",
       "</table>\n",
       "<p>141 rows × 13 columns</p>\n",
       "</div>"
      ],
      "text/plain": [
       "     Season                  Name  Age                      Hometown  State  \\\n",
       "0      15.0             Jed Wyatt   25        Sevierville, Tennessee     TN   \n",
       "1      15.0         Tyler Cameron   26              Jupiter, Florida     FL   \n",
       "2      15.0           Peter Weber   27  Westlake Village, California     CA   \n",
       "3      15.0           Luke Parker   24          Gainesville, Georgia     GA   \n",
       "4      15.0        Garrett Powell   27             Homewood, Alabama     AL   \n",
       "..      ...                   ...  ...                           ...    ...   \n",
       "136    11.0             David Cox   28              Orlando, Florida     FL   \n",
       "137    11.0  Joshua \"Josh\" Seiter   27             Chicago, Illinois     IL   \n",
       "138    11.0           Shawn Evans   31               London, Ontario  Other   \n",
       "139    11.0           Brady Toops   33                 Wauseon, Ohio     OH   \n",
       "140    11.0           Ryan McDill   28         Kansas City, Missouri     MO   \n",
       "\n",
       "                          College                 Occupation  Win_Loss  \\\n",
       "0              Belmont University           Singer/Sonwriter       1.0   \n",
       "1                     Wake Forest         General Contractor       0.0   \n",
       "2               Baylor University                      Pilot       0.0   \n",
       "3             Faulkner University      Import/Export Manager       0.0   \n",
       "4    Mississippi State University                   Golf Pro       0.0   \n",
       "..                            ...                        ...       ...   \n",
       "136                         Other          Real Estate Agent       0.0   \n",
       "137          Chicago-Kent College  Law Student/Exotic Dancer       0.0   \n",
       "138                         Other          Amateur Sex Coach       0.0   \n",
       "139                         Other          Singer/Songwriter       0.0   \n",
       "140                         Other        Junkyard Specialist       0.0   \n",
       "\n",
       "     Height (cm) Girlfriend While on the Show? Hair Color Eye Color  Clusters  \n",
       "0         190.50                           Yes      Brown     Brown         0  \n",
       "1         187.96                            No      Brown     Green         0  \n",
       "2         175.25                            No      Brown     Brown         3  \n",
       "3         175.00                            No     Blonde     Brown         3  \n",
       "4         180.80                            No      Brown     Green         1  \n",
       "..           ...                           ...        ...       ...       ...  \n",
       "136       180.80                            No      Brown     Brown         1  \n",
       "137       187.96                            No      Brown     Brown         0  \n",
       "138       180.80                            No      Brown     Brown         2  \n",
       "139       187.96                            No      Brown     Brown         2  \n",
       "140       190.50                            No      Brown      Blue         0  \n",
       "\n",
       "[141 rows x 13 columns]"
      ]
     },
     "execution_count": 287,
     "metadata": {},
     "output_type": "execute_result"
    }
   ],
   "source": [
    "kmeans=KMeans(4)\n",
    "clusters=kmeans.fit_predict(df1)\n",
    "df[\"Clusters\"]=clusters\n",
    "df"
   ]
  },
  {
   "cell_type": "code",
   "execution_count": 288,
   "metadata": {},
   "outputs": [
    {
     "name": "stdout",
     "output_type": "stream",
     "text": [
      "                           Name  Clusters\n",
      "0                     Jed Wyatt         0\n",
      "1                 Tyler Cameron         0\n",
      "6                  Connor Saeli         0\n",
      "7               Dustin Kendrick         0\n",
      "14                   Luke Stone         0\n",
      "33             Colton Underwood         0\n",
      "35       Leandro \"Leo\" Dottavio         0\n",
      "42             Christon Staples         0\n",
      "47                  Clay Harbor         0\n",
      "56                Kamil Nicalek         0\n",
      "59                  Peter Kraus         0\n",
      "60                  Eric Bigger         0\n",
      "61                 Dean Unglert         0\n",
      "62              Adam Gottschalk         0\n",
      "63        Matthew \"Matt\" Munson         0\n",
      "64   Aleksandr \"Alex\" Bordyukov         0\n",
      "65       William \"Will\" Gaskins         0\n",
      "67               Anthony Battle         0\n",
      "71              Jonathan Treece         0\n",
      "75                 Bryce Powers         0\n",
      "80              DeMario Jackson         0\n",
      "86               Milton LaCroix         0\n",
      "89               Jordan Rodgers         0\n",
      "91                 Chase McNary         0\n",
      "93                 James Taylor         0\n",
      "95                   Derek Peth         0\n",
      "98                   Grant Kemp         0\n",
      "102        Brian \"Chad\" Johnson         0\n",
      "106              Brandon Howell         0\n",
      "108       William \"Will\" Haduch         0\n",
      "109         Colin \"Coley\" Knust         0\n",
      "110                 Jake Patton         0\n",
      "114     Salvatore \"Sal\" DeJulio         0\n",
      "115                 Shawn Booth         0\n",
      "117      Benjamin \"Ben\" Higgins         0\n",
      "121         Benedikt \"Ben\" Zorn         0\n",
      "122              Tanner Tolbert         0\n",
      "124               Joshua Albers         0\n",
      "133               Daniel Finney         0\n",
      "135                 Bradley Cox         0\n",
      "137        Joshua \"Josh\" Seiter         0\n",
      "140                 Ryan McDill         0 \n",
      "\n",
      "\n",
      "                               Name  Clusters\n",
      "4                    Garrett Powell         1\n",
      "8                     Dylan Barbour         1\n",
      "9                      Devin Harris         1\n",
      "10                      Grant Eckel         1\n",
      "11                Kevin Fortenberry         1\n",
      "..                              ...       ...\n",
      "119             Joseph \"Joe\" Bailey         1\n",
      "120  Christopher \"Chris\" Strandburg         1\n",
      "125                    Justin Reich         1\n",
      "126                     Ian Thomson         1\n",
      "136                       David Cox         1\n",
      "\n",
      "[61 rows x 2 columns] \n",
      "\n",
      "\n",
      "                           Name  Clusters\n",
      "5                  Mike Johnson         2\n",
      "16                   Joey Jones         2\n",
      "44                   Jean Blanc         2\n",
      "48               Alex Templeman         2\n",
      "58                Bryan Abasolo         2\n",
      "66                  Kenny Layne         2\n",
      "72                   Jack Stone         2\n",
      "74     Kenneth \"Diggy\" Moreland         2\n",
      "77                Blake Elarbee         2\n",
      "79                 Lucas Yancey         2\n",
      "81             Jedidiah Ballard         2\n",
      "92                    Luke Pell         2\n",
      "96                  Wells Adams         2\n",
      "97                    Evan Bass         2\n",
      "100              Daniel Maguire         2\n",
      "101               James Fuertes         2\n",
      "105  Nicholas \"Nick\" Benvenutti         2\n",
      "111           Jonathan Hamilton         2\n",
      "116       Nicholas \"Nick\" Viall         2\n",
      "123        John \"J.J.\" Lane III         2\n",
      "127             Corey Stansell          2\n",
      "128           Jonathan Holloway         2\n",
      "129                Ryan Beckett         2\n",
      "131       Anthony \"Tony\" Harris         2\n",
      "132                 Cory Shivar         2\n",
      "134                 Kupah James         2\n",
      "138                 Shawn Evans         2\n",
      "139                 Brady Toops         2 \n",
      "\n",
      "\n",
      "                         Name  Clusters\n",
      "2                 Peter Weber         3\n",
      "3                 Luke Parker         3\n",
      "12            John Paul Jones         3\n",
      "32              Jason Tartick         3\n",
      "55                Joe Amabile         3\n",
      "78        James \"Jamey\" Kocan         3\n",
      "87               Mohit Sehgal         3\n",
      "94   Alexander \"Alex\" Woytkiw         3\n",
      "103                Ali Zahiri         3\n",
      "130     Clinton \"Clint\" Arlis         3 \n",
      "\n",
      "\n"
     ]
    }
   ],
   "source": [
    "#print the cluster groups\n",
    "gb = df[['Name','Clusters']].groupby('Clusters')\n",
    "for key, item in gb:\n",
    "    print(gb.get_group(key), \"\\n\\n\")"
   ]
  },
  {
   "cell_type": "code",
   "execution_count": 289,
   "metadata": {},
   "outputs": [
    {
     "data": {
      "text/plain": [
       "<module 'matplotlib.pyplot' from 'C:\\\\Users\\\\DELL\\\\anaconda3\\\\lib\\\\site-packages\\\\matplotlib\\\\pyplot.py'>"
      ]
     },
     "execution_count": 289,
     "metadata": {},
     "output_type": "execute_result"
    },
    {
     "data": {
      "image/png": "[encoded data removed]",
      "text/plain": [
       "<Figure size 1080x504 with 1 Axes>"
      ]
     },
     "metadata": {
      "needs_background": "light"
     },
     "output_type": "display_data"
    }
   ],
   "source": [
    "plt.figure(figsize=(15,7))\n",
    "sns.scatterplot(df1[clusters==0].iloc[:,0],df1[clusters==0].iloc[:,1],color='yellow',label='cluster 1',s=50)\n",
    "sns.scatterplot(df1[clusters==1].iloc[:,0],df1[clusters==1].iloc[:,1],color='blue',label='cluster 2',s=50)\n",
    "sns.scatterplot(df1[clusters==2].iloc[:,0],df1[clusters==2].iloc[:,1],color='green',label='cluster 3',s=50)\n",
    "sns.scatterplot(df1[clusters==3].iloc[:,0],df1[clusters==3].iloc[:,1],color='grey',label='cluster 4',s=50)\n",
    "sns.scatterplot(kmeans.cluster_centers_[:,0],kmeans.cluster_centers_[:,1],color='red',label='centroid', s=300,marker=\",\")\n",
    "plt.grid(False)\n",
    "plt.title(\"Visualizing Clusters\")\n",
    "plt.xlabel(\"Age\")\n",
    "plt.ylabel(\"Height in cms\")\n",
    "plt.legend()\n",
    "plt"
   ]
  },
  {
   "cell_type": "code",
   "execution_count": 290,
   "metadata": {},
   "outputs": [],
   "source": [
    "import pandas as pd\n",
    "import numpy as np\n",
    "import random as rnd\n",
    "\n",
    "# visualization\n",
    "import seaborn as sns\n",
    "import matplotlib.pyplot as plt\n",
    "#matplotlib inline\n",
    "\n",
    "# machine learning\n",
    "from sklearn.linear_model import LogisticRegression\n",
    "from sklearn.svm import SVC, LinearSVC\n",
    "from sklearn.ensemble import RandomForestClassifier\n",
    "from sklearn.neighbors import KNeighborsClassifier\n",
    "from sklearn.naive_bayes import GaussianNB\n",
    "from sklearn.linear_model import Perceptron\n",
    "from sklearn.linear_model import SGDClassifier\n",
    "from sklearn.tree import DecisionTreeClassifier"
   ]
  },
  {
   "cell_type": "code",
   "execution_count": 291,
   "metadata": {},
   "outputs": [
    {
     "data": {
      "text/html": [
       "<div>\n",
       "<style scoped>\n",
       "    .dataframe tbody tr th:only-of-type {\n",
       "        vertical-align: middle;\n",
       "    }\n",
       "\n",
       "    .dataframe tbody tr th {\n",
       "        vertical-align: top;\n",
       "    }\n",
       "\n",
       "    .dataframe thead th {\n",
       "        text-align: right;\n",
       "    }\n",
       "</style>\n",
       "<table border=\"1\" class=\"dataframe\">\n",
       "  <thead>\n",
       "    <tr style=\"text-align: right;\">\n",
       "      <th></th>\n",
       "      <th>Season</th>\n",
       "      <th>Name</th>\n",
       "      <th>Age</th>\n",
       "      <th>Hometown</th>\n",
       "      <th>State</th>\n",
       "      <th>College</th>\n",
       "      <th>Occupation</th>\n",
       "      <th>Win_Loss</th>\n",
       "      <th>Height (cm)</th>\n",
       "      <th>Girlfriend While on the Show?</th>\n",
       "      <th>Hair Color</th>\n",
       "      <th>Eye Color</th>\n",
       "      <th>Clusters</th>\n",
       "    </tr>\n",
       "  </thead>\n",
       "  <tbody>\n",
       "    <tr>\n",
       "      <th>0</th>\n",
       "      <td>15.0</td>\n",
       "      <td>Jed Wyatt</td>\n",
       "      <td>25</td>\n",
       "      <td>Sevierville, Tennessee</td>\n",
       "      <td>TN</td>\n",
       "      <td>Belmont University</td>\n",
       "      <td>Singer/Sonwriter</td>\n",
       "      <td>1.0</td>\n",
       "      <td>190.50</td>\n",
       "      <td>Yes</td>\n",
       "      <td>Brown</td>\n",
       "      <td>Brown</td>\n",
       "      <td>0</td>\n",
       "    </tr>\n",
       "    <tr>\n",
       "      <th>1</th>\n",
       "      <td>15.0</td>\n",
       "      <td>Tyler Cameron</td>\n",
       "      <td>26</td>\n",
       "      <td>Jupiter, Florida</td>\n",
       "      <td>FL</td>\n",
       "      <td>Wake Forest</td>\n",
       "      <td>General Contractor</td>\n",
       "      <td>0.0</td>\n",
       "      <td>187.96</td>\n",
       "      <td>No</td>\n",
       "      <td>Brown</td>\n",
       "      <td>Green</td>\n",
       "      <td>0</td>\n",
       "    </tr>\n",
       "    <tr>\n",
       "      <th>2</th>\n",
       "      <td>15.0</td>\n",
       "      <td>Peter Weber</td>\n",
       "      <td>27</td>\n",
       "      <td>Westlake Village, California</td>\n",
       "      <td>CA</td>\n",
       "      <td>Baylor University</td>\n",
       "      <td>Pilot</td>\n",
       "      <td>0.0</td>\n",
       "      <td>175.25</td>\n",
       "      <td>No</td>\n",
       "      <td>Brown</td>\n",
       "      <td>Brown</td>\n",
       "      <td>3</td>\n",
       "    </tr>\n",
       "    <tr>\n",
       "      <th>3</th>\n",
       "      <td>15.0</td>\n",
       "      <td>Luke Parker</td>\n",
       "      <td>24</td>\n",
       "      <td>Gainesville, Georgia</td>\n",
       "      <td>GA</td>\n",
       "      <td>Faulkner University</td>\n",
       "      <td>Import/Export Manager</td>\n",
       "      <td>0.0</td>\n",
       "      <td>175.00</td>\n",
       "      <td>No</td>\n",
       "      <td>Blonde</td>\n",
       "      <td>Brown</td>\n",
       "      <td>3</td>\n",
       "    </tr>\n",
       "    <tr>\n",
       "      <th>4</th>\n",
       "      <td>15.0</td>\n",
       "      <td>Garrett Powell</td>\n",
       "      <td>27</td>\n",
       "      <td>Homewood, Alabama</td>\n",
       "      <td>AL</td>\n",
       "      <td>Mississippi State University</td>\n",
       "      <td>Golf Pro</td>\n",
       "      <td>0.0</td>\n",
       "      <td>180.80</td>\n",
       "      <td>No</td>\n",
       "      <td>Brown</td>\n",
       "      <td>Green</td>\n",
       "      <td>1</td>\n",
       "    </tr>\n",
       "  </tbody>\n",
       "</table>\n",
       "</div>"
      ],
      "text/plain": [
       "   Season            Name  Age                      Hometown State  \\\n",
       "0    15.0       Jed Wyatt   25        Sevierville, Tennessee    TN   \n",
       "1    15.0   Tyler Cameron   26              Jupiter, Florida    FL   \n",
       "2    15.0     Peter Weber   27  Westlake Village, California    CA   \n",
       "3    15.0     Luke Parker   24          Gainesville, Georgia    GA   \n",
       "4    15.0  Garrett Powell   27             Homewood, Alabama    AL   \n",
       "\n",
       "                        College             Occupation  Win_Loss  Height (cm)  \\\n",
       "0            Belmont University       Singer/Sonwriter       1.0       190.50   \n",
       "1                   Wake Forest     General Contractor       0.0       187.96   \n",
       "2             Baylor University                  Pilot       0.0       175.25   \n",
       "3           Faulkner University  Import/Export Manager       0.0       175.00   \n",
       "4  Mississippi State University               Golf Pro       0.0       180.80   \n",
       "\n",
       "  Girlfriend While on the Show? Hair Color Eye Color  Clusters  \n",
       "0                           Yes      Brown     Brown         0  \n",
       "1                            No      Brown     Green         0  \n",
       "2                            No      Brown     Brown         3  \n",
       "3                            No     Blonde     Brown         3  \n",
       "4                            No      Brown     Green         1  "
      ]
     },
     "execution_count": 291,
     "metadata": {},
     "output_type": "execute_result"
    }
   ],
   "source": [
    "df.head()"
   ]
  },
  {
   "cell_type": "code",
   "execution_count": 292,
   "metadata": {},
   "outputs": [
    {
     "data": {
      "text/html": [
       "<div>\n",
       "<style scoped>\n",
       "    .dataframe tbody tr th:only-of-type {\n",
       "        vertical-align: middle;\n",
       "    }\n",
       "\n",
       "    .dataframe tbody tr th {\n",
       "        vertical-align: top;\n",
       "    }\n",
       "\n",
       "    .dataframe thead th {\n",
       "        text-align: right;\n",
       "    }\n",
       "</style>\n",
       "<table border=\"1\" class=\"dataframe\">\n",
       "  <thead>\n",
       "    <tr style=\"text-align: right;\">\n",
       "      <th></th>\n",
       "      <th>Age</th>\n",
       "      <th>Win_Loss</th>\n",
       "    </tr>\n",
       "  </thead>\n",
       "  <tbody>\n",
       "    <tr>\n",
       "      <th>13</th>\n",
       "      <td>37</td>\n",
       "      <td>1.000000</td>\n",
       "    </tr>\n",
       "    <tr>\n",
       "      <th>2</th>\n",
       "      <td>25</td>\n",
       "      <td>0.125000</td>\n",
       "    </tr>\n",
       "    <tr>\n",
       "      <th>6</th>\n",
       "      <td>29</td>\n",
       "      <td>0.083333</td>\n",
       "    </tr>\n",
       "    <tr>\n",
       "      <th>4</th>\n",
       "      <td>27</td>\n",
       "      <td>0.043478</td>\n",
       "    </tr>\n",
       "    <tr>\n",
       "      <th>5</th>\n",
       "      <td>28</td>\n",
       "      <td>0.043478</td>\n",
       "    </tr>\n",
       "    <tr>\n",
       "      <th>0</th>\n",
       "      <td>23</td>\n",
       "      <td>0.000000</td>\n",
       "    </tr>\n",
       "    <tr>\n",
       "      <th>1</th>\n",
       "      <td>24</td>\n",
       "      <td>0.000000</td>\n",
       "    </tr>\n",
       "    <tr>\n",
       "      <th>3</th>\n",
       "      <td>26</td>\n",
       "      <td>0.000000</td>\n",
       "    </tr>\n",
       "    <tr>\n",
       "      <th>7</th>\n",
       "      <td>30</td>\n",
       "      <td>0.000000</td>\n",
       "    </tr>\n",
       "    <tr>\n",
       "      <th>8</th>\n",
       "      <td>31</td>\n",
       "      <td>0.000000</td>\n",
       "    </tr>\n",
       "    <tr>\n",
       "      <th>9</th>\n",
       "      <td>32</td>\n",
       "      <td>0.000000</td>\n",
       "    </tr>\n",
       "    <tr>\n",
       "      <th>10</th>\n",
       "      <td>33</td>\n",
       "      <td>0.000000</td>\n",
       "    </tr>\n",
       "    <tr>\n",
       "      <th>11</th>\n",
       "      <td>34</td>\n",
       "      <td>0.000000</td>\n",
       "    </tr>\n",
       "    <tr>\n",
       "      <th>12</th>\n",
       "      <td>35</td>\n",
       "      <td>0.000000</td>\n",
       "    </tr>\n",
       "  </tbody>\n",
       "</table>\n",
       "</div>"
      ],
      "text/plain": [
       "    Age  Win_Loss\n",
       "13   37  1.000000\n",
       "2    25  0.125000\n",
       "6    29  0.083333\n",
       "4    27  0.043478\n",
       "5    28  0.043478\n",
       "0    23  0.000000\n",
       "1    24  0.000000\n",
       "3    26  0.000000\n",
       "7    30  0.000000\n",
       "8    31  0.000000\n",
       "9    32  0.000000\n",
       "10   33  0.000000\n",
       "11   34  0.000000\n",
       "12   35  0.000000"
      ]
     },
     "execution_count": 292,
     "metadata": {},
     "output_type": "execute_result"
    }
   ],
   "source": [
    "df[['Age', 'Win_Loss']].groupby(['Age'], as_index=False).mean().sort_values(by='Win_Loss', ascending=False)"
   ]
  },
  {
   "cell_type": "code",
   "execution_count": 293,
   "metadata": {},
   "outputs": [
    {
     "data": {
      "text/html": [
       "<div>\n",
       "<style scoped>\n",
       "    .dataframe tbody tr th:only-of-type {\n",
       "        vertical-align: middle;\n",
       "    }\n",
       "\n",
       "    .dataframe tbody tr th {\n",
       "        vertical-align: top;\n",
       "    }\n",
       "\n",
       "    .dataframe thead th {\n",
       "        text-align: right;\n",
       "    }\n",
       "</style>\n",
       "<table border=\"1\" class=\"dataframe\">\n",
       "  <thead>\n",
       "    <tr style=\"text-align: right;\">\n",
       "      <th></th>\n",
       "      <th>State</th>\n",
       "      <th>Win_Loss</th>\n",
       "    </tr>\n",
       "  </thead>\n",
       "  <tbody>\n",
       "    <tr>\n",
       "      <th>27</th>\n",
       "      <td>TN</td>\n",
       "      <td>0.333333</td>\n",
       "    </tr>\n",
       "    <tr>\n",
       "      <th>5</th>\n",
       "      <td>CT</td>\n",
       "      <td>0.250000</td>\n",
       "    </tr>\n",
       "    <tr>\n",
       "      <th>21</th>\n",
       "      <td>NY</td>\n",
       "      <td>0.166667</td>\n",
       "    </tr>\n",
       "    <tr>\n",
       "      <th>6</th>\n",
       "      <td>FL</td>\n",
       "      <td>0.062500</td>\n",
       "    </tr>\n",
       "    <tr>\n",
       "      <th>3</th>\n",
       "      <td>CA</td>\n",
       "      <td>0.031250</td>\n",
       "    </tr>\n",
       "    <tr>\n",
       "      <th>25</th>\n",
       "      <td>PA</td>\n",
       "      <td>0.000000</td>\n",
       "    </tr>\n",
       "    <tr>\n",
       "      <th>20</th>\n",
       "      <td>NJ</td>\n",
       "      <td>0.000000</td>\n",
       "    </tr>\n",
       "    <tr>\n",
       "      <th>22</th>\n",
       "      <td>OH</td>\n",
       "      <td>0.000000</td>\n",
       "    </tr>\n",
       "    <tr>\n",
       "      <th>23</th>\n",
       "      <td>OK</td>\n",
       "      <td>0.000000</td>\n",
       "    </tr>\n",
       "    <tr>\n",
       "      <th>24</th>\n",
       "      <td>Other</td>\n",
       "      <td>0.000000</td>\n",
       "    </tr>\n",
       "    <tr>\n",
       "      <th>0</th>\n",
       "      <td>AL</td>\n",
       "      <td>0.000000</td>\n",
       "    </tr>\n",
       "    <tr>\n",
       "      <th>26</th>\n",
       "      <td>RI</td>\n",
       "      <td>0.000000</td>\n",
       "    </tr>\n",
       "    <tr>\n",
       "      <th>18</th>\n",
       "      <td>MO</td>\n",
       "      <td>0.000000</td>\n",
       "    </tr>\n",
       "    <tr>\n",
       "      <th>28</th>\n",
       "      <td>TX</td>\n",
       "      <td>0.000000</td>\n",
       "    </tr>\n",
       "    <tr>\n",
       "      <th>29</th>\n",
       "      <td>VA</td>\n",
       "      <td>0.000000</td>\n",
       "    </tr>\n",
       "    <tr>\n",
       "      <th>30</th>\n",
       "      <td>WA</td>\n",
       "      <td>0.000000</td>\n",
       "    </tr>\n",
       "    <tr>\n",
       "      <th>19</th>\n",
       "      <td>NC</td>\n",
       "      <td>0.000000</td>\n",
       "    </tr>\n",
       "    <tr>\n",
       "      <th>16</th>\n",
       "      <td>MI</td>\n",
       "      <td>0.000000</td>\n",
       "    </tr>\n",
       "    <tr>\n",
       "      <th>17</th>\n",
       "      <td>MN</td>\n",
       "      <td>0.000000</td>\n",
       "    </tr>\n",
       "    <tr>\n",
       "      <th>1</th>\n",
       "      <td>AR</td>\n",
       "      <td>0.000000</td>\n",
       "    </tr>\n",
       "    <tr>\n",
       "      <th>15</th>\n",
       "      <td>MD</td>\n",
       "      <td>0.000000</td>\n",
       "    </tr>\n",
       "    <tr>\n",
       "      <th>14</th>\n",
       "      <td>MA</td>\n",
       "      <td>0.000000</td>\n",
       "    </tr>\n",
       "    <tr>\n",
       "      <th>13</th>\n",
       "      <td>KY</td>\n",
       "      <td>0.000000</td>\n",
       "    </tr>\n",
       "    <tr>\n",
       "      <th>12</th>\n",
       "      <td>KA</td>\n",
       "      <td>0.000000</td>\n",
       "    </tr>\n",
       "    <tr>\n",
       "      <th>11</th>\n",
       "      <td>IN</td>\n",
       "      <td>0.000000</td>\n",
       "    </tr>\n",
       "    <tr>\n",
       "      <th>10</th>\n",
       "      <td>IL</td>\n",
       "      <td>0.000000</td>\n",
       "    </tr>\n",
       "    <tr>\n",
       "      <th>9</th>\n",
       "      <td>ID</td>\n",
       "      <td>0.000000</td>\n",
       "    </tr>\n",
       "    <tr>\n",
       "      <th>8</th>\n",
       "      <td>IA</td>\n",
       "      <td>0.000000</td>\n",
       "    </tr>\n",
       "    <tr>\n",
       "      <th>7</th>\n",
       "      <td>GA</td>\n",
       "      <td>0.000000</td>\n",
       "    </tr>\n",
       "    <tr>\n",
       "      <th>4</th>\n",
       "      <td>CO</td>\n",
       "      <td>0.000000</td>\n",
       "    </tr>\n",
       "    <tr>\n",
       "      <th>2</th>\n",
       "      <td>AZ</td>\n",
       "      <td>0.000000</td>\n",
       "    </tr>\n",
       "    <tr>\n",
       "      <th>31</th>\n",
       "      <td>WI</td>\n",
       "      <td>0.000000</td>\n",
       "    </tr>\n",
       "  </tbody>\n",
       "</table>\n",
       "</div>"
      ],
      "text/plain": [
       "    State  Win_Loss\n",
       "27     TN  0.333333\n",
       "5      CT  0.250000\n",
       "21     NY  0.166667\n",
       "6      FL  0.062500\n",
       "3      CA  0.031250\n",
       "25     PA  0.000000\n",
       "20     NJ  0.000000\n",
       "22     OH  0.000000\n",
       "23     OK  0.000000\n",
       "24  Other  0.000000\n",
       "0      AL  0.000000\n",
       "26     RI  0.000000\n",
       "18     MO  0.000000\n",
       "28     TX  0.000000\n",
       "29     VA  0.000000\n",
       "30     WA  0.000000\n",
       "19     NC  0.000000\n",
       "16     MI  0.000000\n",
       "17     MN  0.000000\n",
       "1      AR  0.000000\n",
       "15     MD  0.000000\n",
       "14     MA  0.000000\n",
       "13     KY  0.000000\n",
       "12     KA  0.000000\n",
       "11     IN  0.000000\n",
       "10     IL  0.000000\n",
       "9      ID  0.000000\n",
       "8      IA  0.000000\n",
       "7      GA  0.000000\n",
       "4      CO  0.000000\n",
       "2      AZ  0.000000\n",
       "31     WI  0.000000"
      ]
     },
     "execution_count": 293,
     "metadata": {},
     "output_type": "execute_result"
    }
   ],
   "source": [
    "df[[\"State\", \"Win_Loss\"]].groupby(['State'], as_index=False).mean().sort_values(by='Win_Loss', ascending=False)"
   ]
  },
  {
   "cell_type": "code",
   "execution_count": 294,
   "metadata": {},
   "outputs": [
    {
     "data": {
      "text/html": [
       "<div>\n",
       "<style scoped>\n",
       "    .dataframe tbody tr th:only-of-type {\n",
       "        vertical-align: middle;\n",
       "    }\n",
       "\n",
       "    .dataframe tbody tr th {\n",
       "        vertical-align: top;\n",
       "    }\n",
       "\n",
       "    .dataframe thead th {\n",
       "        text-align: right;\n",
       "    }\n",
       "</style>\n",
       "<table border=\"1\" class=\"dataframe\">\n",
       "  <thead>\n",
       "    <tr style=\"text-align: right;\">\n",
       "      <th></th>\n",
       "      <th>College</th>\n",
       "      <th>Win_Loss</th>\n",
       "    </tr>\n",
       "  </thead>\n",
       "  <tbody>\n",
       "    <tr>\n",
       "      <th>2</th>\n",
       "      <td>Belmont University</td>\n",
       "      <td>1.0</td>\n",
       "    </tr>\n",
       "    <tr>\n",
       "      <th>4</th>\n",
       "      <td>Butte College</td>\n",
       "      <td>1.0</td>\n",
       "    </tr>\n",
       "    <tr>\n",
       "      <th>73</th>\n",
       "      <td>University of Rochester</td>\n",
       "      <td>1.0</td>\n",
       "    </tr>\n",
       "    <tr>\n",
       "      <th>31</th>\n",
       "      <td>Keene State College</td>\n",
       "      <td>1.0</td>\n",
       "    </tr>\n",
       "    <tr>\n",
       "      <th>60</th>\n",
       "      <td>University of Florida</td>\n",
       "      <td>0.5</td>\n",
       "    </tr>\n",
       "    <tr>\n",
       "      <th>...</th>\n",
       "      <td>...</td>\n",
       "      <td>...</td>\n",
       "    </tr>\n",
       "    <tr>\n",
       "      <th>29</th>\n",
       "      <td>James Madison University</td>\n",
       "      <td>0.0</td>\n",
       "    </tr>\n",
       "    <tr>\n",
       "      <th>28</th>\n",
       "      <td>Indiana University</td>\n",
       "      <td>0.0</td>\n",
       "    </tr>\n",
       "    <tr>\n",
       "      <th>27</th>\n",
       "      <td>Illinois State University</td>\n",
       "      <td>0.0</td>\n",
       "    </tr>\n",
       "    <tr>\n",
       "      <th>26</th>\n",
       "      <td>High Point University</td>\n",
       "      <td>0.0</td>\n",
       "    </tr>\n",
       "    <tr>\n",
       "      <th>87</th>\n",
       "      <td>other</td>\n",
       "      <td>0.0</td>\n",
       "    </tr>\n",
       "  </tbody>\n",
       "</table>\n",
       "<p>88 rows × 2 columns</p>\n",
       "</div>"
      ],
      "text/plain": [
       "                      College  Win_Loss\n",
       "2          Belmont University       1.0\n",
       "4               Butte College       1.0\n",
       "73    University of Rochester       1.0\n",
       "31        Keene State College       1.0\n",
       "60      University of Florida       0.5\n",
       "..                        ...       ...\n",
       "29   James Madison University       0.0\n",
       "28         Indiana University       0.0\n",
       "27  Illinois State University       0.0\n",
       "26      High Point University       0.0\n",
       "87                      other       0.0\n",
       "\n",
       "[88 rows x 2 columns]"
      ]
     },
     "execution_count": 294,
     "metadata": {},
     "output_type": "execute_result"
    }
   ],
   "source": [
    "df[['College', 'Win_Loss']].groupby(['College'], as_index=False).mean().sort_values(by='Win_Loss', ascending=False)"
   ]
  },
  {
   "cell_type": "code",
   "execution_count": 295,
   "metadata": {},
   "outputs": [
    {
     "data": {
      "text/html": [
       "<div>\n",
       "<style scoped>\n",
       "    .dataframe tbody tr th:only-of-type {\n",
       "        vertical-align: middle;\n",
       "    }\n",
       "\n",
       "    .dataframe tbody tr th {\n",
       "        vertical-align: top;\n",
       "    }\n",
       "\n",
       "    .dataframe thead th {\n",
       "        text-align: right;\n",
       "    }\n",
       "</style>\n",
       "<table border=\"1\" class=\"dataframe\">\n",
       "  <thead>\n",
       "    <tr style=\"text-align: right;\">\n",
       "      <th></th>\n",
       "      <th>Hair Color</th>\n",
       "      <th>Win_Loss</th>\n",
       "    </tr>\n",
       "  </thead>\n",
       "  <tbody>\n",
       "    <tr>\n",
       "      <th>1</th>\n",
       "      <td>Brown</td>\n",
       "      <td>0.037594</td>\n",
       "    </tr>\n",
       "    <tr>\n",
       "      <th>0</th>\n",
       "      <td>Blonde</td>\n",
       "      <td>0.000000</td>\n",
       "    </tr>\n",
       "  </tbody>\n",
       "</table>\n",
       "</div>"
      ],
      "text/plain": [
       "  Hair Color  Win_Loss\n",
       "1      Brown  0.037594\n",
       "0     Blonde  0.000000"
      ]
     },
     "execution_count": 295,
     "metadata": {},
     "output_type": "execute_result"
    }
   ],
   "source": [
    "df[['Hair Color', 'Win_Loss']].groupby(['Hair Color'], as_index=False).mean().sort_values(by='Win_Loss', ascending=False)"
   ]
  },
  {
   "cell_type": "code",
   "execution_count": 296,
   "metadata": {},
   "outputs": [
    {
     "data": {
      "text/html": [
       "<div>\n",
       "<style scoped>\n",
       "    .dataframe tbody tr th:only-of-type {\n",
       "        vertical-align: middle;\n",
       "    }\n",
       "\n",
       "    .dataframe tbody tr th {\n",
       "        vertical-align: top;\n",
       "    }\n",
       "\n",
       "    .dataframe thead th {\n",
       "        text-align: right;\n",
       "    }\n",
       "</style>\n",
       "<table border=\"1\" class=\"dataframe\">\n",
       "  <thead>\n",
       "    <tr style=\"text-align: right;\">\n",
       "      <th></th>\n",
       "      <th>Eye Color</th>\n",
       "      <th>Win_Loss</th>\n",
       "    </tr>\n",
       "  </thead>\n",
       "  <tbody>\n",
       "    <tr>\n",
       "      <th>1</th>\n",
       "      <td>Brown</td>\n",
       "      <td>0.041667</td>\n",
       "    </tr>\n",
       "    <tr>\n",
       "      <th>0</th>\n",
       "      <td>Blue</td>\n",
       "      <td>0.000000</td>\n",
       "    </tr>\n",
       "    <tr>\n",
       "      <th>2</th>\n",
       "      <td>Green</td>\n",
       "      <td>0.000000</td>\n",
       "    </tr>\n",
       "  </tbody>\n",
       "</table>\n",
       "</div>"
      ],
      "text/plain": [
       "  Eye Color  Win_Loss\n",
       "1     Brown  0.041667\n",
       "0      Blue  0.000000\n",
       "2     Green  0.000000"
      ]
     },
     "execution_count": 296,
     "metadata": {},
     "output_type": "execute_result"
    }
   ],
   "source": [
    "df[['Eye Color', 'Win_Loss']].groupby(['Eye Color'], as_index=False).mean().sort_values(by='Win_Loss', ascending=False)"
   ]
  },
  {
   "cell_type": "code",
   "execution_count": 297,
   "metadata": {},
   "outputs": [
    {
     "data": {
      "text/html": [
       "<div>\n",
       "<style scoped>\n",
       "    .dataframe tbody tr th:only-of-type {\n",
       "        vertical-align: middle;\n",
       "    }\n",
       "\n",
       "    .dataframe tbody tr th {\n",
       "        vertical-align: top;\n",
       "    }\n",
       "\n",
       "    .dataframe thead th {\n",
       "        text-align: right;\n",
       "    }\n",
       "</style>\n",
       "<table border=\"1\" class=\"dataframe\">\n",
       "  <thead>\n",
       "    <tr style=\"text-align: right;\">\n",
       "      <th></th>\n",
       "      <th>Occupation</th>\n",
       "      <th>Win_Loss</th>\n",
       "    </tr>\n",
       "  </thead>\n",
       "  <tbody>\n",
       "    <tr>\n",
       "      <th>18</th>\n",
       "      <td>Chiropractor</td>\n",
       "      <td>1.0</td>\n",
       "    </tr>\n",
       "    <tr>\n",
       "      <th>45</th>\n",
       "      <td>Former Pro Quarterback</td>\n",
       "      <td>1.0</td>\n",
       "    </tr>\n",
       "    <tr>\n",
       "      <th>106</th>\n",
       "      <td>Singer/Sonwriter</td>\n",
       "      <td>1.0</td>\n",
       "    </tr>\n",
       "    <tr>\n",
       "      <th>101</th>\n",
       "      <td>Senior Corporate Banker</td>\n",
       "      <td>1.0</td>\n",
       "    </tr>\n",
       "    <tr>\n",
       "      <th>77</th>\n",
       "      <td>Personal Trainer</td>\n",
       "      <td>0.5</td>\n",
       "    </tr>\n",
       "    <tr>\n",
       "      <th>...</th>\n",
       "      <td>...</td>\n",
       "      <td>...</td>\n",
       "    </tr>\n",
       "    <tr>\n",
       "      <th>37</th>\n",
       "      <td>Finance Manager</td>\n",
       "      <td>0.0</td>\n",
       "    </tr>\n",
       "    <tr>\n",
       "      <th>36</th>\n",
       "      <td>Fashion Designer</td>\n",
       "      <td>0.0</td>\n",
       "    </tr>\n",
       "    <tr>\n",
       "      <th>35</th>\n",
       "      <td>Executive Recruiter</td>\n",
       "      <td>0.0</td>\n",
       "    </tr>\n",
       "    <tr>\n",
       "      <th>34</th>\n",
       "      <td>Executive Assistant</td>\n",
       "      <td>0.0</td>\n",
       "    </tr>\n",
       "    <tr>\n",
       "      <th>125</th>\n",
       "      <td>War Veteran</td>\n",
       "      <td>0.0</td>\n",
       "    </tr>\n",
       "  </tbody>\n",
       "</table>\n",
       "<p>126 rows × 2 columns</p>\n",
       "</div>"
      ],
      "text/plain": [
       "                  Occupation  Win_Loss\n",
       "18              Chiropractor       1.0\n",
       "45    Former Pro Quarterback       1.0\n",
       "106         Singer/Sonwriter       1.0\n",
       "101  Senior Corporate Banker       1.0\n",
       "77          Personal Trainer       0.5\n",
       "..                       ...       ...\n",
       "37           Finance Manager       0.0\n",
       "36          Fashion Designer       0.0\n",
       "35       Executive Recruiter       0.0\n",
       "34       Executive Assistant       0.0\n",
       "125              War Veteran       0.0\n",
       "\n",
       "[126 rows x 2 columns]"
      ]
     },
     "execution_count": 297,
     "metadata": {},
     "output_type": "execute_result"
    }
   ],
   "source": [
    "df[['Occupation', 'Win_Loss']].groupby(['Occupation'], as_index=False).mean().sort_values(by='Win_Loss', ascending=False)"
   ]
  },
  {
   "cell_type": "code",
   "execution_count": 298,
   "metadata": {},
   "outputs": [
    {
     "data": {
      "text/html": [
       "<div>\n",
       "<style scoped>\n",
       "    .dataframe tbody tr th:only-of-type {\n",
       "        vertical-align: middle;\n",
       "    }\n",
       "\n",
       "    .dataframe tbody tr th {\n",
       "        vertical-align: top;\n",
       "    }\n",
       "\n",
       "    .dataframe thead th {\n",
       "        text-align: right;\n",
       "    }\n",
       "</style>\n",
       "<table border=\"1\" class=\"dataframe\">\n",
       "  <thead>\n",
       "    <tr style=\"text-align: right;\">\n",
       "      <th></th>\n",
       "      <th>Height (cm)</th>\n",
       "      <th>Win_Loss</th>\n",
       "    </tr>\n",
       "  </thead>\n",
       "  <tbody>\n",
       "    <tr>\n",
       "      <th>5</th>\n",
       "      <td>175.26</td>\n",
       "      <td>0.500000</td>\n",
       "    </tr>\n",
       "    <tr>\n",
       "      <th>15</th>\n",
       "      <td>187.96</td>\n",
       "      <td>0.142857</td>\n",
       "    </tr>\n",
       "    <tr>\n",
       "      <th>18</th>\n",
       "      <td>190.50</td>\n",
       "      <td>0.066667</td>\n",
       "    </tr>\n",
       "    <tr>\n",
       "      <th>0</th>\n",
       "      <td>170.00</td>\n",
       "      <td>0.000000</td>\n",
       "    </tr>\n",
       "    <tr>\n",
       "      <th>12</th>\n",
       "      <td>182.88</td>\n",
       "      <td>0.000000</td>\n",
       "    </tr>\n",
       "    <tr>\n",
       "      <th>21</th>\n",
       "      <td>198.00</td>\n",
       "      <td>0.000000</td>\n",
       "    </tr>\n",
       "    <tr>\n",
       "      <th>20</th>\n",
       "      <td>193.04</td>\n",
       "      <td>0.000000</td>\n",
       "    </tr>\n",
       "    <tr>\n",
       "      <th>19</th>\n",
       "      <td>193.00</td>\n",
       "      <td>0.000000</td>\n",
       "    </tr>\n",
       "    <tr>\n",
       "      <th>17</th>\n",
       "      <td>188.90</td>\n",
       "      <td>0.000000</td>\n",
       "    </tr>\n",
       "    <tr>\n",
       "      <th>16</th>\n",
       "      <td>188.00</td>\n",
       "      <td>0.000000</td>\n",
       "    </tr>\n",
       "    <tr>\n",
       "      <th>14</th>\n",
       "      <td>185.42</td>\n",
       "      <td>0.000000</td>\n",
       "    </tr>\n",
       "    <tr>\n",
       "      <th>13</th>\n",
       "      <td>185.00</td>\n",
       "      <td>0.000000</td>\n",
       "    </tr>\n",
       "    <tr>\n",
       "      <th>11</th>\n",
       "      <td>182.80</td>\n",
       "      <td>0.000000</td>\n",
       "    </tr>\n",
       "    <tr>\n",
       "      <th>1</th>\n",
       "      <td>170.18</td>\n",
       "      <td>0.000000</td>\n",
       "    </tr>\n",
       "    <tr>\n",
       "      <th>10</th>\n",
       "      <td>180.80</td>\n",
       "      <td>0.000000</td>\n",
       "    </tr>\n",
       "    <tr>\n",
       "      <th>9</th>\n",
       "      <td>180.33</td>\n",
       "      <td>0.000000</td>\n",
       "    </tr>\n",
       "    <tr>\n",
       "      <th>8</th>\n",
       "      <td>180.30</td>\n",
       "      <td>0.000000</td>\n",
       "    </tr>\n",
       "    <tr>\n",
       "      <th>7</th>\n",
       "      <td>180.00</td>\n",
       "      <td>0.000000</td>\n",
       "    </tr>\n",
       "    <tr>\n",
       "      <th>6</th>\n",
       "      <td>177.80</td>\n",
       "      <td>0.000000</td>\n",
       "    </tr>\n",
       "    <tr>\n",
       "      <th>4</th>\n",
       "      <td>175.25</td>\n",
       "      <td>0.000000</td>\n",
       "    </tr>\n",
       "    <tr>\n",
       "      <th>3</th>\n",
       "      <td>175.00</td>\n",
       "      <td>0.000000</td>\n",
       "    </tr>\n",
       "    <tr>\n",
       "      <th>2</th>\n",
       "      <td>172.72</td>\n",
       "      <td>0.000000</td>\n",
       "    </tr>\n",
       "    <tr>\n",
       "      <th>22</th>\n",
       "      <td>198.12</td>\n",
       "      <td>0.000000</td>\n",
       "    </tr>\n",
       "  </tbody>\n",
       "</table>\n",
       "</div>"
      ],
      "text/plain": [
       "    Height (cm)  Win_Loss\n",
       "5        175.26  0.500000\n",
       "15       187.96  0.142857\n",
       "18       190.50  0.066667\n",
       "0        170.00  0.000000\n",
       "12       182.88  0.000000\n",
       "21       198.00  0.000000\n",
       "20       193.04  0.000000\n",
       "19       193.00  0.000000\n",
       "17       188.90  0.000000\n",
       "16       188.00  0.000000\n",
       "14       185.42  0.000000\n",
       "13       185.00  0.000000\n",
       "11       182.80  0.000000\n",
       "1        170.18  0.000000\n",
       "10       180.80  0.000000\n",
       "9        180.33  0.000000\n",
       "8        180.30  0.000000\n",
       "7        180.00  0.000000\n",
       "6        177.80  0.000000\n",
       "4        175.25  0.000000\n",
       "3        175.00  0.000000\n",
       "2        172.72  0.000000\n",
       "22       198.12  0.000000"
      ]
     },
     "execution_count": 298,
     "metadata": {},
     "output_type": "execute_result"
    }
   ],
   "source": [
    "df[['Height (cm)', 'Win_Loss']].groupby(['Height (cm)'], as_index=False).mean().sort_values(by='Win_Loss', ascending=False)"
   ]
  },
  {
   "cell_type": "code",
   "execution_count": 299,
   "metadata": {},
   "outputs": [
    {
     "data": {
      "text/plain": [
       "<seaborn.axisgrid.FacetGrid at 0x282dfe04fc8>"
      ]
     },
     "execution_count": 299,
     "metadata": {},
     "output_type": "execute_result"
    },
    {
     "data": {
      "image/png": "[encoded data removed]",
      "text/plain": [
       "<Figure size 432x216 with 2 Axes>"
      ]
     },
     "metadata": {
      "needs_background": "light"
     },
     "output_type": "display_data"
    }
   ],
   "source": [
    "g = sns.FacetGrid(df, col='Win_Loss')\n",
    "g.map(plt.hist, 'Age', bins=20)"
   ]
  },
  {
   "cell_type": "code",
   "execution_count": 300,
   "metadata": {},
   "outputs": [
    {
     "data": {
      "text/plain": [
       "<seaborn.axisgrid.FacetGrid at 0x282dffa4cc8>"
      ]
     },
     "execution_count": 300,
     "metadata": {},
     "output_type": "execute_result"
    },
    {
     "data": {
      "image/png": "[encoded data removed]",
      "text/plain": [
       "<Figure size 514.88x3643.2 with 46 Axes>"
      ]
     },
     "metadata": {
      "needs_background": "light"
     },
     "output_type": "display_data"
    }
   ],
   "source": [
    "\n",
    "grid = sns.FacetGrid(df, col='Win_Loss', row='Height (cm)', height=2.2, aspect=1.6)\n",
    "grid.map(plt.hist, 'Age', alpha=.5, bins=20)\n",
    "grid.add_legend()"
   ]
  },
  {
   "cell_type": "code",
   "execution_count": 301,
   "metadata": {},
   "outputs": [
    {
     "data": {
      "text/plain": [
       "<seaborn.axisgrid.FacetGrid at 0x282e2e22288>"
      ]
     },
     "execution_count": 301,
     "metadata": {},
     "output_type": "execute_result"
    },
    {
     "data": {
      "image/png": "[encoded data removed]",
      "text/plain": [
       "<Figure size 514.88x316.8 with 4 Axes>"
      ]
     },
     "metadata": {
      "needs_background": "light"
     },
     "output_type": "display_data"
    }
   ],
   "source": [
    "\n",
    "grid = sns.FacetGrid(df, col='Win_Loss', row='Hair Color', height=2.2, aspect=1.6)\n",
    "grid.map(plt.hist, 'Age', alpha=.5, bins=20)\n",
    "grid.add_legend()"
   ]
  },
  {
   "cell_type": "code",
   "execution_count": 302,
   "metadata": {},
   "outputs": [
    {
     "data": {
      "text/plain": [
       "<seaborn.axisgrid.FacetGrid at 0x282e302acc8>"
      ]
     },
     "execution_count": 302,
     "metadata": {},
     "output_type": "execute_result"
    },
    {
     "data": {
      "image/png": "[encoded data removed]",
      "text/plain": [
       "<Figure size 514.88x475.2 with 6 Axes>"
      ]
     },
     "metadata": {
      "needs_background": "light"
     },
     "output_type": "display_data"
    }
   ],
   "source": [
    "\n",
    "grid = sns.FacetGrid(df, col='Win_Loss', row='Eye Color', height=2.2, aspect=1.6)\n",
    "grid.map(plt.hist, 'Age', alpha=.5, bins=20)\n",
    "grid.add_legend()"
   ]
  },
  {
   "cell_type": "code",
   "execution_count": 303,
   "metadata": {},
   "outputs": [
    {
     "name": "stderr",
     "output_type": "stream",
     "text": [
      "C:\\Users\\DELL\\anaconda3\\lib\\site-packages\\seaborn\\axisgrid.py:243: UserWarning:\n",
      "\n",
      "The `size` parameter has been renamed to `height`; please update your code.\n",
      "\n",
      "C:\\Users\\DELL\\anaconda3\\lib\\site-packages\\seaborn\\axisgrid.py:728: UserWarning:\n",
      "\n",
      "Using the pointplot function without specifying `order` is likely to produce an incorrect plot.\n",
      "\n",
      "C:\\Users\\DELL\\anaconda3\\lib\\site-packages\\seaborn\\axisgrid.py:733: UserWarning:\n",
      "\n",
      "Using the pointplot function without specifying `hue_order` is likely to produce an incorrect plot.\n",
      "\n"
     ]
    },
    {
     "data": {
      "text/plain": [
       "<seaborn.axisgrid.FacetGrid at 0x282e33a7d08>"
      ]
     },
     "execution_count": 303,
     "metadata": {},
     "output_type": "execute_result"
    },
    {
     "data": {
      "image/png": "[encoded data removed]",
      "text/plain": [
       "<Figure size 324.065x475.2 with 3 Axes>"
      ]
     },
     "metadata": {
      "needs_background": "light"
     },
     "output_type": "display_data"
    }
   ],
   "source": [
    "\n",
    "grid = sns.FacetGrid(df, row='Eye Color', size=2.2, aspect=1.6)\n",
    "grid.map(sns.pointplot, 'Age', 'Win_Loss', 'Hair Color', palette='deep')\n",
    "grid.add_legend()"
   ]
  },
  {
   "cell_type": "code",
   "execution_count": 304,
   "metadata": {},
   "outputs": [
    {
     "name": "stderr",
     "output_type": "stream",
     "text": [
      "C:\\Users\\DELL\\anaconda3\\lib\\site-packages\\seaborn\\axisgrid.py:243: UserWarning:\n",
      "\n",
      "The `size` parameter has been renamed to `height`; please update your code.\n",
      "\n",
      "C:\\Users\\DELL\\anaconda3\\lib\\site-packages\\seaborn\\axisgrid.py:728: UserWarning:\n",
      "\n",
      "Using the barplot function without specifying `order` is likely to produce an incorrect plot.\n",
      "\n"
     ]
    },
    {
     "data": {
      "text/plain": [
       "<seaborn.axisgrid.FacetGrid at 0x282e3586908>"
      ]
     },
     "execution_count": 304,
     "metadata": {},
     "output_type": "execute_result"
    },
    {
     "data": {
      "image/png": "[encoded data removed]",
      "text/plain": [
       "<Figure size 514.88x475.2 with 6 Axes>"
      ]
     },
     "metadata": {
      "needs_background": "light"
     },
     "output_type": "display_data"
    }
   ],
   "source": [
    "\n",
    "grid = sns.FacetGrid(df, row='Eye Color', col='Win_Loss', size=2.2, aspect=1.6)\n",
    "grid.map(sns.barplot, 'Hair Color', 'Height (cm)', alpha=.5, ci=None)\n",
    "grid.add_legend()"
   ]
  },
  {
   "cell_type": "code",
   "execution_count": 305,
   "metadata": {},
   "outputs": [],
   "source": [
    "df = df.drop(['Occupation', 'Clusters'], axis=1)"
   ]
  },
  {
   "cell_type": "code",
   "execution_count": 306,
   "metadata": {},
   "outputs": [
    {
     "data": {
      "text/html": [
       "<div>\n",
       "<style scoped>\n",
       "    .dataframe tbody tr th:only-of-type {\n",
       "        vertical-align: middle;\n",
       "    }\n",
       "\n",
       "    .dataframe tbody tr th {\n",
       "        vertical-align: top;\n",
       "    }\n",
       "\n",
       "    .dataframe thead th {\n",
       "        text-align: right;\n",
       "    }\n",
       "</style>\n",
       "<table border=\"1\" class=\"dataframe\">\n",
       "  <thead>\n",
       "    <tr style=\"text-align: right;\">\n",
       "      <th></th>\n",
       "      <th>Season</th>\n",
       "      <th>Name</th>\n",
       "      <th>Age</th>\n",
       "      <th>Hometown</th>\n",
       "      <th>State</th>\n",
       "      <th>College</th>\n",
       "      <th>Win_Loss</th>\n",
       "      <th>Height (cm)</th>\n",
       "      <th>Girlfriend While on the Show?</th>\n",
       "      <th>Hair Color</th>\n",
       "      <th>Eye Color</th>\n",
       "    </tr>\n",
       "  </thead>\n",
       "  <tbody>\n",
       "    <tr>\n",
       "      <th>0</th>\n",
       "      <td>15.0</td>\n",
       "      <td>Jed Wyatt</td>\n",
       "      <td>25</td>\n",
       "      <td>Sevierville, Tennessee</td>\n",
       "      <td>TN</td>\n",
       "      <td>Belmont University</td>\n",
       "      <td>1.0</td>\n",
       "      <td>190.50</td>\n",
       "      <td>Yes</td>\n",
       "      <td>1</td>\n",
       "      <td>Brown</td>\n",
       "    </tr>\n",
       "    <tr>\n",
       "      <th>1</th>\n",
       "      <td>15.0</td>\n",
       "      <td>Tyler Cameron</td>\n",
       "      <td>26</td>\n",
       "      <td>Jupiter, Florida</td>\n",
       "      <td>FL</td>\n",
       "      <td>Wake Forest</td>\n",
       "      <td>0.0</td>\n",
       "      <td>187.96</td>\n",
       "      <td>No</td>\n",
       "      <td>1</td>\n",
       "      <td>Green</td>\n",
       "    </tr>\n",
       "    <tr>\n",
       "      <th>2</th>\n",
       "      <td>15.0</td>\n",
       "      <td>Peter Weber</td>\n",
       "      <td>27</td>\n",
       "      <td>Westlake Village, California</td>\n",
       "      <td>CA</td>\n",
       "      <td>Baylor University</td>\n",
       "      <td>0.0</td>\n",
       "      <td>175.25</td>\n",
       "      <td>No</td>\n",
       "      <td>1</td>\n",
       "      <td>Brown</td>\n",
       "    </tr>\n",
       "    <tr>\n",
       "      <th>3</th>\n",
       "      <td>15.0</td>\n",
       "      <td>Luke Parker</td>\n",
       "      <td>24</td>\n",
       "      <td>Gainesville, Georgia</td>\n",
       "      <td>GA</td>\n",
       "      <td>Faulkner University</td>\n",
       "      <td>0.0</td>\n",
       "      <td>175.00</td>\n",
       "      <td>No</td>\n",
       "      <td>0</td>\n",
       "      <td>Brown</td>\n",
       "    </tr>\n",
       "    <tr>\n",
       "      <th>4</th>\n",
       "      <td>15.0</td>\n",
       "      <td>Garrett Powell</td>\n",
       "      <td>27</td>\n",
       "      <td>Homewood, Alabama</td>\n",
       "      <td>AL</td>\n",
       "      <td>Mississippi State University</td>\n",
       "      <td>0.0</td>\n",
       "      <td>180.80</td>\n",
       "      <td>No</td>\n",
       "      <td>1</td>\n",
       "      <td>Green</td>\n",
       "    </tr>\n",
       "  </tbody>\n",
       "</table>\n",
       "</div>"
      ],
      "text/plain": [
       "   Season            Name  Age                      Hometown State  \\\n",
       "0    15.0       Jed Wyatt   25        Sevierville, Tennessee    TN   \n",
       "1    15.0   Tyler Cameron   26              Jupiter, Florida    FL   \n",
       "2    15.0     Peter Weber   27  Westlake Village, California    CA   \n",
       "3    15.0     Luke Parker   24          Gainesville, Georgia    GA   \n",
       "4    15.0  Garrett Powell   27             Homewood, Alabama    AL   \n",
       "\n",
       "                        College  Win_Loss  Height (cm)  \\\n",
       "0            Belmont University       1.0       190.50   \n",
       "1                   Wake Forest       0.0       187.96   \n",
       "2             Baylor University       0.0       175.25   \n",
       "3           Faulkner University       0.0       175.00   \n",
       "4  Mississippi State University       0.0       180.80   \n",
       "\n",
       "  Girlfriend While on the Show?  Hair Color Eye Color  \n",
       "0                           Yes           1     Brown  \n",
       "1                            No           1     Green  \n",
       "2                            No           1     Brown  \n",
       "3                            No           0     Brown  \n",
       "4                            No           1     Green  "
      ]
     },
     "execution_count": 306,
     "metadata": {},
     "output_type": "execute_result"
    }
   ],
   "source": [
    "df['Hair Color'] = df['Hair Color'].map( {'Brown': 1, 'Blonde': 0} ).astype(int)\n",
    "\n",
    "df.head()"
   ]
  },
  {
   "cell_type": "code",
   "execution_count": 307,
   "metadata": {},
   "outputs": [
    {
     "data": {
      "text/plain": [
       "<seaborn.axisgrid.FacetGrid at 0x282e3ebd288>"
      ]
     },
     "execution_count": 307,
     "metadata": {},
     "output_type": "execute_result"
    },
    {
     "data": {
      "image/png": "[encoded data removed]",
      "text/plain": [
       "<Figure size 514.88x2217.6 with 28 Axes>"
      ]
     },
     "metadata": {
      "needs_background": "light"
     },
     "output_type": "display_data"
    }
   ],
   "source": [
    "grid = sns.FacetGrid(df, row='Age', col='Hair Color', height=2.2, aspect=1.6)\n",
    "grid.map(plt.hist, 'Height (cm)', alpha=.5, bins=20)\n",
    "grid.add_legend()"
   ]
  },
  {
   "cell_type": "code",
   "execution_count": 308,
   "metadata": {},
   "outputs": [
    {
     "data": {
      "text/plain": [
       "array([[0., 0., 0.],\n",
       "       [0., 0., 0.]])"
      ]
     },
     "execution_count": 308,
     "metadata": {},
     "output_type": "execute_result"
    }
   ],
   "source": [
    "guess_height = np.zeros((2,3))\n",
    "guess_height"
   ]
  },
  {
   "cell_type": "code",
   "execution_count": 309,
   "metadata": {},
   "outputs": [
    {
     "data": {
      "text/html": [
       "<div>\n",
       "<style scoped>\n",
       "    .dataframe tbody tr th:only-of-type {\n",
       "        vertical-align: middle;\n",
       "    }\n",
       "\n",
       "    .dataframe tbody tr th {\n",
       "        vertical-align: top;\n",
       "    }\n",
       "\n",
       "    .dataframe thead th {\n",
       "        text-align: right;\n",
       "    }\n",
       "</style>\n",
       "<table border=\"1\" class=\"dataframe\">\n",
       "  <thead>\n",
       "    <tr style=\"text-align: right;\">\n",
       "      <th></th>\n",
       "      <th>Season</th>\n",
       "      <th>Name</th>\n",
       "      <th>Age</th>\n",
       "      <th>Hometown</th>\n",
       "      <th>State</th>\n",
       "      <th>College</th>\n",
       "      <th>Win_Loss</th>\n",
       "      <th>Height (cm)</th>\n",
       "      <th>Girlfriend While on the Show?</th>\n",
       "      <th>Hair Color</th>\n",
       "      <th>Eye Color</th>\n",
       "    </tr>\n",
       "  </thead>\n",
       "  <tbody>\n",
       "    <tr>\n",
       "      <th>0</th>\n",
       "      <td>15.0</td>\n",
       "      <td>Jed Wyatt</td>\n",
       "      <td>1</td>\n",
       "      <td>Sevierville, Tennessee</td>\n",
       "      <td>TN</td>\n",
       "      <td>Belmont University</td>\n",
       "      <td>1.0</td>\n",
       "      <td>190.50</td>\n",
       "      <td>Yes</td>\n",
       "      <td>1</td>\n",
       "      <td>Brown</td>\n",
       "    </tr>\n",
       "    <tr>\n",
       "      <th>1</th>\n",
       "      <td>15.0</td>\n",
       "      <td>Tyler Cameron</td>\n",
       "      <td>2</td>\n",
       "      <td>Jupiter, Florida</td>\n",
       "      <td>FL</td>\n",
       "      <td>Wake Forest</td>\n",
       "      <td>0.0</td>\n",
       "      <td>187.96</td>\n",
       "      <td>No</td>\n",
       "      <td>1</td>\n",
       "      <td>Green</td>\n",
       "    </tr>\n",
       "    <tr>\n",
       "      <th>2</th>\n",
       "      <td>15.0</td>\n",
       "      <td>Peter Weber</td>\n",
       "      <td>2</td>\n",
       "      <td>Westlake Village, California</td>\n",
       "      <td>CA</td>\n",
       "      <td>Baylor University</td>\n",
       "      <td>0.0</td>\n",
       "      <td>175.25</td>\n",
       "      <td>No</td>\n",
       "      <td>1</td>\n",
       "      <td>Brown</td>\n",
       "    </tr>\n",
       "    <tr>\n",
       "      <th>3</th>\n",
       "      <td>15.0</td>\n",
       "      <td>Luke Parker</td>\n",
       "      <td>1</td>\n",
       "      <td>Gainesville, Georgia</td>\n",
       "      <td>GA</td>\n",
       "      <td>Faulkner University</td>\n",
       "      <td>0.0</td>\n",
       "      <td>175.00</td>\n",
       "      <td>No</td>\n",
       "      <td>0</td>\n",
       "      <td>Brown</td>\n",
       "    </tr>\n",
       "    <tr>\n",
       "      <th>4</th>\n",
       "      <td>15.0</td>\n",
       "      <td>Garrett Powell</td>\n",
       "      <td>2</td>\n",
       "      <td>Homewood, Alabama</td>\n",
       "      <td>AL</td>\n",
       "      <td>Mississippi State University</td>\n",
       "      <td>0.0</td>\n",
       "      <td>180.80</td>\n",
       "      <td>No</td>\n",
       "      <td>1</td>\n",
       "      <td>Green</td>\n",
       "    </tr>\n",
       "  </tbody>\n",
       "</table>\n",
       "</div>"
      ],
      "text/plain": [
       "   Season            Name  Age                      Hometown State  \\\n",
       "0    15.0       Jed Wyatt    1        Sevierville, Tennessee    TN   \n",
       "1    15.0   Tyler Cameron    2              Jupiter, Florida    FL   \n",
       "2    15.0     Peter Weber    2  Westlake Village, California    CA   \n",
       "3    15.0     Luke Parker    1          Gainesville, Georgia    GA   \n",
       "4    15.0  Garrett Powell    2             Homewood, Alabama    AL   \n",
       "\n",
       "                        College  Win_Loss  Height (cm)  \\\n",
       "0            Belmont University       1.0       190.50   \n",
       "1                   Wake Forest       0.0       187.96   \n",
       "2             Baylor University       0.0       175.25   \n",
       "3           Faulkner University       0.0       175.00   \n",
       "4  Mississippi State University       0.0       180.80   \n",
       "\n",
       "  Girlfriend While on the Show?  Hair Color Eye Color  \n",
       "0                           Yes           1     Brown  \n",
       "1                            No           1     Green  \n",
       "2                            No           1     Brown  \n",
       "3                            No           0     Brown  \n",
       "4                            No           1     Green  "
      ]
     },
     "execution_count": 309,
     "metadata": {},
     "output_type": "execute_result"
    }
   ],
   "source": [
    "df.loc[ df['Age'] <= 20, 'Age'] = 0\n",
    "df.loc[(df['Age'] > 20) & (df['Age'] <= 25), 'Age'] = 1\n",
    "df.loc[(df['Age'] > 25) & (df['Age'] <= 30), 'Age'] = 2\n",
    "df.loc[(df['Age'] > 30) & (df['Age'] <= 35), 'Age'] = 3\n",
    "df.loc[ df['Age'] > 35, 'Age']\n",
    "df.head()"
   ]
  },
  {
   "cell_type": "code",
   "execution_count": 310,
   "metadata": {},
   "outputs": [
    {
     "data": {
      "text/html": [
       "<div>\n",
       "<style scoped>\n",
       "    .dataframe tbody tr th:only-of-type {\n",
       "        vertical-align: middle;\n",
       "    }\n",
       "\n",
       "    .dataframe tbody tr th {\n",
       "        vertical-align: top;\n",
       "    }\n",
       "\n",
       "    .dataframe thead th {\n",
       "        text-align: right;\n",
       "    }\n",
       "</style>\n",
       "<table border=\"1\" class=\"dataframe\">\n",
       "  <thead>\n",
       "    <tr style=\"text-align: right;\">\n",
       "      <th></th>\n",
       "      <th>Season</th>\n",
       "      <th>Name</th>\n",
       "      <th>Age</th>\n",
       "      <th>Hometown</th>\n",
       "      <th>State</th>\n",
       "      <th>College</th>\n",
       "      <th>Win_Loss</th>\n",
       "      <th>Height (cm)</th>\n",
       "      <th>Girlfriend While on the Show?</th>\n",
       "      <th>Hair Color</th>\n",
       "      <th>Eye Color</th>\n",
       "    </tr>\n",
       "  </thead>\n",
       "  <tbody>\n",
       "    <tr>\n",
       "      <th>0</th>\n",
       "      <td>15.0</td>\n",
       "      <td>Jed Wyatt</td>\n",
       "      <td>1</td>\n",
       "      <td>Sevierville, Tennessee</td>\n",
       "      <td>TN</td>\n",
       "      <td>Belmont University</td>\n",
       "      <td>1.0</td>\n",
       "      <td>190.50</td>\n",
       "      <td>Yes</td>\n",
       "      <td>1</td>\n",
       "      <td>0</td>\n",
       "    </tr>\n",
       "    <tr>\n",
       "      <th>1</th>\n",
       "      <td>15.0</td>\n",
       "      <td>Tyler Cameron</td>\n",
       "      <td>2</td>\n",
       "      <td>Jupiter, Florida</td>\n",
       "      <td>FL</td>\n",
       "      <td>Wake Forest</td>\n",
       "      <td>0.0</td>\n",
       "      <td>187.96</td>\n",
       "      <td>No</td>\n",
       "      <td>1</td>\n",
       "      <td>2</td>\n",
       "    </tr>\n",
       "    <tr>\n",
       "      <th>2</th>\n",
       "      <td>15.0</td>\n",
       "      <td>Peter Weber</td>\n",
       "      <td>2</td>\n",
       "      <td>Westlake Village, California</td>\n",
       "      <td>CA</td>\n",
       "      <td>Baylor University</td>\n",
       "      <td>0.0</td>\n",
       "      <td>175.25</td>\n",
       "      <td>No</td>\n",
       "      <td>1</td>\n",
       "      <td>0</td>\n",
       "    </tr>\n",
       "    <tr>\n",
       "      <th>3</th>\n",
       "      <td>15.0</td>\n",
       "      <td>Luke Parker</td>\n",
       "      <td>1</td>\n",
       "      <td>Gainesville, Georgia</td>\n",
       "      <td>GA</td>\n",
       "      <td>Faulkner University</td>\n",
       "      <td>0.0</td>\n",
       "      <td>175.00</td>\n",
       "      <td>No</td>\n",
       "      <td>0</td>\n",
       "      <td>0</td>\n",
       "    </tr>\n",
       "    <tr>\n",
       "      <th>4</th>\n",
       "      <td>15.0</td>\n",
       "      <td>Garrett Powell</td>\n",
       "      <td>2</td>\n",
       "      <td>Homewood, Alabama</td>\n",
       "      <td>AL</td>\n",
       "      <td>Mississippi State University</td>\n",
       "      <td>0.0</td>\n",
       "      <td>180.80</td>\n",
       "      <td>No</td>\n",
       "      <td>1</td>\n",
       "      <td>2</td>\n",
       "    </tr>\n",
       "  </tbody>\n",
       "</table>\n",
       "</div>"
      ],
      "text/plain": [
       "   Season            Name  Age                      Hometown State  \\\n",
       "0    15.0       Jed Wyatt    1        Sevierville, Tennessee    TN   \n",
       "1    15.0   Tyler Cameron    2              Jupiter, Florida    FL   \n",
       "2    15.0     Peter Weber    2  Westlake Village, California    CA   \n",
       "3    15.0     Luke Parker    1          Gainesville, Georgia    GA   \n",
       "4    15.0  Garrett Powell    2             Homewood, Alabama    AL   \n",
       "\n",
       "                        College  Win_Loss  Height (cm)  \\\n",
       "0            Belmont University       1.0       190.50   \n",
       "1                   Wake Forest       0.0       187.96   \n",
       "2             Baylor University       0.0       175.25   \n",
       "3           Faulkner University       0.0       175.00   \n",
       "4  Mississippi State University       0.0       180.80   \n",
       "\n",
       "  Girlfriend While on the Show?  Hair Color Eye Color  \n",
       "0                           Yes           1         0  \n",
       "1                            No           1         2  \n",
       "2                            No           1         0  \n",
       "3                            No           0         0  \n",
       "4                            No           1         2  "
      ]
     },
     "execution_count": 310,
     "metadata": {},
     "output_type": "execute_result"
    }
   ],
   "source": [
    "df.loc[ df['Eye Color'] == 'Brown', 'Eye Color'] = 0\n",
    "df.loc[ df['Eye Color'] == 'Blue', 'Eye Color'] = 1\n",
    "df.loc[ df['Eye Color'] == 'Green', 'Eye Color'] = 2\n",
    "df.head()\n"
   ]
  },
  {
   "cell_type": "code",
   "execution_count": 311,
   "metadata": {},
   "outputs": [],
   "source": [
    "df.loc[ df['Girlfriend While on the Show?'] == 'No', 'Girlfriend While on the Show?'] = 0\n",
    "df.loc[ df['Girlfriend While on the Show?'] == 'Yes', 'Girlfriend While on the Show?'] = 1"
   ]
  },
  {
   "cell_type": "code",
   "execution_count": 312,
   "metadata": {},
   "outputs": [
    {
     "data": {
      "text/html": [
       "<div>\n",
       "<style scoped>\n",
       "    .dataframe tbody tr th:only-of-type {\n",
       "        vertical-align: middle;\n",
       "    }\n",
       "\n",
       "    .dataframe tbody tr th {\n",
       "        vertical-align: top;\n",
       "    }\n",
       "\n",
       "    .dataframe thead th {\n",
       "        text-align: right;\n",
       "    }\n",
       "</style>\n",
       "<table border=\"1\" class=\"dataframe\">\n",
       "  <thead>\n",
       "    <tr style=\"text-align: right;\">\n",
       "      <th></th>\n",
       "      <th>Season</th>\n",
       "      <th>Name</th>\n",
       "      <th>Age</th>\n",
       "      <th>Hometown</th>\n",
       "      <th>State</th>\n",
       "      <th>College</th>\n",
       "      <th>Win_Loss</th>\n",
       "      <th>Height (cm)</th>\n",
       "      <th>Girlfriend While on the Show?</th>\n",
       "      <th>Hair Color</th>\n",
       "      <th>Eye Color</th>\n",
       "    </tr>\n",
       "  </thead>\n",
       "  <tbody>\n",
       "    <tr>\n",
       "      <th>0</th>\n",
       "      <td>15.0</td>\n",
       "      <td>Jed Wyatt</td>\n",
       "      <td>1</td>\n",
       "      <td>Sevierville, Tennessee</td>\n",
       "      <td>TN</td>\n",
       "      <td>Belmont University</td>\n",
       "      <td>1.0</td>\n",
       "      <td>190.50</td>\n",
       "      <td>1</td>\n",
       "      <td>1</td>\n",
       "      <td>0</td>\n",
       "    </tr>\n",
       "    <tr>\n",
       "      <th>1</th>\n",
       "      <td>15.0</td>\n",
       "      <td>Tyler Cameron</td>\n",
       "      <td>2</td>\n",
       "      <td>Jupiter, Florida</td>\n",
       "      <td>FL</td>\n",
       "      <td>Wake Forest</td>\n",
       "      <td>0.0</td>\n",
       "      <td>187.96</td>\n",
       "      <td>0</td>\n",
       "      <td>1</td>\n",
       "      <td>2</td>\n",
       "    </tr>\n",
       "    <tr>\n",
       "      <th>2</th>\n",
       "      <td>15.0</td>\n",
       "      <td>Peter Weber</td>\n",
       "      <td>2</td>\n",
       "      <td>Westlake Village, California</td>\n",
       "      <td>CA</td>\n",
       "      <td>Baylor University</td>\n",
       "      <td>0.0</td>\n",
       "      <td>175.25</td>\n",
       "      <td>0</td>\n",
       "      <td>1</td>\n",
       "      <td>0</td>\n",
       "    </tr>\n",
       "    <tr>\n",
       "      <th>3</th>\n",
       "      <td>15.0</td>\n",
       "      <td>Luke Parker</td>\n",
       "      <td>1</td>\n",
       "      <td>Gainesville, Georgia</td>\n",
       "      <td>GA</td>\n",
       "      <td>Faulkner University</td>\n",
       "      <td>0.0</td>\n",
       "      <td>175.00</td>\n",
       "      <td>0</td>\n",
       "      <td>0</td>\n",
       "      <td>0</td>\n",
       "    </tr>\n",
       "    <tr>\n",
       "      <th>4</th>\n",
       "      <td>15.0</td>\n",
       "      <td>Garrett Powell</td>\n",
       "      <td>2</td>\n",
       "      <td>Homewood, Alabama</td>\n",
       "      <td>AL</td>\n",
       "      <td>Mississippi State University</td>\n",
       "      <td>0.0</td>\n",
       "      <td>180.80</td>\n",
       "      <td>0</td>\n",
       "      <td>1</td>\n",
       "      <td>2</td>\n",
       "    </tr>\n",
       "  </tbody>\n",
       "</table>\n",
       "</div>"
      ],
      "text/plain": [
       "   Season            Name  Age                      Hometown State  \\\n",
       "0    15.0       Jed Wyatt    1        Sevierville, Tennessee    TN   \n",
       "1    15.0   Tyler Cameron    2              Jupiter, Florida    FL   \n",
       "2    15.0     Peter Weber    2  Westlake Village, California    CA   \n",
       "3    15.0     Luke Parker    1          Gainesville, Georgia    GA   \n",
       "4    15.0  Garrett Powell    2             Homewood, Alabama    AL   \n",
       "\n",
       "                        College  Win_Loss  Height (cm)  \\\n",
       "0            Belmont University       1.0       190.50   \n",
       "1                   Wake Forest       0.0       187.96   \n",
       "2             Baylor University       0.0       175.25   \n",
       "3           Faulkner University       0.0       175.00   \n",
       "4  Mississippi State University       0.0       180.80   \n",
       "\n",
       "  Girlfriend While on the Show?  Hair Color Eye Color  \n",
       "0                             1           1         0  \n",
       "1                             0           1         2  \n",
       "2                             0           1         0  \n",
       "3                             0           0         0  \n",
       "4                             0           1         2  "
      ]
     },
     "execution_count": 312,
     "metadata": {},
     "output_type": "execute_result"
    }
   ],
   "source": [
    "df.head()"
   ]
  },
  {
   "cell_type": "code",
   "execution_count": 314,
   "metadata": {},
   "outputs": [
    {
     "data": {
      "text/html": [
       "<div>\n",
       "<style scoped>\n",
       "    .dataframe tbody tr th:only-of-type {\n",
       "        vertical-align: middle;\n",
       "    }\n",
       "\n",
       "    .dataframe tbody tr th {\n",
       "        vertical-align: top;\n",
       "    }\n",
       "\n",
       "    .dataframe thead th {\n",
       "        text-align: right;\n",
       "    }\n",
       "</style>\n",
       "<table border=\"1\" class=\"dataframe\">\n",
       "  <thead>\n",
       "    <tr style=\"text-align: right;\">\n",
       "      <th></th>\n",
       "      <th>Season</th>\n",
       "      <th>Name</th>\n",
       "      <th>Age</th>\n",
       "      <th>Hometown</th>\n",
       "      <th>State</th>\n",
       "      <th>College</th>\n",
       "      <th>Win_Loss</th>\n",
       "      <th>Height (cm)</th>\n",
       "      <th>Girlfriend While on the Show?</th>\n",
       "      <th>Hair Color</th>\n",
       "      <th>Eye Color</th>\n",
       "    </tr>\n",
       "  </thead>\n",
       "  <tbody>\n",
       "    <tr>\n",
       "      <th>0</th>\n",
       "      <td>15.0</td>\n",
       "      <td>Jed Wyatt</td>\n",
       "      <td>1</td>\n",
       "      <td>Sevierville, Tennessee</td>\n",
       "      <td>TN</td>\n",
       "      <td>Belmont University</td>\n",
       "      <td>1.0</td>\n",
       "      <td>3.0</td>\n",
       "      <td>1</td>\n",
       "      <td>1</td>\n",
       "      <td>0</td>\n",
       "    </tr>\n",
       "    <tr>\n",
       "      <th>1</th>\n",
       "      <td>15.0</td>\n",
       "      <td>Tyler Cameron</td>\n",
       "      <td>2</td>\n",
       "      <td>Jupiter, Florida</td>\n",
       "      <td>FL</td>\n",
       "      <td>Wake Forest</td>\n",
       "      <td>0.0</td>\n",
       "      <td>3.0</td>\n",
       "      <td>0</td>\n",
       "      <td>1</td>\n",
       "      <td>2</td>\n",
       "    </tr>\n",
       "    <tr>\n",
       "      <th>2</th>\n",
       "      <td>15.0</td>\n",
       "      <td>Peter Weber</td>\n",
       "      <td>2</td>\n",
       "      <td>Westlake Village, California</td>\n",
       "      <td>CA</td>\n",
       "      <td>Baylor University</td>\n",
       "      <td>0.0</td>\n",
       "      <td>1.0</td>\n",
       "      <td>0</td>\n",
       "      <td>1</td>\n",
       "      <td>0</td>\n",
       "    </tr>\n",
       "    <tr>\n",
       "      <th>3</th>\n",
       "      <td>15.0</td>\n",
       "      <td>Luke Parker</td>\n",
       "      <td>1</td>\n",
       "      <td>Gainesville, Georgia</td>\n",
       "      <td>GA</td>\n",
       "      <td>Faulkner University</td>\n",
       "      <td>0.0</td>\n",
       "      <td>1.0</td>\n",
       "      <td>0</td>\n",
       "      <td>0</td>\n",
       "      <td>0</td>\n",
       "    </tr>\n",
       "    <tr>\n",
       "      <th>4</th>\n",
       "      <td>15.0</td>\n",
       "      <td>Garrett Powell</td>\n",
       "      <td>2</td>\n",
       "      <td>Homewood, Alabama</td>\n",
       "      <td>AL</td>\n",
       "      <td>Mississippi State University</td>\n",
       "      <td>0.0</td>\n",
       "      <td>2.0</td>\n",
       "      <td>0</td>\n",
       "      <td>1</td>\n",
       "      <td>2</td>\n",
       "    </tr>\n",
       "  </tbody>\n",
       "</table>\n",
       "</div>"
      ],
      "text/plain": [
       "   Season            Name  Age                      Hometown State  \\\n",
       "0    15.0       Jed Wyatt    1        Sevierville, Tennessee    TN   \n",
       "1    15.0   Tyler Cameron    2              Jupiter, Florida    FL   \n",
       "2    15.0     Peter Weber    2  Westlake Village, California    CA   \n",
       "3    15.0     Luke Parker    1          Gainesville, Georgia    GA   \n",
       "4    15.0  Garrett Powell    2             Homewood, Alabama    AL   \n",
       "\n",
       "                        College  Win_Loss  Height (cm)  \\\n",
       "0            Belmont University       1.0          3.0   \n",
       "1                   Wake Forest       0.0          3.0   \n",
       "2             Baylor University       0.0          1.0   \n",
       "3           Faulkner University       0.0          1.0   \n",
       "4  Mississippi State University       0.0          2.0   \n",
       "\n",
       "  Girlfriend While on the Show?  Hair Color Eye Color  \n",
       "0                             1           1         0  \n",
       "1                             0           1         2  \n",
       "2                             0           1         0  \n",
       "3                             0           0         0  \n",
       "4                             0           1         2  "
      ]
     },
     "execution_count": 314,
     "metadata": {},
     "output_type": "execute_result"
    }
   ],
   "source": [
    "df.loc[ df['Height (cm)'] < 175.00, 'Height (cm)'] = 0\n",
    "df.loc[ (df['Height (cm)'] >= 175.00) & (df['Height (cm)'] <180.00), 'Height (cm)'] = 1\n",
    "df.loc[ (df['Height (cm)'] >= 180.00) & (df['Height (cm)'] <185.00), 'Height (cm)'] = 2\n",
    "df.loc[ (df['Height (cm)'] >= 185.00) & (df['Height (cm)'] <190.00), 'Height (cm)'] = 3\n",
    "df.loc[ df['Height (cm)'] >= 190.00 , 'Height (cm)'] = 3\n",
    "df.head()"
   ]
  },
  {
   "cell_type": "code",
   "execution_count": 317,
   "metadata": {},
   "outputs": [
    {
     "data": {
      "text/html": [
       "<div>\n",
       "<style scoped>\n",
       "    .dataframe tbody tr th:only-of-type {\n",
       "        vertical-align: middle;\n",
       "    }\n",
       "\n",
       "    .dataframe tbody tr th {\n",
       "        vertical-align: top;\n",
       "    }\n",
       "\n",
       "    .dataframe thead th {\n",
       "        text-align: right;\n",
       "    }\n",
       "</style>\n",
       "<table border=\"1\" class=\"dataframe\">\n",
       "  <thead>\n",
       "    <tr style=\"text-align: right;\">\n",
       "      <th></th>\n",
       "      <th>Season</th>\n",
       "      <th>Name</th>\n",
       "      <th>Age</th>\n",
       "      <th>Hometown</th>\n",
       "      <th>State</th>\n",
       "      <th>College</th>\n",
       "      <th>Win_Loss</th>\n",
       "      <th>Height (cm)</th>\n",
       "      <th>Girlfriend While on the Show?</th>\n",
       "      <th>Hair Color</th>\n",
       "      <th>Eye Color</th>\n",
       "    </tr>\n",
       "  </thead>\n",
       "  <tbody>\n",
       "    <tr>\n",
       "      <th>0</th>\n",
       "      <td>15.0</td>\n",
       "      <td>Jed Wyatt</td>\n",
       "      <td>1</td>\n",
       "      <td>Sevierville, Tennessee</td>\n",
       "      <td>TN</td>\n",
       "      <td>Belmont University</td>\n",
       "      <td>1.0</td>\n",
       "      <td>3</td>\n",
       "      <td>1</td>\n",
       "      <td>1</td>\n",
       "      <td>0</td>\n",
       "    </tr>\n",
       "    <tr>\n",
       "      <th>1</th>\n",
       "      <td>15.0</td>\n",
       "      <td>Tyler Cameron</td>\n",
       "      <td>2</td>\n",
       "      <td>Jupiter, Florida</td>\n",
       "      <td>FL</td>\n",
       "      <td>Wake Forest</td>\n",
       "      <td>0.0</td>\n",
       "      <td>3</td>\n",
       "      <td>0</td>\n",
       "      <td>1</td>\n",
       "      <td>2</td>\n",
       "    </tr>\n",
       "    <tr>\n",
       "      <th>2</th>\n",
       "      <td>15.0</td>\n",
       "      <td>Peter Weber</td>\n",
       "      <td>2</td>\n",
       "      <td>Westlake Village, California</td>\n",
       "      <td>CA</td>\n",
       "      <td>Baylor University</td>\n",
       "      <td>0.0</td>\n",
       "      <td>1</td>\n",
       "      <td>0</td>\n",
       "      <td>1</td>\n",
       "      <td>0</td>\n",
       "    </tr>\n",
       "    <tr>\n",
       "      <th>3</th>\n",
       "      <td>15.0</td>\n",
       "      <td>Luke Parker</td>\n",
       "      <td>1</td>\n",
       "      <td>Gainesville, Georgia</td>\n",
       "      <td>GA</td>\n",
       "      <td>Faulkner University</td>\n",
       "      <td>0.0</td>\n",
       "      <td>1</td>\n",
       "      <td>0</td>\n",
       "      <td>0</td>\n",
       "      <td>0</td>\n",
       "    </tr>\n",
       "    <tr>\n",
       "      <th>4</th>\n",
       "      <td>15.0</td>\n",
       "      <td>Garrett Powell</td>\n",
       "      <td>2</td>\n",
       "      <td>Homewood, Alabama</td>\n",
       "      <td>AL</td>\n",
       "      <td>Mississippi State University</td>\n",
       "      <td>0.0</td>\n",
       "      <td>2</td>\n",
       "      <td>0</td>\n",
       "      <td>1</td>\n",
       "      <td>2</td>\n",
       "    </tr>\n",
       "  </tbody>\n",
       "</table>\n",
       "</div>"
      ],
      "text/plain": [
       "   Season            Name  Age                      Hometown State  \\\n",
       "0    15.0       Jed Wyatt    1        Sevierville, Tennessee    TN   \n",
       "1    15.0   Tyler Cameron    2              Jupiter, Florida    FL   \n",
       "2    15.0     Peter Weber    2  Westlake Village, California    CA   \n",
       "3    15.0     Luke Parker    1          Gainesville, Georgia    GA   \n",
       "4    15.0  Garrett Powell    2             Homewood, Alabama    AL   \n",
       "\n",
       "                        College  Win_Loss Height (cm)  \\\n",
       "0            Belmont University       1.0           3   \n",
       "1                   Wake Forest       0.0           3   \n",
       "2             Baylor University       0.0           1   \n",
       "3           Faulkner University       0.0           1   \n",
       "4  Mississippi State University       0.0           2   \n",
       "\n",
       "  Girlfriend While on the Show?  Hair Color Eye Color  \n",
       "0                             1           1         0  \n",
       "1                             0           1         2  \n",
       "2                             0           1         0  \n",
       "3                             0           0         0  \n",
       "4                             0           1         2  "
      ]
     },
     "execution_count": 317,
     "metadata": {},
     "output_type": "execute_result"
    }
   ],
   "source": [
    "df.loc[ df['Height (cm)'] == 0.0, 'Height (cm)'] = '0'\n",
    "df.loc[ df['Height (cm)'] == 1.0, 'Height (cm)'] = '1'\n",
    "df.loc[ df['Height (cm)'] == 2.0, 'Height (cm)'] = '2'\n",
    "df.loc[ df['Height (cm)'] == 3.0, 'Height (cm)'] = '3'\n",
    "df.head()"
   ]
  },
  {
   "cell_type": "code",
   "execution_count": 318,
   "metadata": {},
   "outputs": [
    {
     "data": {
      "text/html": [
       "<div>\n",
       "<style scoped>\n",
       "    .dataframe tbody tr th:only-of-type {\n",
       "        vertical-align: middle;\n",
       "    }\n",
       "\n",
       "    .dataframe tbody tr th {\n",
       "        vertical-align: top;\n",
       "    }\n",
       "\n",
       "    .dataframe thead th {\n",
       "        text-align: right;\n",
       "    }\n",
       "</style>\n",
       "<table border=\"1\" class=\"dataframe\">\n",
       "  <thead>\n",
       "    <tr style=\"text-align: right;\">\n",
       "      <th></th>\n",
       "      <th>Season</th>\n",
       "      <th>Name</th>\n",
       "      <th>Age</th>\n",
       "      <th>Hometown</th>\n",
       "      <th>State</th>\n",
       "      <th>College</th>\n",
       "      <th>Win_Loss</th>\n",
       "      <th>Height (cm)</th>\n",
       "      <th>Girlfriend While on the Show?</th>\n",
       "      <th>Hair Color</th>\n",
       "      <th>Eye Color</th>\n",
       "    </tr>\n",
       "  </thead>\n",
       "  <tbody>\n",
       "    <tr>\n",
       "      <th>0</th>\n",
       "      <td>15.0</td>\n",
       "      <td>Jed Wyatt</td>\n",
       "      <td>1</td>\n",
       "      <td>Sevierville, Tennessee</td>\n",
       "      <td>TN</td>\n",
       "      <td>Belmont University</td>\n",
       "      <td>1.0</td>\n",
       "      <td>3</td>\n",
       "      <td>1</td>\n",
       "      <td>1</td>\n",
       "      <td>0</td>\n",
       "    </tr>\n",
       "    <tr>\n",
       "      <th>1</th>\n",
       "      <td>15.0</td>\n",
       "      <td>Tyler Cameron</td>\n",
       "      <td>2</td>\n",
       "      <td>Jupiter, Florida</td>\n",
       "      <td>FL</td>\n",
       "      <td>Wake Forest</td>\n",
       "      <td>0.0</td>\n",
       "      <td>3</td>\n",
       "      <td>0</td>\n",
       "      <td>1</td>\n",
       "      <td>2</td>\n",
       "    </tr>\n",
       "    <tr>\n",
       "      <th>2</th>\n",
       "      <td>15.0</td>\n",
       "      <td>Peter Weber</td>\n",
       "      <td>2</td>\n",
       "      <td>Westlake Village, California</td>\n",
       "      <td>CA</td>\n",
       "      <td>Baylor University</td>\n",
       "      <td>0.0</td>\n",
       "      <td>1</td>\n",
       "      <td>0</td>\n",
       "      <td>1</td>\n",
       "      <td>0</td>\n",
       "    </tr>\n",
       "    <tr>\n",
       "      <th>3</th>\n",
       "      <td>15.0</td>\n",
       "      <td>Luke Parker</td>\n",
       "      <td>1</td>\n",
       "      <td>Gainesville, Georgia</td>\n",
       "      <td>GA</td>\n",
       "      <td>Faulkner University</td>\n",
       "      <td>0.0</td>\n",
       "      <td>1</td>\n",
       "      <td>0</td>\n",
       "      <td>0</td>\n",
       "      <td>0</td>\n",
       "    </tr>\n",
       "    <tr>\n",
       "      <th>4</th>\n",
       "      <td>15.0</td>\n",
       "      <td>Garrett Powell</td>\n",
       "      <td>2</td>\n",
       "      <td>Homewood, Alabama</td>\n",
       "      <td>AL</td>\n",
       "      <td>Mississippi State University</td>\n",
       "      <td>0.0</td>\n",
       "      <td>2</td>\n",
       "      <td>0</td>\n",
       "      <td>1</td>\n",
       "      <td>2</td>\n",
       "    </tr>\n",
       "  </tbody>\n",
       "</table>\n",
       "</div>"
      ],
      "text/plain": [
       "   Season            Name  Age                      Hometown State  \\\n",
       "0    15.0       Jed Wyatt    1        Sevierville, Tennessee    TN   \n",
       "1    15.0   Tyler Cameron    2              Jupiter, Florida    FL   \n",
       "2    15.0     Peter Weber    2  Westlake Village, California    CA   \n",
       "3    15.0     Luke Parker    1          Gainesville, Georgia    GA   \n",
       "4    15.0  Garrett Powell    2             Homewood, Alabama    AL   \n",
       "\n",
       "                        College  Win_Loss Height (cm)  \\\n",
       "0            Belmont University       1.0           3   \n",
       "1                   Wake Forest       0.0           3   \n",
       "2             Baylor University       0.0           1   \n",
       "3           Faulkner University       0.0           1   \n",
       "4  Mississippi State University       0.0           2   \n",
       "\n",
       "  Girlfriend While on the Show?  Hair Color Eye Color  \n",
       "0                             1           1         0  \n",
       "1                             0           1         2  \n",
       "2                             0           1         0  \n",
       "3                             0           0         0  \n",
       "4                             0           1         2  "
      ]
     },
     "execution_count": 318,
     "metadata": {},
     "output_type": "execute_result"
    }
   ],
   "source": [
    "df.loc[ df['Height (cm)'] == '0', 'Height (cm)'] = 0\n",
    "df.loc[ df['Height (cm)'] == '1', 'Height (cm)'] = 1\n",
    "df.loc[ df['Height (cm)'] == '2', 'Height (cm)'] = 2\n",
    "df.loc[ df['Height (cm)'] == '3', 'Height (cm)'] = 3\n",
    "df.head()"
   ]
  },
  {
   "cell_type": "code",
   "execution_count": 319,
   "metadata": {},
   "outputs": [
    {
     "data": {
      "text/html": [
       "<div>\n",
       "<style scoped>\n",
       "    .dataframe tbody tr th:only-of-type {\n",
       "        vertical-align: middle;\n",
       "    }\n",
       "\n",
       "    .dataframe tbody tr th {\n",
       "        vertical-align: top;\n",
       "    }\n",
       "\n",
       "    .dataframe thead th {\n",
       "        text-align: right;\n",
       "    }\n",
       "</style>\n",
       "<table border=\"1\" class=\"dataframe\">\n",
       "  <thead>\n",
       "    <tr style=\"text-align: right;\">\n",
       "      <th></th>\n",
       "      <th>Season</th>\n",
       "      <th>Name</th>\n",
       "      <th>Age</th>\n",
       "      <th>Hometown</th>\n",
       "      <th>State</th>\n",
       "      <th>College</th>\n",
       "      <th>Win_Loss</th>\n",
       "      <th>Height (cm)</th>\n",
       "      <th>Girlfriend While on the Show?</th>\n",
       "      <th>Hair Color</th>\n",
       "      <th>Eye Color</th>\n",
       "    </tr>\n",
       "  </thead>\n",
       "  <tbody>\n",
       "    <tr>\n",
       "      <th>0</th>\n",
       "      <td>15.0</td>\n",
       "      <td>Jed Wyatt</td>\n",
       "      <td>1</td>\n",
       "      <td>Sevierville, Tennessee</td>\n",
       "      <td>TN</td>\n",
       "      <td>Belmont University</td>\n",
       "      <td>1</td>\n",
       "      <td>3</td>\n",
       "      <td>1</td>\n",
       "      <td>1</td>\n",
       "      <td>0</td>\n",
       "    </tr>\n",
       "    <tr>\n",
       "      <th>1</th>\n",
       "      <td>15.0</td>\n",
       "      <td>Tyler Cameron</td>\n",
       "      <td>2</td>\n",
       "      <td>Jupiter, Florida</td>\n",
       "      <td>FL</td>\n",
       "      <td>Wake Forest</td>\n",
       "      <td>0</td>\n",
       "      <td>3</td>\n",
       "      <td>0</td>\n",
       "      <td>1</td>\n",
       "      <td>2</td>\n",
       "    </tr>\n",
       "    <tr>\n",
       "      <th>2</th>\n",
       "      <td>15.0</td>\n",
       "      <td>Peter Weber</td>\n",
       "      <td>2</td>\n",
       "      <td>Westlake Village, California</td>\n",
       "      <td>CA</td>\n",
       "      <td>Baylor University</td>\n",
       "      <td>0</td>\n",
       "      <td>1</td>\n",
       "      <td>0</td>\n",
       "      <td>1</td>\n",
       "      <td>0</td>\n",
       "    </tr>\n",
       "    <tr>\n",
       "      <th>3</th>\n",
       "      <td>15.0</td>\n",
       "      <td>Luke Parker</td>\n",
       "      <td>1</td>\n",
       "      <td>Gainesville, Georgia</td>\n",
       "      <td>GA</td>\n",
       "      <td>Faulkner University</td>\n",
       "      <td>0</td>\n",
       "      <td>1</td>\n",
       "      <td>0</td>\n",
       "      <td>0</td>\n",
       "      <td>0</td>\n",
       "    </tr>\n",
       "    <tr>\n",
       "      <th>4</th>\n",
       "      <td>15.0</td>\n",
       "      <td>Garrett Powell</td>\n",
       "      <td>2</td>\n",
       "      <td>Homewood, Alabama</td>\n",
       "      <td>AL</td>\n",
       "      <td>Mississippi State University</td>\n",
       "      <td>0</td>\n",
       "      <td>2</td>\n",
       "      <td>0</td>\n",
       "      <td>1</td>\n",
       "      <td>2</td>\n",
       "    </tr>\n",
       "  </tbody>\n",
       "</table>\n",
       "</div>"
      ],
      "text/plain": [
       "   Season            Name  Age                      Hometown State  \\\n",
       "0    15.0       Jed Wyatt    1        Sevierville, Tennessee    TN   \n",
       "1    15.0   Tyler Cameron    2              Jupiter, Florida    FL   \n",
       "2    15.0     Peter Weber    2  Westlake Village, California    CA   \n",
       "3    15.0     Luke Parker    1          Gainesville, Georgia    GA   \n",
       "4    15.0  Garrett Powell    2             Homewood, Alabama    AL   \n",
       "\n",
       "                        College Win_Loss Height (cm)  \\\n",
       "0            Belmont University        1           3   \n",
       "1                   Wake Forest        0           3   \n",
       "2             Baylor University        0           1   \n",
       "3           Faulkner University        0           1   \n",
       "4  Mississippi State University        0           2   \n",
       "\n",
       "  Girlfriend While on the Show?  Hair Color Eye Color  \n",
       "0                             1           1         0  \n",
       "1                             0           1         2  \n",
       "2                             0           1         0  \n",
       "3                             0           0         0  \n",
       "4                             0           1         2  "
      ]
     },
     "execution_count": 319,
     "metadata": {},
     "output_type": "execute_result"
    }
   ],
   "source": [
    "df.loc[ df['Win_Loss'] == 0.0, 'Win_Loss'] = '0'\n",
    "df.loc[ df['Win_Loss'] == 0.0, 'Win_Loss'] = '0'\n",
    "df.head()"
   ]
  },
  {
   "cell_type": "code",
   "execution_count": 320,
   "metadata": {},
   "outputs": [],
   "source": [
    "df.loc[ df['Win_Loss'] == 1.0, 'Win_Loss'] = '1'\n"
   ]
  },
  {
   "cell_type": "code",
   "execution_count": 321,
   "metadata": {},
   "outputs": [
    {
     "data": {
      "text/html": [
       "<div>\n",
       "<style scoped>\n",
       "    .dataframe tbody tr th:only-of-type {\n",
       "        vertical-align: middle;\n",
       "    }\n",
       "\n",
       "    .dataframe tbody tr th {\n",
       "        vertical-align: top;\n",
       "    }\n",
       "\n",
       "    .dataframe thead th {\n",
       "        text-align: right;\n",
       "    }\n",
       "</style>\n",
       "<table border=\"1\" class=\"dataframe\">\n",
       "  <thead>\n",
       "    <tr style=\"text-align: right;\">\n",
       "      <th></th>\n",
       "      <th>Season</th>\n",
       "      <th>Name</th>\n",
       "      <th>Age</th>\n",
       "      <th>Hometown</th>\n",
       "      <th>State</th>\n",
       "      <th>College</th>\n",
       "      <th>Win_Loss</th>\n",
       "      <th>Height (cm)</th>\n",
       "      <th>Girlfriend While on the Show?</th>\n",
       "      <th>Hair Color</th>\n",
       "      <th>Eye Color</th>\n",
       "    </tr>\n",
       "  </thead>\n",
       "  <tbody>\n",
       "    <tr>\n",
       "      <th>0</th>\n",
       "      <td>15.0</td>\n",
       "      <td>Jed Wyatt</td>\n",
       "      <td>1</td>\n",
       "      <td>Sevierville, Tennessee</td>\n",
       "      <td>TN</td>\n",
       "      <td>Belmont University</td>\n",
       "      <td>1</td>\n",
       "      <td>3</td>\n",
       "      <td>1</td>\n",
       "      <td>1</td>\n",
       "      <td>0</td>\n",
       "    </tr>\n",
       "    <tr>\n",
       "      <th>1</th>\n",
       "      <td>15.0</td>\n",
       "      <td>Tyler Cameron</td>\n",
       "      <td>2</td>\n",
       "      <td>Jupiter, Florida</td>\n",
       "      <td>FL</td>\n",
       "      <td>Wake Forest</td>\n",
       "      <td>0</td>\n",
       "      <td>3</td>\n",
       "      <td>0</td>\n",
       "      <td>1</td>\n",
       "      <td>2</td>\n",
       "    </tr>\n",
       "    <tr>\n",
       "      <th>2</th>\n",
       "      <td>15.0</td>\n",
       "      <td>Peter Weber</td>\n",
       "      <td>2</td>\n",
       "      <td>Westlake Village, California</td>\n",
       "      <td>CA</td>\n",
       "      <td>Baylor University</td>\n",
       "      <td>0</td>\n",
       "      <td>1</td>\n",
       "      <td>0</td>\n",
       "      <td>1</td>\n",
       "      <td>0</td>\n",
       "    </tr>\n",
       "    <tr>\n",
       "      <th>3</th>\n",
       "      <td>15.0</td>\n",
       "      <td>Luke Parker</td>\n",
       "      <td>1</td>\n",
       "      <td>Gainesville, Georgia</td>\n",
       "      <td>GA</td>\n",
       "      <td>Faulkner University</td>\n",
       "      <td>0</td>\n",
       "      <td>1</td>\n",
       "      <td>0</td>\n",
       "      <td>0</td>\n",
       "      <td>0</td>\n",
       "    </tr>\n",
       "    <tr>\n",
       "      <th>4</th>\n",
       "      <td>15.0</td>\n",
       "      <td>Garrett Powell</td>\n",
       "      <td>2</td>\n",
       "      <td>Homewood, Alabama</td>\n",
       "      <td>AL</td>\n",
       "      <td>Mississippi State University</td>\n",
       "      <td>0</td>\n",
       "      <td>2</td>\n",
       "      <td>0</td>\n",
       "      <td>1</td>\n",
       "      <td>2</td>\n",
       "    </tr>\n",
       "  </tbody>\n",
       "</table>\n",
       "</div>"
      ],
      "text/plain": [
       "   Season            Name  Age                      Hometown State  \\\n",
       "0    15.0       Jed Wyatt    1        Sevierville, Tennessee    TN   \n",
       "1    15.0   Tyler Cameron    2              Jupiter, Florida    FL   \n",
       "2    15.0     Peter Weber    2  Westlake Village, California    CA   \n",
       "3    15.0     Luke Parker    1          Gainesville, Georgia    GA   \n",
       "4    15.0  Garrett Powell    2             Homewood, Alabama    AL   \n",
       "\n",
       "                        College Win_Loss Height (cm)  \\\n",
       "0            Belmont University        1           3   \n",
       "1                   Wake Forest        0           3   \n",
       "2             Baylor University        0           1   \n",
       "3           Faulkner University        0           1   \n",
       "4  Mississippi State University        0           2   \n",
       "\n",
       "  Girlfriend While on the Show?  Hair Color Eye Color  \n",
       "0                             1           1         0  \n",
       "1                             0           1         2  \n",
       "2                             0           1         0  \n",
       "3                             0           0         0  \n",
       "4                             0           1         2  "
      ]
     },
     "execution_count": 321,
     "metadata": {},
     "output_type": "execute_result"
    }
   ],
   "source": [
    "df.loc[ df['Win_Loss'] == '0', 'Win_Loss'] = 0\n",
    "df.loc[ df['Win_Loss'] == '1', 'Win_Loss'] = 1\n",
    "df.head()"
   ]
  },
  {
   "cell_type": "code",
   "execution_count": 322,
   "metadata": {},
   "outputs": [
    {
     "data": {
      "text/html": [
       "<div>\n",
       "<style scoped>\n",
       "    .dataframe tbody tr th:only-of-type {\n",
       "        vertical-align: middle;\n",
       "    }\n",
       "\n",
       "    .dataframe tbody tr th {\n",
       "        vertical-align: top;\n",
       "    }\n",
       "\n",
       "    .dataframe thead th {\n",
       "        text-align: right;\n",
       "    }\n",
       "</style>\n",
       "<table border=\"1\" class=\"dataframe\">\n",
       "  <thead>\n",
       "    <tr style=\"text-align: right;\">\n",
       "      <th></th>\n",
       "      <th>Season</th>\n",
       "      <th>Age</th>\n",
       "      <th>Win_Loss</th>\n",
       "      <th>Height (cm)</th>\n",
       "      <th>Girlfriend While on the Show?</th>\n",
       "      <th>Hair Color</th>\n",
       "      <th>Eye Color</th>\n",
       "    </tr>\n",
       "  </thead>\n",
       "  <tbody>\n",
       "    <tr>\n",
       "      <th>0</th>\n",
       "      <td>15.0</td>\n",
       "      <td>1</td>\n",
       "      <td>1</td>\n",
       "      <td>3</td>\n",
       "      <td>1</td>\n",
       "      <td>1</td>\n",
       "      <td>0</td>\n",
       "    </tr>\n",
       "    <tr>\n",
       "      <th>1</th>\n",
       "      <td>15.0</td>\n",
       "      <td>2</td>\n",
       "      <td>0</td>\n",
       "      <td>3</td>\n",
       "      <td>0</td>\n",
       "      <td>1</td>\n",
       "      <td>2</td>\n",
       "    </tr>\n",
       "    <tr>\n",
       "      <th>2</th>\n",
       "      <td>15.0</td>\n",
       "      <td>2</td>\n",
       "      <td>0</td>\n",
       "      <td>1</td>\n",
       "      <td>0</td>\n",
       "      <td>1</td>\n",
       "      <td>0</td>\n",
       "    </tr>\n",
       "    <tr>\n",
       "      <th>3</th>\n",
       "      <td>15.0</td>\n",
       "      <td>1</td>\n",
       "      <td>0</td>\n",
       "      <td>1</td>\n",
       "      <td>0</td>\n",
       "      <td>0</td>\n",
       "      <td>0</td>\n",
       "    </tr>\n",
       "    <tr>\n",
       "      <th>4</th>\n",
       "      <td>15.0</td>\n",
       "      <td>2</td>\n",
       "      <td>0</td>\n",
       "      <td>2</td>\n",
       "      <td>0</td>\n",
       "      <td>1</td>\n",
       "      <td>2</td>\n",
       "    </tr>\n",
       "  </tbody>\n",
       "</table>\n",
       "</div>"
      ],
      "text/plain": [
       "   Season  Age Win_Loss Height (cm) Girlfriend While on the Show?  Hair Color  \\\n",
       "0    15.0    1        1           3                             1           1   \n",
       "1    15.0    2        0           3                             0           1   \n",
       "2    15.0    2        0           1                             0           1   \n",
       "3    15.0    1        0           1                             0           0   \n",
       "4    15.0    2        0           2                             0           1   \n",
       "\n",
       "  Eye Color  \n",
       "0         0  \n",
       "1         2  \n",
       "2         0  \n",
       "3         0  \n",
       "4         2  "
      ]
     },
     "execution_count": 322,
     "metadata": {},
     "output_type": "execute_result"
    }
   ],
   "source": [
    "df = df.drop(['Name', 'Hometown','State','College'], axis=1)\n",
    "df.head()"
   ]
  },
  {
   "cell_type": "code",
   "execution_count": 323,
   "metadata": {},
   "outputs": [
    {
     "data": {
      "text/html": [
       "<div>\n",
       "<style scoped>\n",
       "    .dataframe tbody tr th:only-of-type {\n",
       "        vertical-align: middle;\n",
       "    }\n",
       "\n",
       "    .dataframe tbody tr th {\n",
       "        vertical-align: top;\n",
       "    }\n",
       "\n",
       "    .dataframe thead th {\n",
       "        text-align: right;\n",
       "    }\n",
       "</style>\n",
       "<table border=\"1\" class=\"dataframe\">\n",
       "  <thead>\n",
       "    <tr style=\"text-align: right;\">\n",
       "      <th></th>\n",
       "      <th>Season</th>\n",
       "      <th>Age</th>\n",
       "      <th>Win_Loss</th>\n",
       "      <th>Height (cm)</th>\n",
       "      <th>Girlfriend While on the Show?</th>\n",
       "      <th>Hair Color</th>\n",
       "      <th>Eye Color</th>\n",
       "    </tr>\n",
       "  </thead>\n",
       "  <tbody>\n",
       "    <tr>\n",
       "      <th>0</th>\n",
       "      <td>4</td>\n",
       "      <td>1</td>\n",
       "      <td>1</td>\n",
       "      <td>3</td>\n",
       "      <td>1</td>\n",
       "      <td>1</td>\n",
       "      <td>0</td>\n",
       "    </tr>\n",
       "    <tr>\n",
       "      <th>1</th>\n",
       "      <td>4</td>\n",
       "      <td>2</td>\n",
       "      <td>0</td>\n",
       "      <td>3</td>\n",
       "      <td>0</td>\n",
       "      <td>1</td>\n",
       "      <td>2</td>\n",
       "    </tr>\n",
       "    <tr>\n",
       "      <th>2</th>\n",
       "      <td>4</td>\n",
       "      <td>2</td>\n",
       "      <td>0</td>\n",
       "      <td>1</td>\n",
       "      <td>0</td>\n",
       "      <td>1</td>\n",
       "      <td>0</td>\n",
       "    </tr>\n",
       "    <tr>\n",
       "      <th>3</th>\n",
       "      <td>4</td>\n",
       "      <td>1</td>\n",
       "      <td>0</td>\n",
       "      <td>1</td>\n",
       "      <td>0</td>\n",
       "      <td>0</td>\n",
       "      <td>0</td>\n",
       "    </tr>\n",
       "    <tr>\n",
       "      <th>4</th>\n",
       "      <td>4</td>\n",
       "      <td>2</td>\n",
       "      <td>0</td>\n",
       "      <td>2</td>\n",
       "      <td>0</td>\n",
       "      <td>1</td>\n",
       "      <td>2</td>\n",
       "    </tr>\n",
       "  </tbody>\n",
       "</table>\n",
       "</div>"
      ],
      "text/plain": [
       "  Season  Age Win_Loss Height (cm) Girlfriend While on the Show?  Hair Color  \\\n",
       "0      4    1        1           3                             1           1   \n",
       "1      4    2        0           3                             0           1   \n",
       "2      4    2        0           1                             0           1   \n",
       "3      4    1        0           1                             0           0   \n",
       "4      4    2        0           2                             0           1   \n",
       "\n",
       "  Eye Color  \n",
       "0         0  \n",
       "1         2  \n",
       "2         0  \n",
       "3         0  \n",
       "4         2  "
      ]
     },
     "execution_count": 323,
     "metadata": {},
     "output_type": "execute_result"
    }
   ],
   "source": [
    "df.loc[ df['Season'] == 11.0, 'Season'] = '0'\n",
    "df.loc[ df['Season'] == 12.0, 'Season'] = '1'\n",
    "df.loc[ df['Season'] == 13.0, 'Season'] = '2'\n",
    "df.loc[ df['Season'] == 14.0, 'Season'] = '3'\n",
    "df.loc[ df['Season'] == 15.0, 'Season'] = '4'\n",
    "df.head()"
   ]
  },
  {
   "cell_type": "code",
   "execution_count": 324,
   "metadata": {},
   "outputs": [
    {
     "data": {
      "text/html": [
       "<div>\n",
       "<style scoped>\n",
       "    .dataframe tbody tr th:only-of-type {\n",
       "        vertical-align: middle;\n",
       "    }\n",
       "\n",
       "    .dataframe tbody tr th {\n",
       "        vertical-align: top;\n",
       "    }\n",
       "\n",
       "    .dataframe thead th {\n",
       "        text-align: right;\n",
       "    }\n",
       "</style>\n",
       "<table border=\"1\" class=\"dataframe\">\n",
       "  <thead>\n",
       "    <tr style=\"text-align: right;\">\n",
       "      <th></th>\n",
       "      <th>Season</th>\n",
       "      <th>Age</th>\n",
       "      <th>Win_Loss</th>\n",
       "      <th>Height (cm)</th>\n",
       "      <th>Girlfriend While on the Show?</th>\n",
       "      <th>Hair Color</th>\n",
       "      <th>Eye Color</th>\n",
       "    </tr>\n",
       "  </thead>\n",
       "  <tbody>\n",
       "    <tr>\n",
       "      <th>0</th>\n",
       "      <td>4</td>\n",
       "      <td>1</td>\n",
       "      <td>1</td>\n",
       "      <td>3</td>\n",
       "      <td>1</td>\n",
       "      <td>1</td>\n",
       "      <td>0</td>\n",
       "    </tr>\n",
       "    <tr>\n",
       "      <th>1</th>\n",
       "      <td>4</td>\n",
       "      <td>2</td>\n",
       "      <td>0</td>\n",
       "      <td>3</td>\n",
       "      <td>0</td>\n",
       "      <td>1</td>\n",
       "      <td>2</td>\n",
       "    </tr>\n",
       "    <tr>\n",
       "      <th>2</th>\n",
       "      <td>4</td>\n",
       "      <td>2</td>\n",
       "      <td>0</td>\n",
       "      <td>1</td>\n",
       "      <td>0</td>\n",
       "      <td>1</td>\n",
       "      <td>0</td>\n",
       "    </tr>\n",
       "    <tr>\n",
       "      <th>3</th>\n",
       "      <td>4</td>\n",
       "      <td>1</td>\n",
       "      <td>0</td>\n",
       "      <td>1</td>\n",
       "      <td>0</td>\n",
       "      <td>0</td>\n",
       "      <td>0</td>\n",
       "    </tr>\n",
       "    <tr>\n",
       "      <th>4</th>\n",
       "      <td>4</td>\n",
       "      <td>2</td>\n",
       "      <td>0</td>\n",
       "      <td>2</td>\n",
       "      <td>0</td>\n",
       "      <td>1</td>\n",
       "      <td>2</td>\n",
       "    </tr>\n",
       "  </tbody>\n",
       "</table>\n",
       "</div>"
      ],
      "text/plain": [
       "  Season  Age Win_Loss Height (cm) Girlfriend While on the Show?  Hair Color  \\\n",
       "0      4    1        1           3                             1           1   \n",
       "1      4    2        0           3                             0           1   \n",
       "2      4    2        0           1                             0           1   \n",
       "3      4    1        0           1                             0           0   \n",
       "4      4    2        0           2                             0           1   \n",
       "\n",
       "  Eye Color  \n",
       "0         0  \n",
       "1         2  \n",
       "2         0  \n",
       "3         0  \n",
       "4         2  "
      ]
     },
     "execution_count": 324,
     "metadata": {},
     "output_type": "execute_result"
    }
   ],
   "source": [
    "df.loc[ df['Season'] == '0', 'Season'] = 0\n",
    "df.loc[ df['Season'] == '1', 'Season'] = 1\n",
    "df.loc[ df['Season'] == '2', 'Season'] = 2\n",
    "df.loc[ df['Season'] == '3', 'Season'] = 3\n",
    "df.loc[ df['Season'] == '4', 'Season'] = 4\n",
    "df.head()"
   ]
  },
  {
   "cell_type": "code",
   "execution_count": 325,
   "metadata": {},
   "outputs": [
    {
     "data": {
      "text/plain": [
       "((141, 6), (141,), (141, 6))"
      ]
     },
     "execution_count": 325,
     "metadata": {},
     "output_type": "execute_result"
    }
   ],
   "source": []
  },
  {
   "cell_type": "code",
   "execution_count": 332,
   "metadata": {},
   "outputs": [
    {
     "data": {
      "text/html": [
       "<div>\n",
       "<style scoped>\n",
       "    .dataframe tbody tr th:only-of-type {\n",
       "        vertical-align: middle;\n",
       "    }\n",
       "\n",
       "    .dataframe tbody tr th {\n",
       "        vertical-align: top;\n",
       "    }\n",
       "\n",
       "    .dataframe thead th {\n",
       "        text-align: right;\n",
       "    }\n",
       "</style>\n",
       "<table border=\"1\" class=\"dataframe\">\n",
       "  <thead>\n",
       "    <tr style=\"text-align: right;\">\n",
       "      <th></th>\n",
       "      <th>Season</th>\n",
       "      <th>Age</th>\n",
       "      <th>Win_Loss</th>\n",
       "      <th>Height (cm)</th>\n",
       "      <th>Girlfriend While on the Show?</th>\n",
       "      <th>Hair Color</th>\n",
       "      <th>Eye Color</th>\n",
       "      <th>no.</th>\n",
       "    </tr>\n",
       "  </thead>\n",
       "  <tbody>\n",
       "    <tr>\n",
       "      <th>0</th>\n",
       "      <td>4</td>\n",
       "      <td>1</td>\n",
       "      <td>1</td>\n",
       "      <td>3</td>\n",
       "      <td>1</td>\n",
       "      <td>1</td>\n",
       "      <td>0</td>\n",
       "      <td>0</td>\n",
       "    </tr>\n",
       "    <tr>\n",
       "      <th>1</th>\n",
       "      <td>4</td>\n",
       "      <td>2</td>\n",
       "      <td>0</td>\n",
       "      <td>3</td>\n",
       "      <td>0</td>\n",
       "      <td>1</td>\n",
       "      <td>2</td>\n",
       "      <td>1</td>\n",
       "    </tr>\n",
       "    <tr>\n",
       "      <th>2</th>\n",
       "      <td>4</td>\n",
       "      <td>2</td>\n",
       "      <td>0</td>\n",
       "      <td>1</td>\n",
       "      <td>0</td>\n",
       "      <td>1</td>\n",
       "      <td>0</td>\n",
       "      <td>2</td>\n",
       "    </tr>\n",
       "    <tr>\n",
       "      <th>3</th>\n",
       "      <td>4</td>\n",
       "      <td>1</td>\n",
       "      <td>0</td>\n",
       "      <td>1</td>\n",
       "      <td>0</td>\n",
       "      <td>0</td>\n",
       "      <td>0</td>\n",
       "      <td>3</td>\n",
       "    </tr>\n",
       "    <tr>\n",
       "      <th>4</th>\n",
       "      <td>4</td>\n",
       "      <td>2</td>\n",
       "      <td>0</td>\n",
       "      <td>2</td>\n",
       "      <td>0</td>\n",
       "      <td>1</td>\n",
       "      <td>2</td>\n",
       "      <td>4</td>\n",
       "    </tr>\n",
       "  </tbody>\n",
       "</table>\n",
       "</div>"
      ],
      "text/plain": [
       "  Season  Age Win_Loss Height (cm) Girlfriend While on the Show?  Hair Color  \\\n",
       "0      4    1        1           3                             1           1   \n",
       "1      4    2        0           3                             0           1   \n",
       "2      4    2        0           1                             0           1   \n",
       "3      4    1        0           1                             0           0   \n",
       "4      4    2        0           2                             0           1   \n",
       "\n",
       "  Eye Color  no.  \n",
       "0         0    0  \n",
       "1         2    1  \n",
       "2         0    2  \n",
       "3         0    3  \n",
       "4         2    4  "
      ]
     },
     "execution_count": 332,
     "metadata": {},
     "output_type": "execute_result"
    }
   ],
   "source": [
    "x=[]\n",
    "for i in range(0,141):\n",
    "    x.append(i)\n",
    "df['no.']=x\n",
    "df.head()"
   ]
  },
  {
   "cell_type": "code",
   "execution_count": 337,
   "metadata": {},
   "outputs": [
    {
     "data": {
      "text/plain": [
       "((141, 7), (141,), (141, 7))"
      ]
     },
     "execution_count": 337,
     "metadata": {},
     "output_type": "execute_result"
    }
   ],
   "source": [
    "X_train = df.drop(\"Win_Loss\", axis=1)\n",
    "Y_train = df[\"Win_Loss\"]\n",
    "X_test  = df.drop(\"no.\", axis=1).copy()\n",
    "X_train.shape, Y_train.shape, X_test.shape"
   ]
  },
  {
   "cell_type": "code",
   "execution_count": 340,
   "metadata": {},
   "outputs": [],
   "source": [
    "from sklearn.linear_model import LogisticRegression"
   ]
  },
  {
   "cell_type": "code",
   "execution_count": 348,
   "metadata": {},
   "outputs": [],
   "source": [
    "convert_dict = {'Season': int, 'Age': int,'Height (cm)': int,'Girlfriend While on the Show?': int, 'Hair Color':int,'Eye Color':int,'no.':int}\n",
    "df = df.astype(convert_dict)"
   ]
  },
  {
   "cell_type": "code",
   "execution_count": 349,
   "metadata": {},
   "outputs": [],
   "source": [
    "convert_dic={'Win_Loss':int}\n",
    "df=df.astype(convert_dic)"
   ]
  },
  {
   "cell_type": "code",
   "execution_count": 350,
   "metadata": {},
   "outputs": [
    {
     "name": "stdout",
     "output_type": "stream",
     "text": [
      "<class 'pandas.core.frame.DataFrame'>\n",
      "Int64Index: 141 entries, 0 to 140\n",
      "Data columns (total 8 columns):\n",
      " #   Column                         Non-Null Count  Dtype\n",
      "---  ------                         --------------  -----\n",
      " 0   Season                         141 non-null    int32\n",
      " 1   Age                            141 non-null    int32\n",
      " 2   Win_Loss                       141 non-null    int32\n",
      " 3   Height (cm)                    141 non-null    int32\n",
      " 4   Girlfriend While on the Show?  141 non-null    int32\n",
      " 5   Hair Color                     141 non-null    int32\n",
      " 6   Eye Color                      141 non-null    int32\n",
      " 7   no.                            141 non-null    int32\n",
      "dtypes: int32(8)\n",
      "memory usage: 5.5 KB\n"
     ]
    }
   ],
   "source": [
    "df.info()"
   ]
  },
  {
   "cell_type": "code",
   "execution_count": 351,
   "metadata": {},
   "outputs": [
    {
     "data": {
      "text/plain": [
       "((141, 7), (141,), (141, 7))"
      ]
     },
     "execution_count": 351,
     "metadata": {},
     "output_type": "execute_result"
    }
   ],
   "source": [
    "X_train = df.drop(\"Win_Loss\", axis=1)\n",
    "Y_train = df[\"Win_Loss\"]\n",
    "X_test  = df.drop(\"no.\", axis=1).copy()\n",
    "X_train.shape, Y_train.shape, X_test.shape"
   ]
  },
  {
   "cell_type": "code",
   "execution_count": 354,
   "metadata": {},
   "outputs": [
    {
     "name": "stderr",
     "output_type": "stream",
     "text": [
      "C:\\Users\\DELL\\anaconda3\\lib\\site-packages\\sklearn\\linear_model\\_logistic.py:762: ConvergenceWarning:\n",
      "\n",
      "lbfgs failed to converge (status=1):\n",
      "STOP: TOTAL NO. of ITERATIONS REACHED LIMIT.\n",
      "\n",
      "Increase the number of iterations (max_iter) or scale the data as shown in:\n",
      "    https://scikit-learn.org/stable/modules/preprocessing.html\n",
      "Please also refer to the documentation for alternative solver options:\n",
      "    https://scikit-learn.org/stable/modules/linear_model.html#logistic-regression\n",
      "\n"
     ]
    },
    {
     "data": {
      "text/plain": [
       "97.16"
      ]
     },
     "execution_count": 354,
     "metadata": {},
     "output_type": "execute_result"
    }
   ],
   "source": [
    "# Logistic Regression\n",
    "\n",
    "logreg = LogisticRegression()\n",
    "logreg.fit(X_train, Y_train)\n",
    "Y_pred = logreg.predict(X_test)\n",
    "acc_log = round(logreg.score(X_train, Y_train) * 100, 2)\n",
    "acc_log"
   ]
  },
  {
   "cell_type": "code",
   "execution_count": 355,
   "metadata": {},
   "outputs": [
    {
     "data": {
      "text/html": [
       "<div>\n",
       "<style scoped>\n",
       "    .dataframe tbody tr th:only-of-type {\n",
       "        vertical-align: middle;\n",
       "    }\n",
       "\n",
       "    .dataframe tbody tr th {\n",
       "        vertical-align: top;\n",
       "    }\n",
       "\n",
       "    .dataframe thead th {\n",
       "        text-align: right;\n",
       "    }\n",
       "</style>\n",
       "<table border=\"1\" class=\"dataframe\">\n",
       "  <thead>\n",
       "    <tr style=\"text-align: right;\">\n",
       "      <th></th>\n",
       "      <th>Feature</th>\n",
       "      <th>Correlation</th>\n",
       "    </tr>\n",
       "  </thead>\n",
       "  <tbody>\n",
       "    <tr>\n",
       "      <th>3</th>\n",
       "      <td>Girlfriend While on the Show?</td>\n",
       "      <td>0.756026</td>\n",
       "    </tr>\n",
       "    <tr>\n",
       "      <th>2</th>\n",
       "      <td>Height (cm)</td>\n",
       "      <td>0.325122</td>\n",
       "    </tr>\n",
       "    <tr>\n",
       "      <th>1</th>\n",
       "      <td>Win_Loss</td>\n",
       "      <td>0.161088</td>\n",
       "    </tr>\n",
       "    <tr>\n",
       "      <th>4</th>\n",
       "      <td>Hair Color</td>\n",
       "      <td>0.143609</td>\n",
       "    </tr>\n",
       "    <tr>\n",
       "      <th>6</th>\n",
       "      <td>no.</td>\n",
       "      <td>-0.053798</td>\n",
       "    </tr>\n",
       "    <tr>\n",
       "      <th>5</th>\n",
       "      <td>Eye Color</td>\n",
       "      <td>-0.462699</td>\n",
       "    </tr>\n",
       "    <tr>\n",
       "      <th>0</th>\n",
       "      <td>Age</td>\n",
       "      <td>-1.341533</td>\n",
       "    </tr>\n",
       "  </tbody>\n",
       "</table>\n",
       "</div>"
      ],
      "text/plain": [
       "                         Feature  Correlation\n",
       "3  Girlfriend While on the Show?     0.756026\n",
       "2                    Height (cm)     0.325122\n",
       "1                       Win_Loss     0.161088\n",
       "4                     Hair Color     0.143609\n",
       "6                            no.    -0.053798\n",
       "5                      Eye Color    -0.462699\n",
       "0                            Age    -1.341533"
      ]
     },
     "execution_count": 355,
     "metadata": {},
     "output_type": "execute_result"
    }
   ],
   "source": [
    "coeff_df = pd.DataFrame(df.columns.delete(0))\n",
    "coeff_df.columns = ['Feature']\n",
    "coeff_df[\"Correlation\"] = pd.Series(logreg.coef_[0])\n",
    "\n",
    "coeff_df.sort_values(by='Correlation', ascending=False)"
   ]
  },
  {
   "cell_type": "code",
   "execution_count": 368,
   "metadata": {},
   "outputs": [
    {
     "data": {
      "text/plain": [
       "96.454"
      ]
     },
     "execution_count": 368,
     "metadata": {},
     "output_type": "execute_result"
    }
   ],
   "source": [
    "# Support Vector Machines\n",
    "\n",
    "svc = SVC()\n",
    "svc.fit(X_train, Y_train)\n",
    "Y_pred = svc.predict(X_test)\n",
    "acc_svc = round(svc.score(X_train, Y_train) * 100, 3)\n",
    "acc_svc"
   ]
  },
  {
   "cell_type": "code",
   "execution_count": 367,
   "metadata": {},
   "outputs": [
    {
     "data": {
      "text/plain": [
       "96.454"
      ]
     },
     "execution_count": 367,
     "metadata": {},
     "output_type": "execute_result"
    }
   ],
   "source": [
    "knn = KNeighborsClassifier(n_neighbors = 3)\n",
    "knn.fit(X_train, Y_train)\n",
    "Y_pred = knn.predict(X_test)\n",
    "acc_knn = round(knn.score(X_train, Y_train) * 100, 3)\n",
    "acc_knn"
   ]
  },
  {
   "cell_type": "code",
   "execution_count": 366,
   "metadata": {},
   "outputs": [
    {
     "data": {
      "text/plain": [
       "19.858"
      ]
     },
     "execution_count": 366,
     "metadata": {},
     "output_type": "execute_result"
    }
   ],
   "source": [
    "# Gaussian Naive Bayes\n",
    "\n",
    "gaussian = GaussianNB()\n",
    "gaussian.fit(X_train, Y_train)\n",
    "Y_pred = gaussian.predict(X_test)\n",
    "acc_gaussian = round(gaussian.score(X_train, Y_train) * 100, 3)\n",
    "acc_gaussian"
   ]
  },
  {
   "cell_type": "code",
   "execution_count": 364,
   "metadata": {},
   "outputs": [
    {
     "data": {
      "text/plain": [
       "96.454"
      ]
     },
     "execution_count": 364,
     "metadata": {},
     "output_type": "execute_result"
    }
   ],
   "source": [
    "# Perceptron\n",
    "\n",
    "perceptron = Perceptron()\n",
    "perceptron.fit(X_train, Y_train)\n",
    "Y_pred = perceptron.predict(X_test)\n",
    "acc_perceptron = round(perceptron.score(X_train, Y_train) * 100, 3)\n",
    "acc_perceptron"
   ]
  },
  {
   "cell_type": "code",
   "execution_count": 363,
   "metadata": {},
   "outputs": [
    {
     "name": "stderr",
     "output_type": "stream",
     "text": [
      "C:\\Users\\DELL\\anaconda3\\lib\\site-packages\\sklearn\\svm\\_base.py:975: ConvergenceWarning:\n",
      "\n",
      "Liblinear failed to converge, increase the number of iterations.\n",
      "\n"
     ]
    },
    {
     "data": {
      "text/plain": [
       "95.035"
      ]
     },
     "execution_count": 363,
     "metadata": {},
     "output_type": "execute_result"
    }
   ],
   "source": [
    "# Linear SVC\n",
    "\n",
    "linear_svc = LinearSVC()\n",
    "linear_svc.fit(X_train, Y_train)\n",
    "Y_pred = linear_svc.predict(X_test)\n",
    "acc_linear_svc = round(linear_svc.score(X_train, Y_train) * 100, 3)\n",
    "acc_linear_svc"
   ]
  },
  {
   "cell_type": "code",
   "execution_count": 369,
   "metadata": {},
   "outputs": [
    {
     "data": {
      "text/plain": [
       "97.16"
      ]
     },
     "execution_count": 369,
     "metadata": {},
     "output_type": "execute_result"
    }
   ],
   "source": [
    "# Stochastic Gradient Descent\n",
    "\n",
    "sgd = SGDClassifier()\n",
    "sgd.fit(X_train, Y_train)\n",
    "Y_pred = sgd.predict(X_test)\n",
    "acc_sgd = round(sgd.score(X_train, Y_train) * 100, 2)\n",
    "acc_sgd"
   ]
  },
  {
   "cell_type": "code",
   "execution_count": 370,
   "metadata": {},
   "outputs": [
    {
     "data": {
      "text/plain": [
       "100.0"
      ]
     },
     "execution_count": 370,
     "metadata": {},
     "output_type": "execute_result"
    }
   ],
   "source": [
    "# Decision Tree\n",
    "\n",
    "decision_tree = DecisionTreeClassifier()\n",
    "decision_tree.fit(X_train, Y_train)\n",
    "Y_pred = decision_tree.predict(X_test)\n",
    "acc_decision_tree = round(decision_tree.score(X_train, Y_train) * 100, 2)\n",
    "acc_decision_tree"
   ]
  },
  {
   "cell_type": "code",
   "execution_count": 371,
   "metadata": {},
   "outputs": [
    {
     "data": {
      "text/plain": [
       "100.0"
      ]
     },
     "execution_count": 371,
     "metadata": {},
     "output_type": "execute_result"
    }
   ],
   "source": [
    "# Random Forest\n",
    "\n",
    "random_forest = RandomForestClassifier(n_estimators=100)\n",
    "random_forest.fit(X_train, Y_train)\n",
    "Y_pred = random_forest.predict(X_test)\n",
    "random_forest.score(X_train, Y_train)\n",
    "acc_random_forest = round(random_forest.score(X_train, Y_train) * 100, 2)\n",
    "acc_random_forest"
   ]
  },
  {
   "cell_type": "code",
   "execution_count": 372,
   "metadata": {},
   "outputs": [
    {
     "data": {
      "text/html": [
       "<div>\n",
       "<style scoped>\n",
       "    .dataframe tbody tr th:only-of-type {\n",
       "        vertical-align: middle;\n",
       "    }\n",
       "\n",
       "    .dataframe tbody tr th {\n",
       "        vertical-align: top;\n",
       "    }\n",
       "\n",
       "    .dataframe thead th {\n",
       "        text-align: right;\n",
       "    }\n",
       "</style>\n",
       "<table border=\"1\" class=\"dataframe\">\n",
       "  <thead>\n",
       "    <tr style=\"text-align: right;\">\n",
       "      <th></th>\n",
       "      <th>Model</th>\n",
       "      <th>Score</th>\n",
       "    </tr>\n",
       "  </thead>\n",
       "  <tbody>\n",
       "    <tr>\n",
       "      <th>3</th>\n",
       "      <td>Random Forest</td>\n",
       "      <td>100.000</td>\n",
       "    </tr>\n",
       "    <tr>\n",
       "      <th>8</th>\n",
       "      <td>Decision Tree</td>\n",
       "      <td>100.000</td>\n",
       "    </tr>\n",
       "    <tr>\n",
       "      <th>2</th>\n",
       "      <td>Logistic Regression</td>\n",
       "      <td>97.160</td>\n",
       "    </tr>\n",
       "    <tr>\n",
       "      <th>6</th>\n",
       "      <td>Stochastic Gradient Decent</td>\n",
       "      <td>97.160</td>\n",
       "    </tr>\n",
       "    <tr>\n",
       "      <th>0</th>\n",
       "      <td>Support Vector Machines</td>\n",
       "      <td>96.454</td>\n",
       "    </tr>\n",
       "    <tr>\n",
       "      <th>1</th>\n",
       "      <td>KNN</td>\n",
       "      <td>96.454</td>\n",
       "    </tr>\n",
       "    <tr>\n",
       "      <th>5</th>\n",
       "      <td>Perceptron</td>\n",
       "      <td>96.454</td>\n",
       "    </tr>\n",
       "    <tr>\n",
       "      <th>7</th>\n",
       "      <td>Linear SVC</td>\n",
       "      <td>95.035</td>\n",
       "    </tr>\n",
       "    <tr>\n",
       "      <th>4</th>\n",
       "      <td>Naive Bayes</td>\n",
       "      <td>19.858</td>\n",
       "    </tr>\n",
       "  </tbody>\n",
       "</table>\n",
       "</div>"
      ],
      "text/plain": [
       "                        Model    Score\n",
       "3               Random Forest  100.000\n",
       "8               Decision Tree  100.000\n",
       "2         Logistic Regression   97.160\n",
       "6  Stochastic Gradient Decent   97.160\n",
       "0     Support Vector Machines   96.454\n",
       "1                         KNN   96.454\n",
       "5                  Perceptron   96.454\n",
       "7                  Linear SVC   95.035\n",
       "4                 Naive Bayes   19.858"
      ]
     },
     "execution_count": 372,
     "metadata": {},
     "output_type": "execute_result"
    }
   ],
   "source": [
    "models = pd.DataFrame({\n",
    "    'Model': ['Support Vector Machines', 'KNN', 'Logistic Regression', \n",
    "              'Random Forest', 'Naive Bayes', 'Perceptron', \n",
    "              'Stochastic Gradient Decent', 'Linear SVC', \n",
    "              'Decision Tree'],\n",
    "    'Score': [acc_svc, acc_knn, acc_log, \n",
    "              acc_random_forest, acc_gaussian, acc_perceptron, \n",
    "              acc_sgd, acc_linear_svc, acc_decision_tree]})\n",
    "models.sort_values(by='Score', ascending=False)"
   ]
  },
  {
   "cell_type": "code",
   "execution_count": 375,
   "metadata": {},
   "outputs": [],
   "source": [
    "submission = pd.DataFrame({\n",
    "        \"no.\": df[\"no.\"],\n",
    "        \"Win_Loss\": Y_pred\n",
    "    })\n",
    "submission.to_csv(\"submission2.csv\", index=False)"
   ]
  },
  {
   "cell_type": "code",
   "execution_count": null,
   "metadata": {},
   "outputs": [],
   "source": []
  }
 ],
 "metadata": {
  "kernelspec": {
   "display_name": "Python 3",
   "language": "python",
   "name": "python3"
  },
  "language_info": {
   "codemirror_mode": {
    "name": "ipython",
    "version": 3
   },
   "file_extension": ".py",
   "mimetype": "text/x-python",
   "name": "python",
   "nbconvert_exporter": "python",
   "pygments_lexer": "ipython3",
   "version": "3.7.6"
  }
 },
 "nbformat": 4,
 "nbformat_minor": 4
}
